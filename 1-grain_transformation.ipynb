{
 "cells": [
  {
   "cell_type": "code",
   "execution_count": 1,
   "metadata": {},
   "outputs": [],
   "source": [
    "import pandas as pd\n",
    "import numpy as np\n",
    "import seaborn as sns\n",
    "import sklearn as sklearn\n",
    "import seaborn as sns\n",
    "import matplotlib.pyplot as plt\n",
    "%matplotlib inline\n",
    "from scipy import stats\n",
    "import statistics as es \n",
    "import csv\n",
    "import re \n",
    "import warnings\n",
    "from sklearn.linear_model import LogisticRegression\n",
    "warnings.filterwarnings('ignore')\n",
    "pd.set_option('display.max_columns', None)\n",
    "\n",
    "\n",
    "\n"
   ]
  },
  {
   "cell_type": "markdown",
   "metadata": {},
   "source": [
    "## ENEM  DATASET"
   ]
  },
  {
   "cell_type": "code",
   "execution_count": 2,
   "metadata": {},
   "outputs": [],
   "source": [
    "#Choose just useful features for us \n",
    "fenem= ['NU_INSCRICAO','CO_ESCOLA','Q001','Q002','Q003','Q004','Q005','Q006', 'Q007', 'Q008', 'Q009', 'Q010', \n",
    "        'Q011','Q012','Q013','Q014','Q015','Q016','Q017','Q018','Q019','Q020','Q021','Q022','Q023','Q024','Q025',\n",
    "        'Q026','Q027', 'TP_COR_RACA',\n",
    "        'NU_NOTA_CN', 'NU_NOTA_CH', 'NU_NOTA_LC', 'NU_NOTA_MT', 'NU_NOTA_REDACAO',\n",
    "       'IN_TREINEIRO', 'TP_ST_CONCLUSAO', 'TP_ESCOLA', 'TP_ENSINO','TP_ESTADO_CIVIL', 'TP_NACIONALIDADE', 'TP_SEXO', \n",
    "        'NU_IDADE']\n",
    "enem17a=pd.read_csv(\"~/data/Enem/MICRODADOS_ENEM_2017.csv\", sep=';',encoding=\"iso-8859-2\", usecols = fenem)\n",
    "enem18a=pd.read_csv(\"~/data/Enem/MICRODADOS_ENEM_2018.csv\", sep=';',encoding=\"iso-8859-2\", usecols = fenem)"
   ]
  },
  {
   "cell_type": "code",
   "execution_count": 3,
   "metadata": {},
   "outputs": [],
   "source": [
    "#category=(['TP_COR_RACA'])\n",
    "#enem17a[category]= enem17a[category].astype('object')\n",
    "#enem18a[category]= enem17a[category].astype('object')"
   ]
  },
  {
   "cell_type": "code",
   "execution_count": 6,
   "metadata": {},
   "outputs": [],
   "source": [
    "e17 = enem17a.copy()\n",
    "e18 = enem18a.copy()\n"
   ]
  },
  {
   "cell_type": "code",
   "execution_count": 7,
   "metadata": {},
   "outputs": [
    {
     "name": "stdout",
     "output_type": "stream",
     "text": [
      "There are 5513747 students of 32253 Schools in ENEM 2018\n"
     ]
    }
   ],
   "source": [
    "print (\"There are\", e18.shape[0], \"students\",  \"of\", e18.CO_ESCOLA.value_counts().count() ,\"Schools in ENEM 2018\")\n",
    "#enem18.head()"
   ]
  },
  {
   "cell_type": "code",
   "execution_count": null,
   "metadata": {},
   "outputs": [],
   "source": []
  },
  {
   "cell_type": "markdown",
   "metadata": {},
   "source": [
    "## SCHOOL CENSUS DATASET"
   ]
  },
  {
   "cell_type": "code",
   "execution_count": 8,
   "metadata": {},
   "outputs": [],
   "source": [
    "fcenso= ['CO_ENTIDADE','IN_AGUA_INEXISTENTE','IN_ENERGIA_INEXISTENTE', 'IN_ESGOTO_INEXISTENTE',\n",
    "         'IN_SALA_DIRETORIA','IN_EQUIP_TV','IN_COMPUTADOR','IN_EQUIP_IMPRESSORA', 'IN_EQUIP_DVD', ]\n",
    "censo17a=pd.read_csv(\"~/data/censo2017/ESCOLAS.CSV\", sep='|', encoding=\"iso-8859-2\", usecols=fcenso)\n",
    "censo18a=pd.read_csv(\"~/data/censo2018/ESCOLAS.CSV\", sep='|', encoding=\"iso-8859-2\", usecols=fcenso)\n"
   ]
  },
  {
   "cell_type": "code",
   "execution_count": 9,
   "metadata": {},
   "outputs": [],
   "source": [
    "c17 = censo17a.copy()\n",
    "c18 = censo18a.copy()"
   ]
  },
  {
   "cell_type": "code",
   "execution_count": 10,
   "metadata": {},
   "outputs": [
    {
     "name": "stdout",
     "output_type": "stream",
     "text": [
      "There are 286014 schools in CENSO 2018\n"
     ]
    }
   ],
   "source": [
    "print (\"There are\", c18.shape[0], \"schools in CENSO 2018\")"
   ]
  },
  {
   "cell_type": "code",
   "execution_count": 11,
   "metadata": {},
   "outputs": [],
   "source": [
    "#censo18.loc[censo18.IN_AGUA_INEXISTENTE.isnull()==True].head()"
   ]
  },
  {
   "cell_type": "markdown",
   "metadata": {},
   "source": [
    "#### Join dataset in student grain for scope filtering"
   ]
  },
  {
   "cell_type": "code",
   "execution_count": 12,
   "metadata": {},
   "outputs": [
    {
     "name": "stdout",
     "output_type": "stream",
     "text": [
      "Will be dropped out 4064926 who does have school enrollment\n"
     ]
    }
   ],
   "source": [
    "#Students without schools is useless\n",
    "print(\"Will be dropped out\" , (e18.CO_ESCOLA.isnull()).sum(), 'who does have school enrollment')\n",
    "e17.dropna(inplace = True, axis=0, subset=['CO_ESCOLA'])\n",
    "e18.dropna(inplace = True, axis=0, subset=['CO_ESCOLA'])"
   ]
  },
  {
   "cell_type": "code",
   "execution_count": 13,
   "metadata": {},
   "outputs": [],
   "source": [
    "#Join datasets\n",
    "enem17 = pd.merge(e17, c17, left_on='CO_ESCOLA', right_on='CO_ENTIDADE', how='left')\n",
    "enem17.drop('CO_ENTIDADE', inplace = True, axis=1)\n",
    "enem18 = pd.merge(e18, c18, left_on='CO_ESCOLA', right_on='CO_ENTIDADE', how='left')\n",
    "enem18.drop('CO_ENTIDADE', inplace = True, axis=1)\n"
   ]
  },
  {
   "cell_type": "markdown",
   "metadata": {},
   "source": [
    "## DOMAIN FILTER"
   ]
  },
  {
   "cell_type": "code",
   "execution_count": 14,
   "metadata": {},
   "outputs": [
    {
     "data": {
      "text/plain": [
       "IN_TREINEIRO          0\n",
       "TP_ST_CONCLUSAO       0\n",
       "TP_ESCOLA             0\n",
       "TP_ENSINO           175\n",
       "TP_NACIONALIDADE      0\n",
       "Q027                  0\n",
       "dtype: int64"
      ]
     },
     "execution_count": 14,
     "metadata": {},
     "output_type": "execute_result"
    }
   ],
   "source": [
    "#Will disconsider null values in domain filter. There is an insignificant size injust one feature\n",
    "filters = (['IN_TREINEIRO','TP_ST_CONCLUSAO', 'TP_ESCOLA', 'TP_ENSINO', 'TP_NACIONALIDADE', 'Q027'])\n",
    "enem18[filters].isnull().sum()"
   ]
  },
  {
   "cell_type": "code",
   "execution_count": 15,
   "metadata": {},
   "outputs": [
    {
     "name": "stdout",
     "output_type": "stream",
     "text": [
      "Will be dropped more 0 who are just trainning\n",
      "more... 0 who aren´t on last secoNdary school year\n",
      "little bit more... 311330 who does not study in public school \n",
      " Public school in all secondary level... 97274\n",
      "more one filter: 119839 who does not have regular curriculum\n",
      "the last: 897 who are foreign\n"
     ]
    }
   ],
   "source": [
    "print(\"Will be dropped more\" , (enem18.IN_TREINEIRO == 1).sum(), 'who are just trainning')\n",
    "enem17 = enem17.loc[(enem17.IN_TREINEIRO !=1)]\n",
    "enem18 = enem18.loc[(enem18.IN_TREINEIRO !=1)]\n",
    "print(\"more...\" , (enem18.TP_ST_CONCLUSAO!= 2).sum(), 'who aren´t on last secoNdary school year')\n",
    "enem17 = enem17.loc[(enem17.TP_ST_CONCLUSAO==2)]\n",
    "enem18 = enem18.loc[(enem18.TP_ST_CONCLUSAO==2)]               \n",
    "print(\"little bit more...\" , (enem18.TP_ESCOLA!=2).sum(), 'who does not study in public school ')\n",
    "enem17 = enem17.loc[(enem17.TP_ESCOLA==2)]\n",
    "enem18 = enem18.loc[(enem18.TP_ESCOLA==2)]   \n",
    "print(\" Public school in all secondary level...\" ,(enem18.Q027!='A').sum())\n",
    "enem17 = enem17.loc[(enem17.Q027=='A')]\n",
    "enem18 = enem18.loc[(enem18.Q027=='A')]     \n",
    "print(\"more one filter:\" , (enem18.TP_ENSINO !=1).sum(), 'who does not have regular curriculum')\n",
    "enem17 = enem17.loc[(enem17.TP_ENSINO ==1)]              \n",
    "enem18 = enem18.loc[(enem18.TP_ENSINO ==1)]\n",
    "enem18.TP_NACIONALIDADE\n",
    "print(\"the last:\" , (enem18.TP_NACIONALIDADE ==3).sum(), 'who are foreign')\n",
    "enem17 = enem17.loc[(enem17.TP_NACIONALIDADE !=3)]              \n",
    "enem18 = enem18.loc[(enem18.TP_NACIONALIDADE !=3)]\n",
    "\n",
    "#drop that columns\n",
    "#enem17.drop(['IN_TREINEIRO','TP_ST_CONCLUSAO', 'TP_ESCOLA', 'TP_ENSINO', 'TP_NACIONALIDADE', 'Q027'], axis=1, inplace=True)\n",
    "#enem18.drop(['IN_TREINEIRO','TP_ST_CONCLUSAO', 'TP_ESCOLA', 'TP_ENSINO', 'TP_NACIONALIDADE', 'Q027'], axis=1, inplace=True)"
   ]
  },
  {
   "cell_type": "code",
   "execution_count": 16,
   "metadata": {},
   "outputs": [
    {
     "name": "stdout",
     "output_type": "stream",
     "text": [
      "NU_NOTA_CN         214765\n",
      "NU_NOTA_CH         172540\n",
      "NU_NOTA_LC         172540\n",
      "NU_NOTA_MT         214765\n",
      "NU_NOTA_REDACAO    172540\n",
      "dtype: int64\n",
      "NU_NOTA_CN            85\n",
      "NU_NOTA_CH           942\n",
      "NU_NOTA_LC           348\n",
      "NU_NOTA_MT           128\n",
      "NU_NOTA_REDACAO    21064\n",
      "dtype: int64\n"
     ]
    }
   ],
   "source": [
    "                                                      #Second, drop out insufficient scores \n",
    "fields = (['NU_NOTA_CN', 'NU_NOTA_CH','NU_NOTA_LC','NU_NOTA_MT', 'NU_NOTA_REDACAO'])\n",
    "# With NaN\n",
    "print(enem18[fields].isnull().sum())\n",
    "enem17.dropna(inplace = True, axis=0, subset=fields)\n",
    "enem18.dropna(inplace = True, axis=0, subset=fields)\n",
    "# With 0\n",
    "print((enem18[fields] ==0).sum())\n",
    "enem17 = enem17.loc[~(enem17[fields] == 0).any(axis=1)]\n",
    "enem18 = enem18.loc[~(enem18[fields] == 0).any(axis=1)]"
   ]
  },
  {
   "cell_type": "code",
   "execution_count": 17,
   "metadata": {},
   "outputs": [
    {
     "name": "stdout",
     "output_type": "stream",
     "text": [
      "Remainning:  680583\n"
     ]
    },
    {
     "data": {
      "text/html": [
       "<div>\n",
       "<style scoped>\n",
       "    .dataframe tbody tr th:only-of-type {\n",
       "        vertical-align: middle;\n",
       "    }\n",
       "\n",
       "    .dataframe tbody tr th {\n",
       "        vertical-align: top;\n",
       "    }\n",
       "\n",
       "    .dataframe thead th {\n",
       "        text-align: right;\n",
       "    }\n",
       "</style>\n",
       "<table border=\"1\" class=\"dataframe\">\n",
       "  <thead>\n",
       "    <tr style=\"text-align: right;\">\n",
       "      <th></th>\n",
       "      <th>NU_NOTA_CN</th>\n",
       "      <th>NU_NOTA_CH</th>\n",
       "      <th>NU_NOTA_LC</th>\n",
       "      <th>NU_NOTA_MT</th>\n",
       "      <th>NU_NOTA_REDACAO</th>\n",
       "    </tr>\n",
       "  </thead>\n",
       "  <tbody>\n",
       "    <tr>\n",
       "      <th>count</th>\n",
       "      <td>680583.000000</td>\n",
       "      <td>680583.000000</td>\n",
       "      <td>680583.000000</td>\n",
       "      <td>680583.000000</td>\n",
       "      <td>680583.000000</td>\n",
       "    </tr>\n",
       "    <tr>\n",
       "      <th>mean</th>\n",
       "      <td>473.309700</td>\n",
       "      <td>548.759617</td>\n",
       "      <td>508.634275</td>\n",
       "      <td>510.961322</td>\n",
       "      <td>489.294443</td>\n",
       "    </tr>\n",
       "    <tr>\n",
       "      <th>std</th>\n",
       "      <td>60.220655</td>\n",
       "      <td>72.124431</td>\n",
       "      <td>66.411759</td>\n",
       "      <td>83.392723</td>\n",
       "      <td>153.197797</td>\n",
       "    </tr>\n",
       "    <tr>\n",
       "      <th>min</th>\n",
       "      <td>362.500000</td>\n",
       "      <td>318.700000</td>\n",
       "      <td>318.800000</td>\n",
       "      <td>360.300000</td>\n",
       "      <td>40.000000</td>\n",
       "    </tr>\n",
       "    <tr>\n",
       "      <th>25%</th>\n",
       "      <td>425.900000</td>\n",
       "      <td>490.900000</td>\n",
       "      <td>461.500000</td>\n",
       "      <td>447.300000</td>\n",
       "      <td>360.000000</td>\n",
       "    </tr>\n",
       "    <tr>\n",
       "      <th>50%</th>\n",
       "      <td>465.400000</td>\n",
       "      <td>556.900000</td>\n",
       "      <td>512.000000</td>\n",
       "      <td>498.700000</td>\n",
       "      <td>500.000000</td>\n",
       "    </tr>\n",
       "    <tr>\n",
       "      <th>75%</th>\n",
       "      <td>515.100000</td>\n",
       "      <td>607.700000</td>\n",
       "      <td>558.600000</td>\n",
       "      <td>561.800000</td>\n",
       "      <td>600.000000</td>\n",
       "    </tr>\n",
       "    <tr>\n",
       "      <th>max</th>\n",
       "      <td>769.400000</td>\n",
       "      <td>820.200000</td>\n",
       "      <td>792.800000</td>\n",
       "      <td>988.800000</td>\n",
       "      <td>980.000000</td>\n",
       "    </tr>\n",
       "  </tbody>\n",
       "</table>\n",
       "</div>"
      ],
      "text/plain": [
       "          NU_NOTA_CN     NU_NOTA_CH     NU_NOTA_LC     NU_NOTA_MT  \\\n",
       "count  680583.000000  680583.000000  680583.000000  680583.000000   \n",
       "mean      473.309700     548.759617     508.634275     510.961322   \n",
       "std        60.220655      72.124431      66.411759      83.392723   \n",
       "min       362.500000     318.700000     318.800000     360.300000   \n",
       "25%       425.900000     490.900000     461.500000     447.300000   \n",
       "50%       465.400000     556.900000     512.000000     498.700000   \n",
       "75%       515.100000     607.700000     558.600000     561.800000   \n",
       "max       769.400000     820.200000     792.800000     988.800000   \n",
       "\n",
       "       NU_NOTA_REDACAO  \n",
       "count    680583.000000  \n",
       "mean        489.294443  \n",
       "std         153.197797  \n",
       "min          40.000000  \n",
       "25%         360.000000  \n",
       "50%         500.000000  \n",
       "75%         600.000000  \n",
       "max         980.000000  "
      ]
     },
     "execution_count": 17,
     "metadata": {},
     "output_type": "execute_result"
    }
   ],
   "source": [
    "print(\"Remainning: \",enem18.shape[0])\n",
    "enem18[fields].describe()"
   ]
  },
  {
   "cell_type": "code",
   "execution_count": 18,
   "metadata": {},
   "outputs": [
    {
     "name": "stdout",
     "output_type": "stream",
     "text": [
      "will drop more: 22078\n"
     ]
    }
   ],
   "source": [
    "#Only schools that have more than ten students in ENEM 1\n",
    "enem17['STUDENT_COUNT'] = enem17.groupby(['CO_ESCOLA'])['CO_ESCOLA'].transform('count') \n",
    "enem17 = enem17[(enem17['STUDENT_COUNT']>= 10)]\n",
    "#enem17.drop(['STUDENT_COUNT'], axis=1,inplace=True)\n",
    "\n",
    "enem18['STUDENT_COUNT'] = enem18.groupby(['CO_ESCOLA'])['CO_ESCOLA'].transform('count') \n",
    "print(\"will drop more:\", (enem18.STUDENT_COUNT <10).sum())\n",
    "enem18 = enem18[(enem18['STUDENT_COUNT']>= 10)]\n",
    "#enem18.drop(['STUDENT_COUNT'], axis=1,inplace=True)"
   ]
  },
  {
   "cell_type": "code",
   "execution_count": 19,
   "metadata": {},
   "outputs": [
    {
     "name": "stdout",
     "output_type": "stream",
     "text": [
      "0.69708054386086 % do not have elementary infrastructre\n"
     ]
    }
   ],
   "source": [
    "#How many do not have elementary infraetructure?\n",
    "temp = enem18.drop_duplicates('CO_ESCOLA')\n",
    "elementary = (temp.IN_AGUA_INEXISTENTE==1.0)  | (temp.IN_ESGOTO_INEXISTENTE==1.0) | (temp.IN_ENERGIA_INEXISTENTE==1.0)\n",
    "print ((temp[(elementary)]['CO_ESCOLA'].count()/temp.shape[0])*100,\"% do not have elementary infrastructre\")"
   ]
  },
  {
   "cell_type": "code",
   "execution_count": 20,
   "metadata": {},
   "outputs": [
    {
     "name": "stdout",
     "output_type": "stream",
     "text": [
      "38.77424252881496 % do not have elemantary + basic infraestructure\n"
     ]
    }
   ],
   "source": [
    "#and basic infrasestructure?\n",
    "\n",
    "print ((temp[(elementary)& (temp.IN_SALA_DIRETORIA!=1.0)  | (temp.IN_EQUIP_TV!=1.0) | \n",
    "        (temp.IN_COMPUTADOR!=1.0)| (temp.IN_EQUIP_IMPRESSORA!=1.0)| \n",
    "        (temp.IN_EQUIP_DVD!=1.0)]['CO_ESCOLA'].count()/temp.shape[0])*100, \"% do not have elemantary + basic infraestructure\")"
   ]
  },
  {
   "cell_type": "code",
   "execution_count": 21,
   "metadata": {},
   "outputs": [
    {
     "name": "stdout",
     "output_type": "stream",
     "text": [
      "IN_AGUA_INEXISTENTE       277\n",
      "IN_ENERGIA_INEXISTENTE    277\n",
      "IN_ESGOTO_INEXISTENTE     277\n",
      "dtype: int64\n",
      "IN_AGUA_INEXISTENTE       1123\n",
      "IN_ENERGIA_INEXISTENTE      29\n",
      "IN_ESGOTO_INEXISTENTE     3286\n",
      "dtype: int64\n"
     ]
    }
   ],
   "source": [
    "#Filtering school that have not elementary infraestructure\n",
    "filter_elementary = (['IN_AGUA_INEXISTENTE','IN_ENERGIA_INEXISTENTE', 'IN_ESGOTO_INEXISTENTE'])\n",
    "filter_basic = (['IN_SALA_DIRETORIA', 'IN_EQUIP_TV', 'IN_COMPUTADOR', 'IN_EQUIP_IMPRESSORA', 'IN_EQUIP_DVD' ])\n",
    "print(enem18[filter_elementary].isnull().sum())\n",
    "enem17.dropna(inplace = True, axis=0, subset=filter_elementary)\n",
    "enem18.dropna(inplace = True, axis=0, subset=filter_elementary)\n",
    "#filter_basic = (['IN_SALA_DIRETORIA','IN_EQUIP_TV','IN_COMPUTADOR','IN_EQUIP_IMPRESSORA', 'IN_EQUIP_DVD'])\n",
    "print((enem18[filter_elementary] ==1.0).sum())\n",
    "enem17 = enem17.loc[~(enem17[filter_elementary] == 1.0).any(axis=1)]\n",
    "enem18 = enem18.loc[~(enem18[filter_elementary] == 1.0).any(axis=1)]\n",
    "#dataset[filter_basic] = dataset[filter_basic].astype(str)\n",
    "\n",
    "#Drop this features\n",
    "#enem17.drop(filter_elementary, axis=1, inplace=True)\n",
    "#enem18.drop(filter_elementary, axis=1, inplace=True)\n",
    "\n",
    "#It will not used. Have a large ammout that have not a basic infrastructure\n",
    "#enem17.drop(filter_basic, axis=1, inplace=True)\n",
    "#enem18.drop(filter_basic, axis=1, inplace=True)\n",
    "\n",
    "\n",
    "\n"
   ]
  },
  {
   "cell_type": "code",
   "execution_count": 22,
   "metadata": {},
   "outputs": [
    {
     "name": "stdout",
     "output_type": "stream",
     "text": [
      "(891466, 52)\n",
      "(653848, 52)\n"
     ]
    }
   ],
   "source": [
    "print(enem17.shape)\n",
    "print(enem18.shape)"
   ]
  },
  {
   "cell_type": "markdown",
   "metadata": {},
   "source": [
    "#### Set last quartile of average scores as the best students for the 2017 dataset"
   ]
  },
  {
   "cell_type": "code",
   "execution_count": 23,
   "metadata": {},
   "outputs": [],
   "source": [
    "#Creating average of students in all fields\n",
    "enem17['AVG_SCORE'] = (enem17.NU_NOTA_CN + enem17.NU_NOTA_CH + enem17.NU_NOTA_LC + enem17.NU_NOTA_MT + enem17.NU_NOTA_REDACAO)/5\n",
    "enem18['AVG_SCORE'] = (enem18.NU_NOTA_CN + enem18.NU_NOTA_CH + enem18.NU_NOTA_LC + enem18.NU_NOTA_MT + enem18.NU_NOTA_REDACAO)/5\n",
    "\n",
    "#drop this unnecessary features\n",
    "enem17.drop(fields, axis=1, inplace=True)\n",
    "enem18.drop(fields, axis=1, inplace=True)"
   ]
  },
  {
   "cell_type": "code",
   "execution_count": 24,
   "metadata": {},
   "outputs": [],
   "source": [
    "#Creating the average of all schools by each studentes score\n",
    "enem17['AVG_SCORE_SCHOOL'] = enem17.groupby(['CO_ESCOLA'])['AVG_SCORE'].transform('mean') \n",
    "enem18['AVG_SCORE_SCHOOL'] = enem18.groupby(['CO_ESCOLA'])['AVG_SCORE'].transform('mean') \n",
    "\n",
    "#drop unnecessary features\n",
    "#enem17.drop('AVG_SCORE', axis=1, inplace = True)\n",
    "#enem18.drop('AVG_SCORE', axis=1, inplace = True)\n"
   ]
  },
  {
   "cell_type": "code",
   "execution_count": 25,
   "metadata": {},
   "outputs": [],
   "source": [
    "#Transform in School grain before to separate the scores in quartiles\n",
    "temp17 = enem17.drop_duplicates(['CO_ESCOLA'])\n",
    "temp17['TARGET'] = pd.qcut (temp17.AVG_SCORE_SCHOOL, 4, labels = [1,2,3,4]).map(lambda x : 0 if x!=4 else 1) \n",
    "\n",
    "temp18 = enem18.drop_duplicates(['CO_ESCOLA'])\n",
    "temp18['TARGET'] = pd.qcut (temp18.AVG_SCORE_SCHOOL, 4, labels = [1,2,3,4]).map(lambda x : 0 if x!=4 else 1) \n",
    "\n",
    "#drop unnecessary features\n",
    "enem17.drop('AVG_SCORE_SCHOOL', axis=1, inplace = True)\n",
    "enem18.drop('AVG_SCORE_SCHOOL', axis=1, inplace = True)"
   ]
  },
  {
   "cell_type": "code",
   "execution_count": 26,
   "metadata": {},
   "outputs": [
    {
     "name": "stdout",
     "output_type": "stream",
     "text": [
      "75.00157143755108 % lowers quartis in ENEM 2017\n",
      "75.0 % lowers quartis in ENEM 2018\n"
     ]
    }
   ],
   "source": [
    "#It's right? \n",
    "print((temp17.TARGET==0).sum()/(temp17.TARGET.count())*100, '% lowers quartis in ENEM 2017')\n",
    "print((temp18.TARGET==0).sum()/(temp18.TARGET.count())*100, '% lowers quartis in ENEM 2018')"
   ]
  },
  {
   "cell_type": "code",
   "execution_count": 27,
   "metadata": {},
   "outputs": [
    {
     "name": "stdout",
     "output_type": "stream",
     "text": [
      "(15909, 50)\n",
      "(14376, 50)\n"
     ]
    }
   ],
   "source": [
    "print(temp17.shape)\n",
    "print(temp18.shape)"
   ]
  },
  {
   "cell_type": "code",
   "execution_count": 28,
   "metadata": {},
   "outputs": [],
   "source": [
    "#turn back in Student grain\n",
    "enem17= pd.merge(temp17[['CO_ESCOLA', 'TARGET']], enem17, left_on='CO_ESCOLA', right_on='CO_ESCOLA', how='right')\n",
    "enem18= pd.merge(temp18[['CO_ESCOLA', 'TARGET']], enem18, left_on='CO_ESCOLA', right_on='CO_ESCOLA', how='right')"
   ]
  },
  {
   "cell_type": "code",
   "execution_count": 29,
   "metadata": {},
   "outputs": [
    {
     "name": "stdout",
     "output_type": "stream",
     "text": [
      "(891466, 49)\n",
      "(653848, 49)\n"
     ]
    }
   ],
   "source": [
    "#check if the same length as before\n",
    "print(enem17.shape)\n",
    "print(enem18.shape)"
   ]
  },
  {
   "cell_type": "code",
   "execution_count": 30,
   "metadata": {},
   "outputs": [
    {
     "name": "stdout",
     "output_type": "stream",
     "text": [
      "No single, only  2.583016236189451 %\n"
     ]
    }
   ],
   "source": [
    "#Due to known low variance , we will disregard this feature\n",
    "print(\"No single, only \",(enem18.loc[enem18.TP_ESTADO_CIVIL!=0].count()[0]/enem18.shape[0]*100),'%')\n",
    "\n",
    "enem17.drop('TP_ESTADO_CIVIL', axis=1, inplace = True)\n",
    "enem18.drop('TP_ESTADO_CIVIL', axis=1, inplace = True)"
   ]
  },
  {
   "cell_type": "code",
   "execution_count": 31,
   "metadata": {},
   "outputs": [
    {
     "data": {
      "text/html": [
       "<div>\n",
       "<style scoped>\n",
       "    .dataframe tbody tr th:only-of-type {\n",
       "        vertical-align: middle;\n",
       "    }\n",
       "\n",
       "    .dataframe tbody tr th {\n",
       "        vertical-align: top;\n",
       "    }\n",
       "\n",
       "    .dataframe thead th {\n",
       "        text-align: right;\n",
       "    }\n",
       "</style>\n",
       "<table border=\"1\" class=\"dataframe\">\n",
       "  <thead>\n",
       "    <tr style=\"text-align: right;\">\n",
       "      <th></th>\n",
       "      <th>CO_ESCOLA</th>\n",
       "      <th>TARGET</th>\n",
       "      <th>NU_INSCRICAO</th>\n",
       "      <th>NU_IDADE</th>\n",
       "      <th>TP_SEXO</th>\n",
       "      <th>TP_COR_RACA</th>\n",
       "      <th>TP_NACIONALIDADE</th>\n",
       "      <th>TP_ST_CONCLUSAO</th>\n",
       "      <th>TP_ESCOLA</th>\n",
       "      <th>TP_ENSINO</th>\n",
       "      <th>IN_TREINEIRO</th>\n",
       "      <th>Q001</th>\n",
       "      <th>Q002</th>\n",
       "      <th>Q003</th>\n",
       "      <th>Q004</th>\n",
       "      <th>Q005</th>\n",
       "      <th>Q006</th>\n",
       "      <th>Q007</th>\n",
       "      <th>Q008</th>\n",
       "      <th>Q009</th>\n",
       "      <th>Q010</th>\n",
       "      <th>Q011</th>\n",
       "      <th>Q012</th>\n",
       "      <th>Q013</th>\n",
       "      <th>Q014</th>\n",
       "      <th>Q015</th>\n",
       "      <th>Q016</th>\n",
       "      <th>Q017</th>\n",
       "      <th>Q018</th>\n",
       "      <th>Q019</th>\n",
       "      <th>Q020</th>\n",
       "      <th>Q021</th>\n",
       "      <th>Q022</th>\n",
       "      <th>Q023</th>\n",
       "      <th>Q024</th>\n",
       "      <th>Q025</th>\n",
       "      <th>Q026</th>\n",
       "      <th>Q027</th>\n",
       "      <th>IN_AGUA_INEXISTENTE</th>\n",
       "      <th>IN_ENERGIA_INEXISTENTE</th>\n",
       "      <th>IN_ESGOTO_INEXISTENTE</th>\n",
       "      <th>IN_SALA_DIRETORIA</th>\n",
       "      <th>IN_EQUIP_TV</th>\n",
       "      <th>IN_EQUIP_DVD</th>\n",
       "      <th>IN_EQUIP_IMPRESSORA</th>\n",
       "      <th>IN_COMPUTADOR</th>\n",
       "      <th>STUDENT_COUNT</th>\n",
       "      <th>AVG_SCORE</th>\n",
       "    </tr>\n",
       "  </thead>\n",
       "  <tbody>\n",
       "    <tr>\n",
       "      <th>miss</th>\n",
       "      <td>0</td>\n",
       "      <td>0</td>\n",
       "      <td>0</td>\n",
       "      <td>20</td>\n",
       "      <td>0</td>\n",
       "      <td>0</td>\n",
       "      <td>0</td>\n",
       "      <td>0</td>\n",
       "      <td>0</td>\n",
       "      <td>0</td>\n",
       "      <td>0</td>\n",
       "      <td>0</td>\n",
       "      <td>0</td>\n",
       "      <td>0</td>\n",
       "      <td>0</td>\n",
       "      <td>0</td>\n",
       "      <td>0</td>\n",
       "      <td>0</td>\n",
       "      <td>0</td>\n",
       "      <td>0</td>\n",
       "      <td>0</td>\n",
       "      <td>0</td>\n",
       "      <td>0</td>\n",
       "      <td>0</td>\n",
       "      <td>0</td>\n",
       "      <td>0</td>\n",
       "      <td>0</td>\n",
       "      <td>0</td>\n",
       "      <td>0</td>\n",
       "      <td>0</td>\n",
       "      <td>0</td>\n",
       "      <td>0</td>\n",
       "      <td>0</td>\n",
       "      <td>0</td>\n",
       "      <td>0</td>\n",
       "      <td>0</td>\n",
       "      <td>0</td>\n",
       "      <td>0</td>\n",
       "      <td>0</td>\n",
       "      <td>0</td>\n",
       "      <td>0</td>\n",
       "      <td>0</td>\n",
       "      <td>0</td>\n",
       "      <td>0</td>\n",
       "      <td>0</td>\n",
       "      <td>0</td>\n",
       "      <td>0</td>\n",
       "      <td>0</td>\n",
       "    </tr>\n",
       "  </tbody>\n",
       "</table>\n",
       "</div>"
      ],
      "text/plain": [
       "      CO_ESCOLA  TARGET  NU_INSCRICAO  NU_IDADE  TP_SEXO  TP_COR_RACA  \\\n",
       "miss          0       0             0        20        0            0   \n",
       "\n",
       "      TP_NACIONALIDADE  TP_ST_CONCLUSAO  TP_ESCOLA  TP_ENSINO  IN_TREINEIRO  \\\n",
       "miss                 0                0          0          0             0   \n",
       "\n",
       "      Q001  Q002  Q003  Q004  Q005  Q006  Q007  Q008  Q009  Q010  Q011  Q012  \\\n",
       "miss     0     0     0     0     0     0     0     0     0     0     0     0   \n",
       "\n",
       "      Q013  Q014  Q015  Q016  Q017  Q018  Q019  Q020  Q021  Q022  Q023  Q024  \\\n",
       "miss     0     0     0     0     0     0     0     0     0     0     0     0   \n",
       "\n",
       "      Q025  Q026  Q027  IN_AGUA_INEXISTENTE  IN_ENERGIA_INEXISTENTE  \\\n",
       "miss     0     0     0                    0                       0   \n",
       "\n",
       "      IN_ESGOTO_INEXISTENTE  IN_SALA_DIRETORIA  IN_EQUIP_TV  IN_EQUIP_DVD  \\\n",
       "miss                      0                  0            0             0   \n",
       "\n",
       "      IN_EQUIP_IMPRESSORA  IN_COMPUTADOR  STUDENT_COUNT  AVG_SCORE  \n",
       "miss                    0              0              0          0  "
      ]
     },
     "execution_count": 31,
     "metadata": {},
     "output_type": "execute_result"
    }
   ],
   "source": [
    "#missing value\n",
    "k= pd.DataFrame()\n",
    "k['miss'] = enem17.isnull().sum()\n",
    "k.T\n"
   ]
  },
  {
   "cell_type": "code",
   "execution_count": 32,
   "metadata": {},
   "outputs": [],
   "source": [
    "#Resolving missing value in 2017 dataset.\n",
    "def missing_value(df):\n",
    "    col = df.columns\n",
    "    for i in col:\n",
    "        if df[i].isnull().sum()>0:\n",
    "            df[i].fillna(df[i].mode()[0],inplace=True)\n",
    "            \n",
    "missing_value(enem17)\n"
   ]
  },
  {
   "cell_type": "code",
   "execution_count": 33,
   "metadata": {},
   "outputs": [
    {
     "name": "stdout",
     "output_type": "stream",
     "text": [
      "less than 16 years old  0.0796440918666556 %\n",
      "_________________ \n",
      "less than 17 anos  3.3496510242678914 %\n",
      "17 years old  48.41452169796717 %\n",
      "18 years old 33.670717671790065 %\n",
      "19 years old 8.959960334998755 %\n",
      "More than 19 years old  5.605149270976122 %\n",
      "_________________ \n",
      "More than 20 years old 2.677275409269675 %\n"
     ]
    }
   ],
   "source": [
    "#It's a good idea categorize this feature\n",
    "print(\"less than 16 years old \",enem17.loc[enem17.NU_IDADE<16].count()[0]/enem17.shape[0]*100,'%')\n",
    "print(\"_________________ \")\n",
    "print(\"less than 17 anos \",enem17.loc[enem17.NU_IDADE<17].count()[0]/enem17.shape[0]*100,'%')\n",
    "print(\"17 years old \",enem17.loc[enem17.NU_IDADE==17].count()[0]/enem17.shape[0]*100,'%')\n",
    "print(\"18 years old\",enem17.loc[enem17.NU_IDADE==18].count()[0]/enem17.shape[0]*100,'%')\n",
    "print(\"19 years old\",enem17.loc[enem17.NU_IDADE==19].count()[0]/enem17.shape[0]*100,'%')\n",
    "print(\"More than 19 years old \",enem17.loc[enem17.NU_IDADE>19].count()[0]/enem17.shape[0]*100,'%')\n",
    "print(\"_________________ \")\n",
    "print(\"More than 20 years old\",enem17.loc[enem17.NU_IDADE>20].count()[0]/enem17.shape[0]*100,'%')"
   ]
  },
  {
   "cell_type": "code",
   "execution_count": 34,
   "metadata": {},
   "outputs": [],
   "source": [
    "def categorize_idade(df):\n",
    "    \n",
    "                        # bin ranges 16(<17), 17 , 18, 19, 20(>19) \n",
    "    if df.NU_IDADE <17:\n",
    "        return 16\n",
    "   \n",
    "    elif df.NU_IDADE >19:\n",
    "        return 20\n",
    "    else:\n",
    "        return df.NU_IDADE\n",
    "    "
   ]
  },
  {
   "cell_type": "code",
   "execution_count": 35,
   "metadata": {},
   "outputs": [],
   "source": [
    "enem17.NU_IDADE = enem17.apply(categorize_idade, axis=1)\n",
    "enem18.NU_IDADE = enem18.apply(categorize_idade, axis=1)"
   ]
  },
  {
   "cell_type": "code",
   "execution_count": 36,
   "metadata": {},
   "outputs": [
    {
     "name": "stdout",
     "output_type": "stream",
     "text": [
      "less than 16 years old 0.0 %\n",
      "_________________ \n",
      "less than 17 anos 3.3496510242678914 %\n",
      "17 years old 48.41452169796717 %\n",
      "18 years old 33.670717671790065 %\n",
      "19 years old 8.959960334998755 %\n",
      "More than 19 years old 5.605149270976122 %\n",
      "_________________ \n",
      "More than 20 years old 0.0 %\n"
     ]
    }
   ],
   "source": [
    "#How was it?\n",
    "print(\"less than 16 years old\",enem17.loc[enem17.NU_IDADE<16].count()[0]/enem17.shape[0]*100,'%')\n",
    "print(\"_________________ \")\n",
    "print(\"less than 17 anos\",enem17.loc[enem17.NU_IDADE<17].count()[0]/enem17.shape[0]*100,'%')\n",
    "print(\"17 years old\",enem17.loc[enem17.NU_IDADE==17].count()[0]/enem17.shape[0]*100,'%')\n",
    "print(\"18 years old\",enem17.loc[enem17.NU_IDADE==18].count()[0]/enem17.shape[0]*100,'%')\n",
    "print(\"19 years old\",enem17.loc[enem17.NU_IDADE==19].count()[0]/enem17.shape[0]*100,'%')\n",
    "print(\"More than 19 years old\",enem17.loc[enem17.NU_IDADE>19].count()[0]/enem17.shape[0]*100,'%')\n",
    "print(\"_________________ \")\n",
    "print(\"More than 20 years old\",enem17.loc[enem17.NU_IDADE>20].count()[0]/enem17.shape[0]*100,'%')"
   ]
  },
  {
   "cell_type": "markdown",
   "metadata": {},
   "source": [
    "#### Check again that remaining examples conform to the domain filter rules"
   ]
  },
  {
   "cell_type": "code",
   "execution_count": 37,
   "metadata": {},
   "outputs": [],
   "source": [
    "features_filter_cat = (['IN_TREINEIRO','TP_ST_CONCLUSAO', 'TP_ESCOLA', 'TP_ENSINO', 'TP_NACIONALIDADE', 'Q027', 'Q026',\n",
    "                   'IN_AGUA_INEXISTENTE','IN_ENERGIA_INEXISTENTE', 'IN_ESGOTO_INEXISTENTE'])\n",
    "features_filter_num = ([ 'STUDENT_COUNT','AVG_SCORE'])  "
   ]
  },
  {
   "cell_type": "code",
   "execution_count": 38,
   "metadata": {},
   "outputs": [
    {
     "data": {
      "text/html": [
       "<div>\n",
       "<style scoped>\n",
       "    .dataframe tbody tr th:only-of-type {\n",
       "        vertical-align: middle;\n",
       "    }\n",
       "\n",
       "    .dataframe tbody tr th {\n",
       "        vertical-align: top;\n",
       "    }\n",
       "\n",
       "    .dataframe thead th {\n",
       "        text-align: right;\n",
       "    }\n",
       "</style>\n",
       "<table border=\"1\" class=\"dataframe\">\n",
       "  <thead>\n",
       "    <tr style=\"text-align: right;\">\n",
       "      <th></th>\n",
       "      <th>IN_TREINEIRO</th>\n",
       "      <th>TP_ST_CONCLUSAO</th>\n",
       "      <th>TP_ESCOLA</th>\n",
       "      <th>TP_ENSINO</th>\n",
       "      <th>TP_NACIONALIDADE</th>\n",
       "      <th>Q027</th>\n",
       "      <th>Q026</th>\n",
       "      <th>IN_AGUA_INEXISTENTE</th>\n",
       "      <th>IN_ENERGIA_INEXISTENTE</th>\n",
       "      <th>IN_ESGOTO_INEXISTENTE</th>\n",
       "    </tr>\n",
       "  </thead>\n",
       "  <tbody>\n",
       "    <tr>\n",
       "      <th>count</th>\n",
       "      <td>653848</td>\n",
       "      <td>653848</td>\n",
       "      <td>653848</td>\n",
       "      <td>653848.0</td>\n",
       "      <td>653848</td>\n",
       "      <td>653848</td>\n",
       "      <td>653848</td>\n",
       "      <td>653848.0</td>\n",
       "      <td>653848.0</td>\n",
       "      <td>653848.0</td>\n",
       "    </tr>\n",
       "    <tr>\n",
       "      <th>unique</th>\n",
       "      <td>1</td>\n",
       "      <td>1</td>\n",
       "      <td>1</td>\n",
       "      <td>1.0</td>\n",
       "      <td>4</td>\n",
       "      <td>1</td>\n",
       "      <td>1</td>\n",
       "      <td>1.0</td>\n",
       "      <td>1.0</td>\n",
       "      <td>1.0</td>\n",
       "    </tr>\n",
       "    <tr>\n",
       "      <th>top</th>\n",
       "      <td>0</td>\n",
       "      <td>2</td>\n",
       "      <td>2</td>\n",
       "      <td>1.0</td>\n",
       "      <td>1</td>\n",
       "      <td>A</td>\n",
       "      <td>B</td>\n",
       "      <td>0.0</td>\n",
       "      <td>0.0</td>\n",
       "      <td>0.0</td>\n",
       "    </tr>\n",
       "    <tr>\n",
       "      <th>freq</th>\n",
       "      <td>653848</td>\n",
       "      <td>653848</td>\n",
       "      <td>653848</td>\n",
       "      <td>653848.0</td>\n",
       "      <td>628410</td>\n",
       "      <td>653848</td>\n",
       "      <td>653848</td>\n",
       "      <td>653848.0</td>\n",
       "      <td>653848.0</td>\n",
       "      <td>653848.0</td>\n",
       "    </tr>\n",
       "  </tbody>\n",
       "</table>\n",
       "</div>"
      ],
      "text/plain": [
       "        IN_TREINEIRO  TP_ST_CONCLUSAO  TP_ESCOLA  TP_ENSINO  TP_NACIONALIDADE  \\\n",
       "count         653848           653848     653848   653848.0            653848   \n",
       "unique             1                1          1        1.0                 4   \n",
       "top                0                2          2        1.0                 1   \n",
       "freq          653848           653848     653848   653848.0            628410   \n",
       "\n",
       "          Q027    Q026  IN_AGUA_INEXISTENTE  IN_ENERGIA_INEXISTENTE  \\\n",
       "count   653848  653848             653848.0                653848.0   \n",
       "unique       1       1                  1.0                     1.0   \n",
       "top          A       B                  0.0                     0.0   \n",
       "freq    653848  653848             653848.0                653848.0   \n",
       "\n",
       "        IN_ESGOTO_INEXISTENTE  \n",
       "count                653848.0  \n",
       "unique                    1.0  \n",
       "top                       0.0  \n",
       "freq                 653848.0  "
      ]
     },
     "execution_count": 38,
     "metadata": {},
     "output_type": "execute_result"
    }
   ],
   "source": [
    "enem18[features_filter_cat].astype('category').describe()"
   ]
  },
  {
   "cell_type": "code",
   "execution_count": 39,
   "metadata": {},
   "outputs": [
    {
     "data": {
      "text/plain": [
       "1    628410\n",
       "2     23812\n",
       "4      1416\n",
       "0       210\n",
       "Name: TP_NACIONALIDADE, dtype: int64"
      ]
     },
     "execution_count": 39,
     "metadata": {},
     "output_type": "execute_result"
    }
   ],
   "source": [
    "enem18.TP_NACIONALIDADE.value_counts()"
   ]
  },
  {
   "cell_type": "code",
   "execution_count": 40,
   "metadata": {},
   "outputs": [
    {
     "data": {
      "text/html": [
       "<div>\n",
       "<style scoped>\n",
       "    .dataframe tbody tr th:only-of-type {\n",
       "        vertical-align: middle;\n",
       "    }\n",
       "\n",
       "    .dataframe tbody tr th {\n",
       "        vertical-align: top;\n",
       "    }\n",
       "\n",
       "    .dataframe thead th {\n",
       "        text-align: right;\n",
       "    }\n",
       "</style>\n",
       "<table border=\"1\" class=\"dataframe\">\n",
       "  <thead>\n",
       "    <tr style=\"text-align: right;\">\n",
       "      <th></th>\n",
       "      <th>STUDENT_COUNT</th>\n",
       "      <th>AVG_SCORE</th>\n",
       "    </tr>\n",
       "  </thead>\n",
       "  <tbody>\n",
       "    <tr>\n",
       "      <th>count</th>\n",
       "      <td>653848.000000</td>\n",
       "      <td>653848.000000</td>\n",
       "    </tr>\n",
       "    <tr>\n",
       "      <th>mean</th>\n",
       "      <td>83.127620</td>\n",
       "      <td>506.925798</td>\n",
       "    </tr>\n",
       "    <tr>\n",
       "      <th>std</th>\n",
       "      <td>69.943546</td>\n",
       "      <td>66.333645</td>\n",
       "    </tr>\n",
       "    <tr>\n",
       "      <th>min</th>\n",
       "      <td>10.000000</td>\n",
       "      <td>316.880000</td>\n",
       "    </tr>\n",
       "    <tr>\n",
       "      <th>25%</th>\n",
       "      <td>36.000000</td>\n",
       "      <td>455.940000</td>\n",
       "    </tr>\n",
       "    <tr>\n",
       "      <th>50%</th>\n",
       "      <td>64.000000</td>\n",
       "      <td>499.940000</td>\n",
       "    </tr>\n",
       "    <tr>\n",
       "      <th>75%</th>\n",
       "      <td>107.000000</td>\n",
       "      <td>550.780000</td>\n",
       "    </tr>\n",
       "    <tr>\n",
       "      <th>max</th>\n",
       "      <td>555.000000</td>\n",
       "      <td>811.680000</td>\n",
       "    </tr>\n",
       "  </tbody>\n",
       "</table>\n",
       "</div>"
      ],
      "text/plain": [
       "       STUDENT_COUNT      AVG_SCORE\n",
       "count  653848.000000  653848.000000\n",
       "mean       83.127620     506.925798\n",
       "std        69.943546      66.333645\n",
       "min        10.000000     316.880000\n",
       "25%        36.000000     455.940000\n",
       "50%        64.000000     499.940000\n",
       "75%       107.000000     550.780000\n",
       "max       555.000000     811.680000"
      ]
     },
     "execution_count": 40,
     "metadata": {},
     "output_type": "execute_result"
    }
   ],
   "source": [
    "enem18[features_filter_num].describe()"
   ]
  },
  {
   "cell_type": "code",
   "execution_count": 41,
   "metadata": {},
   "outputs": [],
   "source": [
    "# This faetures are are no longer necessary\n",
    "enem18.drop(features_filter_num + features_filter_cat + filter_basic, axis=1, inplace = True)"
   ]
  },
  {
   "cell_type": "code",
   "execution_count": 42,
   "metadata": {},
   "outputs": [],
   "source": [
    "## keep a copy of schools filtered to AED\n",
    "enem18[['NU_INSCRICAO']].to_csv('students_filtered.csv', index=False)"
   ]
  },
  {
   "cell_type": "markdown",
   "metadata": {},
   "source": [
    "## TEACHERS CENSUS DATASET "
   ]
  },
  {
   "cell_type": "code",
   "execution_count": 43,
   "metadata": {},
   "outputs": [],
   "source": [
    "#Choose just useful features for us now, improve memory use\n",
    "fcenso = ['CO_PESSOA_FISICA','NU_ANO_CENSO','IN_ESPECIALIZACAO','IN_MESTRADO','IN_DOUTORADO','CO_ENTIDADE']\n",
    "\n",
    "#Reading data of Teachers in Censo 2017\n",
    "CO17=pd.read_csv(\"~/data/censo2017/DOCENTES_CO.CSV\", sep='|', encoding=\"iso-8859-2\", usecols = fcenso)\n",
    "NE17=pd.read_csv(\"~/data/censo2017/DOCENTES_NORDESTE.CSV\", sep='|', encoding=\"iso-8859-2\", usecols = fcenso)\n",
    "NT17=pd.read_csv(\"~/data/censo2017/DOCENTES_NORTE.CSV\", sep='|', encoding=\"iso-8859-2\", usecols = fcenso)\n",
    "SE17=pd.read_csv(\"~/data/censo2017/DOCENTES_SUDESTE.CSV\", sep='|', encoding=\"iso-8859-2\", usecols = fcenso)\n",
    "SU17=pd.read_csv(\"~/data/censo2017/DOCENTES_SUL.CSV\", sep='|', encoding=\"iso-8859-2\", usecols = fcenso)\n",
    "\n",
    "#There are differences in feature names\n",
    "fcenso18 = ['ID_DOCENTE','NU_ANO_CENSO','IN_ESPECIALIZACAO','IN_MESTRADO','IN_DOUTORADO','CO_ENTIDADE']\n",
    "\n",
    "CO18=pd.read_csv(\"~/data/censo2018/DOCENTES_CO.CSV\", sep='|', encoding=\"iso-8859-2\", usecols = fcenso18)\n",
    "NE18=pd.read_csv(\"~/data/censo2018/DOCENTES_NORDESTE.CSV\", sep='|', encoding=\"iso-8859-2\", usecols = fcenso18)\n",
    "NT18=pd.read_csv(\"~/data/censo2018/DOCENTES_NORTE.CSV\", sep='|', encoding=\"iso-8859-2\", usecols = fcenso18)\n",
    "SE18=pd.read_csv(\"~/data/censo2018/DOCENTES_SUDESTE.CSV\", sep='|', encoding=\"iso-8859-2\", usecols = fcenso18)\n",
    "SU18=pd.read_csv(\"~/data/censo2018/DOCENTES_SUL.CSV\", sep='|', encoding=\"iso-8859-2\", usecols = fcenso18)\n"
   ]
  },
  {
   "cell_type": "code",
   "execution_count": 44,
   "metadata": {},
   "outputs": [],
   "source": [
    "#Concatening the subsets and creating a unique dataset, than transform all features and categories, as it are.\n",
    "censo17a= pd.concat([CO17, NE17, NT17, SE17, SU17])\n",
    "scenso17 = censo17a.copy()\n",
    "\n",
    "censo18a= pd.concat([CO18, NE18, NT18, SE18, SU18])\n",
    "scenso18 = censo18a.copy()\n",
    "#censo17=censo17.astype('category')"
   ]
  },
  {
   "cell_type": "markdown",
   "metadata": {},
   "source": [
    "Get only teachers who work in secondary schools (based on ENEM)"
   ]
  },
  {
   "cell_type": "code",
   "execution_count": 45,
   "metadata": {},
   "outputs": [
    {
     "name": "stdout",
     "output_type": "stream",
     "text": [
      "There are 2603186 Teachers at 185925 Schools in Census 2017\n",
      "There are 2581297 Teachers at 183746 Schools in Census 2018\n"
     ]
    }
   ],
   "source": [
    "#Some informations\n",
    "print (\"There are\", scenso17.drop_duplicates('CO_PESSOA_FISICA').shape[0], \"Teachers\",  \"at\", scenso17.CO_ENTIDADE.value_counts().count() ,\"Schools in Census 2017\")\n",
    "\n",
    "print (\"There are\", scenso18.drop_duplicates('ID_DOCENTE').shape[0], \"Teachers\",  \"at\", scenso18.CO_ENTIDADE.value_counts().count() ,\"Schools in Census 2018\")"
   ]
  },
  {
   "cell_type": "code",
   "execution_count": 46,
   "metadata": {},
   "outputs": [],
   "source": [
    "#It's necessary drop duplicates whose are teachers in the same school but in different classes. \n",
    "#This way, the teacher appear just one time in each school. \n",
    "scenso17.drop_duplicates(subset=['CO_PESSOA_FISICA', 'CO_ENTIDADE'], inplace=True)\n",
    "scenso18.drop_duplicates(subset=['ID_DOCENTE', 'CO_ENTIDADE'], inplace=True)"
   ]
  },
  {
   "cell_type": "code",
   "execution_count": 47,
   "metadata": {},
   "outputs": [
    {
     "data": {
      "text/plain": [
       "3240084"
      ]
     },
     "execution_count": 47,
     "metadata": {},
     "output_type": "execute_result"
    }
   ],
   "source": [
    "scenso18.shape[0]"
   ]
  },
  {
   "cell_type": "code",
   "execution_count": 48,
   "metadata": {},
   "outputs": [],
   "source": [
    "#getting the schools represented in ENEM\n",
    "schoolsEnem17 = enem17.drop_duplicates('CO_ESCOLA')\n",
    "schoolsEnem17 = schoolsEnem17[(['CO_ESCOLA','TARGET'])]\n",
    "#schoolsEnem17 = schoolsEnem17.astype(str)\n",
    "\n",
    "schoolsEnem18 = enem18.drop_duplicates('CO_ESCOLA')\n",
    "schoolsEnem18 = schoolsEnem18[(['CO_ESCOLA','TARGET'])]\n",
    "#schoolsEnem18 = schoolsEnem18.astype(str)\n"
   ]
  },
  {
   "cell_type": "code",
   "execution_count": 49,
   "metadata": {},
   "outputs": [
    {
     "data": {
      "text/plain": [
       "14376"
      ]
     },
     "execution_count": 49,
     "metadata": {},
     "output_type": "execute_result"
    }
   ],
   "source": [
    "schoolsEnem18.shape[0]"
   ]
  },
  {
   "cell_type": "code",
   "execution_count": 50,
   "metadata": {},
   "outputs": [],
   "source": [
    "#Merge the two datasets, whereas that only teachers who work in school represented in ENEM 17 and 18\n",
    "censo17= pd.merge(schoolsEnem17, scenso17, left_on='CO_ESCOLA', right_on='CO_ENTIDADE', how='left')\n",
    "\n",
    "censo18= pd.merge(schoolsEnem18, scenso18, left_on='CO_ESCOLA', right_on='CO_ENTIDADE', how='left')"
   ]
  },
  {
   "cell_type": "code",
   "execution_count": 51,
   "metadata": {},
   "outputs": [
    {
     "data": {
      "text/plain": [
       "CO_ESCOLA              0\n",
       "TARGET                 0\n",
       "NU_ANO_CENSO           0\n",
       "ID_DOCENTE             0\n",
       "IN_ESPECIALIZACAO    796\n",
       "IN_MESTRADO          796\n",
       "IN_DOUTORADO         796\n",
       "CO_ENTIDADE            0\n",
       "dtype: int64"
      ]
     },
     "execution_count": 51,
     "metadata": {},
     "output_type": "execute_result"
    }
   ],
   "source": [
    "#There are 807 null degrees to teachers. I will drop it, because, is the same number of all. It's clear that is a mistake.\n",
    "censo18.drop_duplicates('CO_ENTIDADE').isnull().sum()"
   ]
  },
  {
   "cell_type": "code",
   "execution_count": 52,
   "metadata": {},
   "outputs": [
    {
     "data": {
      "text/plain": [
       "0    609\n",
       "1    187\n",
       "Name: TARGET, dtype: int64"
      ]
     },
     "execution_count": 52,
     "metadata": {},
     "output_type": "execute_result"
    }
   ],
   "source": [
    "#25% of nulls are from first quartil.\n",
    "censo18.drop_duplicates('CO_ESCOLA').loc[(censo18.IN_ESPECIALIZACAO.isnull() == True)]['TARGET'].value_counts()"
   ]
  },
  {
   "cell_type": "code",
   "execution_count": 53,
   "metadata": {},
   "outputs": [],
   "source": [
    "#Missing values in these cases are \"0\" \n",
    "censo17['IN_ESPECIALIZACAO'].fillna(0.0, inplace=True)\n",
    "censo17['IN_MESTRADO'].fillna(0.0, inplace=True)\n",
    "censo17['IN_DOUTORADO'].fillna(0.0, inplace=True)\n",
    "\n",
    "censo18['IN_ESPECIALIZACAO'].fillna(0.0, inplace=True)\n",
    "censo18['IN_MESTRADO'].fillna(0.0, inplace=True)\n",
    "censo18['IN_DOUTORADO'].fillna(0.0, inplace=True)"
   ]
  },
  {
   "cell_type": "code",
   "execution_count": 57,
   "metadata": {},
   "outputs": [],
   "source": [
    "#In database have different patterns to represent level of education. ex: Master has signed in two different ways, or marked in Master and Especialization or just in Master.\n",
    "def education_level(df):\n",
    "    if (df.IN_ESPECIALIZACAO==0.0) & (df.IN_MESTRADO==0.0) & (df.IN_DOUTORADO ==0.0):\n",
    "        #print(0)\n",
    "        df['TITULACAO']= \"BSc\"\n",
    "    elif (df.IN_ESPECIALIZACAO==1.0) & (df.IN_MESTRADO==0.0) & (df.IN_DOUTORADO ==0.0):\n",
    "        #print(1)\n",
    "        df['TITULACAO']= \"MBA\"\n",
    "    elif (df.IN_ESPECIALIZACAO==1.0) & (df.IN_MESTRADO==1.0) & (df.IN_DOUTORADO ==0.0):\n",
    "        #print(2)\n",
    "        df['TITULACAO']= \"MSc\"\n",
    "    elif (df.IN_ESPECIALIZACAO==0.0) & (df.IN_MESTRADO==1.0) & (df.IN_DOUTORADO ==0.0):\n",
    "        #print(2)\n",
    "        df['TITULACAO']= \"MSc\"\n",
    "    else:\n",
    "        #print(3)\n",
    "        df['TITULACAO']= \"PhD\"  \n",
    "    return df"
   ]
  },
  {
   "cell_type": "code",
   "execution_count": 58,
   "metadata": {},
   "outputs": [],
   "source": [
    "censo17=censo17.apply(education_level, axis=1)\n",
    "\n",
    "censo18=censo18.apply(education_level, axis=1)"
   ]
  },
  {
   "cell_type": "code",
   "execution_count": 60,
   "metadata": {},
   "outputs": [
    {
     "data": {
      "text/plain": [
       "Text(0, 0.5, 'Count')"
      ]
     },
     "execution_count": 60,
     "metadata": {},
     "output_type": "execute_result"
    },
    {
     "data": {
      "image/png": "[encoded data removed]",
      "text/plain": [
       "<Figure size 432x288 with 1 Axes>"
      ]
     },
     "metadata": {
      "needs_background": "light"
     },
     "output_type": "display_data"
    }
   ],
   "source": [
    "ax1 =censo18.TITULACAO.value_counts().plot(kind='bar')\n",
    "ax1.set_xlabel(\"Teacher Education\")\n",
    "ax1.set_ylabel(\"Count\")"
   ]
  },
  {
   "cell_type": "code",
   "execution_count": 55,
   "metadata": {},
   "outputs": [
    {
     "data": {
      "text/html": [
       "<div>\n",
       "<style scoped>\n",
       "    .dataframe tbody tr th:only-of-type {\n",
       "        vertical-align: middle;\n",
       "    }\n",
       "\n",
       "    .dataframe tbody tr th {\n",
       "        vertical-align: top;\n",
       "    }\n",
       "\n",
       "    .dataframe thead th {\n",
       "        text-align: right;\n",
       "    }\n",
       "</style>\n",
       "<table border=\"1\" class=\"dataframe\">\n",
       "  <thead>\n",
       "    <tr style=\"text-align: right;\">\n",
       "      <th></th>\n",
       "      <th>CO_ESCOLA</th>\n",
       "      <th>TARGET</th>\n",
       "      <th>NU_ANO_CENSO</th>\n",
       "      <th>CO_PESSOA_FISICA</th>\n",
       "      <th>IN_ESPECIALIZACAO</th>\n",
       "      <th>IN_MESTRADO</th>\n",
       "      <th>IN_DOUTORADO</th>\n",
       "      <th>CO_ENTIDADE</th>\n",
       "      <th>TITULACAO</th>\n",
       "    </tr>\n",
       "  </thead>\n",
       "  <tbody>\n",
       "    <tr>\n",
       "      <td>0</td>\n",
       "      <td>35001259.0</td>\n",
       "      <td>0.0</td>\n",
       "      <td>2017.0</td>\n",
       "      <td>1.151817e+11</td>\n",
       "      <td>1.0</td>\n",
       "      <td>0.0</td>\n",
       "      <td>0.0</td>\n",
       "      <td>35001259.0</td>\n",
       "      <td>1</td>\n",
       "    </tr>\n",
       "    <tr>\n",
       "      <td>1</td>\n",
       "      <td>35001259.0</td>\n",
       "      <td>0.0</td>\n",
       "      <td>2017.0</td>\n",
       "      <td>1.222428e+11</td>\n",
       "      <td>1.0</td>\n",
       "      <td>0.0</td>\n",
       "      <td>0.0</td>\n",
       "      <td>35001259.0</td>\n",
       "      <td>1</td>\n",
       "    </tr>\n",
       "  </tbody>\n",
       "</table>\n",
       "</div>"
      ],
      "text/plain": [
       "    CO_ESCOLA  TARGET  NU_ANO_CENSO  CO_PESSOA_FISICA  IN_ESPECIALIZACAO  \\\n",
       "0  35001259.0     0.0        2017.0      1.151817e+11                1.0   \n",
       "1  35001259.0     0.0        2017.0      1.222428e+11                1.0   \n",
       "\n",
       "   IN_MESTRADO  IN_DOUTORADO  CO_ENTIDADE TITULACAO  \n",
       "0          0.0           0.0   35001259.0         1  \n",
       "1          0.0           0.0   35001259.0         1  "
      ]
     },
     "execution_count": 55,
     "metadata": {},
     "output_type": "execute_result"
    }
   ],
   "source": [
    "censo17.head(2)"
   ]
  },
  {
   "cell_type": "code",
   "execution_count": 56,
   "metadata": {},
   "outputs": [
    {
     "data": {
      "text/html": [
       "<div>\n",
       "<style scoped>\n",
       "    .dataframe tbody tr th:only-of-type {\n",
       "        vertical-align: middle;\n",
       "    }\n",
       "\n",
       "    .dataframe tbody tr th {\n",
       "        vertical-align: top;\n",
       "    }\n",
       "\n",
       "    .dataframe thead th {\n",
       "        text-align: right;\n",
       "    }\n",
       "</style>\n",
       "<table border=\"1\" class=\"dataframe\">\n",
       "  <thead>\n",
       "    <tr style=\"text-align: right;\">\n",
       "      <th></th>\n",
       "      <th>CO_ESCOLA</th>\n",
       "      <th>TARGET</th>\n",
       "      <th>NU_ANO_CENSO</th>\n",
       "      <th>ID_DOCENTE</th>\n",
       "      <th>IN_ESPECIALIZACAO</th>\n",
       "      <th>IN_MESTRADO</th>\n",
       "      <th>IN_DOUTORADO</th>\n",
       "      <th>CO_ENTIDADE</th>\n",
       "      <th>TITULACAO</th>\n",
       "    </tr>\n",
       "  </thead>\n",
       "  <tbody>\n",
       "    <tr>\n",
       "      <td>0</td>\n",
       "      <td>23077140.0</td>\n",
       "      <td>0</td>\n",
       "      <td>2018</td>\n",
       "      <td>00E3AA8026744AEEC6D35E11B082B9D9</td>\n",
       "      <td>0.0</td>\n",
       "      <td>0.0</td>\n",
       "      <td>0.0</td>\n",
       "      <td>23077140</td>\n",
       "      <td>0</td>\n",
       "    </tr>\n",
       "    <tr>\n",
       "      <td>1</td>\n",
       "      <td>23077140.0</td>\n",
       "      <td>0</td>\n",
       "      <td>2018</td>\n",
       "      <td>0FA5A09CB34A5FEC043158EE31F812F6</td>\n",
       "      <td>0.0</td>\n",
       "      <td>0.0</td>\n",
       "      <td>0.0</td>\n",
       "      <td>23077140</td>\n",
       "      <td>0</td>\n",
       "    </tr>\n",
       "  </tbody>\n",
       "</table>\n",
       "</div>"
      ],
      "text/plain": [
       "    CO_ESCOLA  TARGET  NU_ANO_CENSO                        ID_DOCENTE  \\\n",
       "0  23077140.0       0          2018  00E3AA8026744AEEC6D35E11B082B9D9   \n",
       "1  23077140.0       0          2018  0FA5A09CB34A5FEC043158EE31F812F6   \n",
       "\n",
       "   IN_ESPECIALIZACAO  IN_MESTRADO  IN_DOUTORADO  CO_ENTIDADE TITULACAO  \n",
       "0                0.0          0.0           0.0     23077140         0  \n",
       "1                0.0          0.0           0.0     23077140         0  "
      ]
     },
     "execution_count": 56,
     "metadata": {},
     "output_type": "execute_result"
    }
   ],
   "source": [
    "censo18.head(2)"
   ]
  },
  {
   "cell_type": "markdown",
   "metadata": {},
   "source": [
    "## Grain Transformation "
   ]
  },
  {
   "cell_type": "markdown",
   "metadata": {},
   "source": [
    "##### We will transform the Categorical ENEM database features from student grain to school grain (Decision Grain).  Instead the pratical use of MODE, it will use the regression on the attribute distribution, having its histogram relative frequencies as input and the  decision level TARGET as output.  "
   ]
  },
  {
   "cell_type": "code",
   "execution_count": 58,
   "metadata": {},
   "outputs": [],
   "source": [
    "#transform ordered categorical features in numeric. This feature will be it means in the new grain.\n",
    "ordered_categorical = ['Q008', 'Q009', 'Q010', 'Q011', 'Q012', 'Q013', 'Q014', 'Q015', 'Q016', 'Q017', 'Q019',\n",
    "        'Q022', 'Q024']\n",
    "\n",
    "for i in ordered_categorical:\n",
    "    codes, uniques = pd.factorize(enem18[i], sort=True)\n",
    "    enem18[i] = codes\n"
   ]
  },
  {
   "cell_type": "code",
   "execution_count": 59,
   "metadata": {},
   "outputs": [],
   "source": [
    "#Creating the dataframe with the relative frequencies and target. Ready to applying regression\n",
    "def relative_frequencies(df, colum):\n",
    "    root = (['CO_ESCOLA', 'TARGET'])\n",
    "    df = df [root + [colum]]\n",
    "    df = pd.get_dummies(df, columns=[colum])\n",
    "    filter_col = [col for col in df if col.startswith(colum)]\n",
    "    print (filter_col)\n",
    "    for x in filter_col:            \n",
    "        df[x] = df.groupby(df['CO_ESCOLA'])[x].transform(sum)/ df.groupby(df['CO_ESCOLA'])[x].transform('count')\n",
    "        \n",
    "    return df"
   ]
  },
  {
   "cell_type": "code",
   "execution_count": 60,
   "metadata": {},
   "outputs": [],
   "source": [
    "def LR_student_to_school (df1, df2, columns):\n",
    "    result = pd.DataFrame()\n",
    "            \n",
    "    for x in columns:\n",
    "            temp = relative_frequencies(df1,df1[x].name)\n",
    "            temp.drop_duplicates('CO_ESCOLA', inplace=True)\n",
    "            temp = temp.loc[:, ~temp.columns.isin(['CO_ESCOLA'])]\n",
    "            temp_DATA = temp.loc[:, temp.columns != 'TARGET']\n",
    "            temp_TARGET = temp.loc[:, temp.columns == 'TARGET']\n",
    "\n",
    "    \n",
    "            LR_temp = LogisticRegression()\n",
    "            LR_temp.fit(temp_DATA, temp_TARGET)\n",
    "      \n",
    "       \n",
    "        \n",
    "            temp = relative_frequencies(df2,df2[x].name)\n",
    "            temp.drop_duplicates('CO_ESCOLA', inplace=True) \n",
    "            temp = temp.reset_index(drop=True)\n",
    "            temp2 = temp.loc[:, ~temp.columns.isin(['CO_ESCOLA'])]\n",
    "            temp_DATA = temp2.loc[:, temp2.columns != 'TARGET']\n",
    "        \n",
    "            result[x] = LR_temp.predict_proba(temp_DATA)[:,1]\n",
    "                       \n",
    "       \n",
    "    result = pd.merge(result, temp.CO_ESCOLA, left_index=True, right_index=True)\n",
    "    \n",
    "    return result, LR_temp\n",
    "\n",
    " #col = df.select_dtypes(include=['object'])"
   ]
  },
  {
   "cell_type": "code",
   "execution_count": 61,
   "metadata": {},
   "outputs": [],
   "source": [
    "#def category_type(df):\n",
    "#    col = df.select_dtypes(include=['category'])\n",
    "#    category_features = []\n",
    "#    for i in col:\n",
    "#        df[i] = df[i].astype('object')\n",
    "#        category_features.append(i)\n",
    "            \n",
    "#    return category_features\n",
    "           \n",
    "#category_type(enem17)\n",
    "#category_features = category_type(enem18)\n",
    "col = enem18.select_dtypes(include=['object'])\n"
   ]
  },
  {
   "cell_type": "code",
   "execution_count": 62,
   "metadata": {},
   "outputs": [
    {
     "name": "stdout",
     "output_type": "stream",
     "text": [
      "['Q001_A', 'Q001_B', 'Q001_C', 'Q001_D', 'Q001_E', 'Q001_F', 'Q001_G', 'Q001_H']\n",
      "['Q001_A', 'Q001_B', 'Q001_C', 'Q001_D', 'Q001_E', 'Q001_F', 'Q001_G', 'Q001_H']\n",
      "['Q002_A', 'Q002_B', 'Q002_C', 'Q002_D', 'Q002_E', 'Q002_F', 'Q002_G', 'Q002_H']\n",
      "['Q002_A', 'Q002_B', 'Q002_C', 'Q002_D', 'Q002_E', 'Q002_F', 'Q002_G', 'Q002_H']\n",
      "['Q003_A', 'Q003_B', 'Q003_C', 'Q003_D', 'Q003_E', 'Q003_F']\n",
      "['Q003_A', 'Q003_B', 'Q003_C', 'Q003_D', 'Q003_E', 'Q003_F']\n",
      "['Q004_A', 'Q004_B', 'Q004_C', 'Q004_D', 'Q004_E', 'Q004_F']\n",
      "['Q004_A', 'Q004_B', 'Q004_C', 'Q004_D', 'Q004_E', 'Q004_F']\n",
      "['Q006_A', 'Q006_B', 'Q006_C', 'Q006_D', 'Q006_E', 'Q006_F', 'Q006_G', 'Q006_H', 'Q006_I', 'Q006_J', 'Q006_K', 'Q006_L', 'Q006_M', 'Q006_N', 'Q006_O', 'Q006_P', 'Q006_Q']\n",
      "['Q006_A', 'Q006_B', 'Q006_C', 'Q006_D', 'Q006_E', 'Q006_F', 'Q006_G', 'Q006_H', 'Q006_I', 'Q006_J', 'Q006_K', 'Q006_L', 'Q006_M', 'Q006_N', 'Q006_O', 'Q006_P', 'Q006_Q']\n",
      "['Q007_A', 'Q007_B', 'Q007_C', 'Q007_D']\n",
      "['Q007_A', 'Q007_B', 'Q007_C', 'Q007_D']\n"
     ]
    }
   ],
   "source": [
    "#category_features = enem18.select_dtypes(include=['category']).columns\n",
    "cols = enem18.loc[:, enem18.nunique() >2].select_dtypes(include=['object']).columns\n",
    "trans_enem_att, lr_model =LR_student_to_school(enem17, enem18, cols)\n"
   ]
  },
  {
   "cell_type": "code",
   "execution_count": 63,
   "metadata": {},
   "outputs": [],
   "source": [
    "#Other features in student grain, will be transformed by frequencie of one class, in binary features case \n",
    "#and mean to ones that numerical in average. In this case will be used the Enem18\n",
    "def other_transformations (df, df2): \n",
    "    other_cols = df.loc[:, df.columns.isin(df2.columns)== False].columns.to_list()\n",
    "    for x in other_cols:\n",
    "    \n",
    "        if (df[x].nunique()==2)&(df[x].name!='TARGET'):   \n",
    "            df[x] = df[x].astype('category')\n",
    "            print (x, \"binary\")\n",
    "            \n",
    "            temp = df.groupby('CO_ESCOLA', sort=False)[x].value_counts(ascending=False, \n",
    "                                                                normalize=True).unstack().fillna(0).iloc[:,0]#Get the  relative Frrquency     \n",
    "            df2 = pd.merge(df2,temp,left_on='CO_ESCOLA', right_on='CO_ESCOLA')\n",
    "            df2.rename(columns={ df2.columns[-1]: x }, inplace = True)\n",
    "                        \n",
    "\n",
    "            \n",
    "        elif(df[x].nunique()>2) & (df[x].name!='NU_INSCRICAO'):\n",
    "            df2 = df2.reset_index(drop=True)\n",
    "            temp =df.groupby(['CO_ESCOLA'])[x].mean()\n",
    "            df2 = pd.merge(df2,temp,left_on='CO_ESCOLA', right_on='CO_ESCOLA')\n",
    "            df2.rename(columns={ df2.columns[-1]: x }, inplace = True)\n",
    "            \n",
    "            print (x, \"mean\")\n",
    "            \n",
    "        else:\n",
    "    \n",
    "            print (x, \"wasn't transformed\")\n",
    "        \n",
    "    return df2\n",
    "        "
   ]
  },
  {
   "cell_type": "code",
   "execution_count": 64,
   "metadata": {},
   "outputs": [
    {
     "name": "stdout",
     "output_type": "stream",
     "text": [
      "TARGET wasn't transformed\n",
      "NU_INSCRICAO wasn't transformed\n",
      "NU_IDADE mean\n",
      "TP_SEXO binary\n",
      "TP_COR_RACA mean\n",
      "Q005 mean\n",
      "Q008 mean\n",
      "Q009 mean\n",
      "Q010 mean\n",
      "Q011 mean\n",
      "Q012 mean\n",
      "Q013 mean\n",
      "Q014 mean\n",
      "Q015 mean\n",
      "Q016 mean\n",
      "Q017 mean\n",
      "Q018 binary\n",
      "Q019 mean\n",
      "Q020 binary\n",
      "Q021 binary\n",
      "Q022 mean\n",
      "Q023 binary\n",
      "Q024 mean\n",
      "Q025 binary\n"
     ]
    }
   ],
   "source": [
    "trans_enem_att = other_transformations(enem18, trans_enem_att)"
   ]
  },
  {
   "cell_type": "code",
   "execution_count": 65,
   "metadata": {},
   "outputs": [
    {
     "name": "stdout",
     "output_type": "stream",
     "text": [
      "['TITULACAO_0', 'TITULACAO_1', 'TITULACAO_2', 'TITULACAO_3']\n",
      "['TITULACAO_0', 'TITULACAO_1', 'TITULACAO_2', 'TITULACAO_3']\n"
     ]
    }
   ],
   "source": [
    "category_censo = (['TITULACAO'])\n",
    "trans_censo_att, model_censo=LR_student_to_school(censo17, censo18, category_censo)"
   ]
  },
  {
   "cell_type": "code",
   "execution_count": 66,
   "metadata": {},
   "outputs": [
    {
     "data": {
      "text/plain": [
       "14376"
      ]
     },
     "execution_count": 66,
     "metadata": {},
     "output_type": "execute_result"
    }
   ],
   "source": [
    "trans_censo_att.shape[0]"
   ]
  },
  {
   "cell_type": "code",
   "execution_count": 67,
   "metadata": {},
   "outputs": [],
   "source": [
    "trans_regress_att =pd.merge(trans_censo_att, trans_enem_att, on = 'CO_ESCOLA' )"
   ]
  },
  {
   "cell_type": "code",
   "execution_count": 68,
   "metadata": {},
   "outputs": [],
   "source": [
    "trans_regress_att =pd.merge(trans_regress_att ,enem18.drop_duplicates('CO_ESCOLA')[['CO_ESCOLA','TARGET']], on = 'CO_ESCOLA', how='left' )"
   ]
  },
  {
   "cell_type": "code",
   "execution_count": 69,
   "metadata": {},
   "outputs": [
    {
     "data": {
      "text/plain": [
       "0.25"
      ]
     },
     "execution_count": 69,
     "metadata": {},
     "output_type": "execute_result"
    }
   ],
   "source": [
    "#Percentage of positive target\n",
    "trans_regress_att.TARGET.astype('int').mean()"
   ]
  },
  {
   "cell_type": "code",
   "execution_count": 70,
   "metadata": {},
   "outputs": [],
   "source": [
    "trans_regress_att.to_csv(\"trans_regress_att.csv\", index = False)"
   ]
  },
  {
   "cell_type": "code",
   "execution_count": 71,
   "metadata": {},
   "outputs": [
    {
     "data": {
      "text/html": [
       "<div>\n",
       "<style scoped>\n",
       "    .dataframe tbody tr th:only-of-type {\n",
       "        vertical-align: middle;\n",
       "    }\n",
       "\n",
       "    .dataframe tbody tr th {\n",
       "        vertical-align: top;\n",
       "    }\n",
       "\n",
       "    .dataframe thead th {\n",
       "        text-align: right;\n",
       "    }\n",
       "</style>\n",
       "<table border=\"1\" class=\"dataframe\">\n",
       "  <thead>\n",
       "    <tr style=\"text-align: right;\">\n",
       "      <th></th>\n",
       "      <th>TITULACAO</th>\n",
       "      <th>CO_ESCOLA</th>\n",
       "      <th>Q001</th>\n",
       "      <th>Q002</th>\n",
       "      <th>Q003</th>\n",
       "      <th>Q004</th>\n",
       "      <th>Q006</th>\n",
       "      <th>Q007</th>\n",
       "      <th>NU_IDADE</th>\n",
       "      <th>TP_SEXO</th>\n",
       "      <th>TP_COR_RACA</th>\n",
       "      <th>Q005</th>\n",
       "      <th>Q008</th>\n",
       "      <th>Q009</th>\n",
       "      <th>Q010</th>\n",
       "      <th>Q011</th>\n",
       "      <th>Q012</th>\n",
       "      <th>Q013</th>\n",
       "      <th>Q014</th>\n",
       "      <th>Q015</th>\n",
       "      <th>Q016</th>\n",
       "      <th>Q017</th>\n",
       "      <th>Q018</th>\n",
       "      <th>Q019</th>\n",
       "      <th>Q020</th>\n",
       "      <th>Q021</th>\n",
       "      <th>Q022</th>\n",
       "      <th>Q023</th>\n",
       "      <th>Q024</th>\n",
       "      <th>Q025</th>\n",
       "      <th>TARGET</th>\n",
       "    </tr>\n",
       "  </thead>\n",
       "  <tbody>\n",
       "    <tr>\n",
       "      <td>0</td>\n",
       "      <td>0.224855</td>\n",
       "      <td>23077140.0</td>\n",
       "      <td>0.304298</td>\n",
       "      <td>0.176767</td>\n",
       "      <td>0.169913</td>\n",
       "      <td>0.377012</td>\n",
       "      <td>0.120046</td>\n",
       "      <td>0.212366</td>\n",
       "      <td>18.348148</td>\n",
       "      <td>0.555556</td>\n",
       "      <td>3.000000</td>\n",
       "      <td>6.592593</td>\n",
       "      <td>1.029630</td>\n",
       "      <td>2.000000</td>\n",
       "      <td>0.000000</td>\n",
       "      <td>0.000000</td>\n",
       "      <td>1.000000</td>\n",
       "      <td>0.029630</td>\n",
       "      <td>0.659259</td>\n",
       "      <td>0.000000</td>\n",
       "      <td>0.007407</td>\n",
       "      <td>0.0</td>\n",
       "      <td>1.000000</td>\n",
       "      <td>1.000000</td>\n",
       "      <td>0.059259</td>\n",
       "      <td>1.000000</td>\n",
       "      <td>1.933333</td>\n",
       "      <td>0.992593</td>\n",
       "      <td>0.014815</td>\n",
       "      <td>0.970370</td>\n",
       "      <td>0</td>\n",
       "    </tr>\n",
       "    <tr>\n",
       "      <td>1</td>\n",
       "      <td>0.187727</td>\n",
       "      <td>23265795.0</td>\n",
       "      <td>0.021968</td>\n",
       "      <td>0.036028</td>\n",
       "      <td>0.071404</td>\n",
       "      <td>0.067398</td>\n",
       "      <td>0.076538</td>\n",
       "      <td>0.212366</td>\n",
       "      <td>17.843373</td>\n",
       "      <td>0.530120</td>\n",
       "      <td>2.963855</td>\n",
       "      <td>4.433735</td>\n",
       "      <td>1.192771</td>\n",
       "      <td>1.987952</td>\n",
       "      <td>0.108434</td>\n",
       "      <td>0.457831</td>\n",
       "      <td>1.036145</td>\n",
       "      <td>0.048193</td>\n",
       "      <td>0.216867</td>\n",
       "      <td>0.012048</td>\n",
       "      <td>0.156627</td>\n",
       "      <td>0.0</td>\n",
       "      <td>0.975904</td>\n",
       "      <td>1.361446</td>\n",
       "      <td>0.602410</td>\n",
       "      <td>0.734940</td>\n",
       "      <td>2.253012</td>\n",
       "      <td>1.000000</td>\n",
       "      <td>0.204819</td>\n",
       "      <td>0.626506</td>\n",
       "      <td>0</td>\n",
       "    </tr>\n",
       "    <tr>\n",
       "      <td>2</td>\n",
       "      <td>0.371262</td>\n",
       "      <td>25077759.0</td>\n",
       "      <td>0.068503</td>\n",
       "      <td>0.056787</td>\n",
       "      <td>0.094391</td>\n",
       "      <td>0.045330</td>\n",
       "      <td>0.056863</td>\n",
       "      <td>0.223329</td>\n",
       "      <td>18.311475</td>\n",
       "      <td>0.655738</td>\n",
       "      <td>2.491803</td>\n",
       "      <td>4.262295</td>\n",
       "      <td>1.032787</td>\n",
       "      <td>2.163934</td>\n",
       "      <td>0.147541</td>\n",
       "      <td>0.262295</td>\n",
       "      <td>1.000000</td>\n",
       "      <td>0.098361</td>\n",
       "      <td>0.049180</td>\n",
       "      <td>0.000000</td>\n",
       "      <td>0.163934</td>\n",
       "      <td>0.0</td>\n",
       "      <td>1.000000</td>\n",
       "      <td>0.918033</td>\n",
       "      <td>0.573770</td>\n",
       "      <td>0.983607</td>\n",
       "      <td>1.819672</td>\n",
       "      <td>0.983607</td>\n",
       "      <td>0.147541</td>\n",
       "      <td>0.426230</td>\n",
       "      <td>0</td>\n",
       "    </tr>\n",
       "    <tr>\n",
       "      <td>3</td>\n",
       "      <td>0.258689</td>\n",
       "      <td>22022040.0</td>\n",
       "      <td>0.081582</td>\n",
       "      <td>0.086641</td>\n",
       "      <td>0.104176</td>\n",
       "      <td>0.050842</td>\n",
       "      <td>0.072198</td>\n",
       "      <td>0.223149</td>\n",
       "      <td>18.193548</td>\n",
       "      <td>0.564516</td>\n",
       "      <td>2.645161</td>\n",
       "      <td>4.322581</td>\n",
       "      <td>1.129032</td>\n",
       "      <td>2.193548</td>\n",
       "      <td>0.161290</td>\n",
       "      <td>0.338710</td>\n",
       "      <td>0.983871</td>\n",
       "      <td>0.209677</td>\n",
       "      <td>0.322581</td>\n",
       "      <td>0.080645</td>\n",
       "      <td>0.258065</td>\n",
       "      <td>0.0</td>\n",
       "      <td>0.983871</td>\n",
       "      <td>1.193548</td>\n",
       "      <td>0.580645</td>\n",
       "      <td>0.903226</td>\n",
       "      <td>2.241935</td>\n",
       "      <td>0.935484</td>\n",
       "      <td>0.306452</td>\n",
       "      <td>0.500000</td>\n",
       "      <td>0</td>\n",
       "    </tr>\n",
       "    <tr>\n",
       "      <td>4</td>\n",
       "      <td>0.251488</td>\n",
       "      <td>35907224.0</td>\n",
       "      <td>0.406853</td>\n",
       "      <td>0.256747</td>\n",
       "      <td>0.251189</td>\n",
       "      <td>0.093801</td>\n",
       "      <td>0.263983</td>\n",
       "      <td>0.288734</td>\n",
       "      <td>17.214286</td>\n",
       "      <td>0.714286</td>\n",
       "      <td>2.107143</td>\n",
       "      <td>3.892857</td>\n",
       "      <td>1.392857</td>\n",
       "      <td>2.214286</td>\n",
       "      <td>0.714286</td>\n",
       "      <td>0.642857</td>\n",
       "      <td>1.035714</td>\n",
       "      <td>0.678571</td>\n",
       "      <td>0.928571</td>\n",
       "      <td>0.142857</td>\n",
       "      <td>0.642857</td>\n",
       "      <td>0.0</td>\n",
       "      <td>0.714286</td>\n",
       "      <td>1.464286</td>\n",
       "      <td>0.357143</td>\n",
       "      <td>0.678571</td>\n",
       "      <td>2.750000</td>\n",
       "      <td>0.714286</td>\n",
       "      <td>0.750000</td>\n",
       "      <td>0.071429</td>\n",
       "      <td>0</td>\n",
       "    </tr>\n",
       "  </tbody>\n",
       "</table>\n",
       "</div>"
      ],
      "text/plain": [
       "   TITULACAO   CO_ESCOLA      Q001      Q002      Q003      Q004      Q006  \\\n",
       "0   0.224855  23077140.0  0.304298  0.176767  0.169913  0.377012  0.120046   \n",
       "1   0.187727  23265795.0  0.021968  0.036028  0.071404  0.067398  0.076538   \n",
       "2   0.371262  25077759.0  0.068503  0.056787  0.094391  0.045330  0.056863   \n",
       "3   0.258689  22022040.0  0.081582  0.086641  0.104176  0.050842  0.072198   \n",
       "4   0.251488  35907224.0  0.406853  0.256747  0.251189  0.093801  0.263983   \n",
       "\n",
       "       Q007   NU_IDADE   TP_SEXO  TP_COR_RACA      Q005      Q008      Q009  \\\n",
       "0  0.212366  18.348148  0.555556     3.000000  6.592593  1.029630  2.000000   \n",
       "1  0.212366  17.843373  0.530120     2.963855  4.433735  1.192771  1.987952   \n",
       "2  0.223329  18.311475  0.655738     2.491803  4.262295  1.032787  2.163934   \n",
       "3  0.223149  18.193548  0.564516     2.645161  4.322581  1.129032  2.193548   \n",
       "4  0.288734  17.214286  0.714286     2.107143  3.892857  1.392857  2.214286   \n",
       "\n",
       "       Q010      Q011      Q012      Q013      Q014      Q015      Q016  Q017  \\\n",
       "0  0.000000  0.000000  1.000000  0.029630  0.659259  0.000000  0.007407   0.0   \n",
       "1  0.108434  0.457831  1.036145  0.048193  0.216867  0.012048  0.156627   0.0   \n",
       "2  0.147541  0.262295  1.000000  0.098361  0.049180  0.000000  0.163934   0.0   \n",
       "3  0.161290  0.338710  0.983871  0.209677  0.322581  0.080645  0.258065   0.0   \n",
       "4  0.714286  0.642857  1.035714  0.678571  0.928571  0.142857  0.642857   0.0   \n",
       "\n",
       "       Q018      Q019      Q020      Q021      Q022      Q023      Q024  \\\n",
       "0  1.000000  1.000000  0.059259  1.000000  1.933333  0.992593  0.014815   \n",
       "1  0.975904  1.361446  0.602410  0.734940  2.253012  1.000000  0.204819   \n",
       "2  1.000000  0.918033  0.573770  0.983607  1.819672  0.983607  0.147541   \n",
       "3  0.983871  1.193548  0.580645  0.903226  2.241935  0.935484  0.306452   \n",
       "4  0.714286  1.464286  0.357143  0.678571  2.750000  0.714286  0.750000   \n",
       "\n",
       "       Q025  TARGET  \n",
       "0  0.970370       0  \n",
       "1  0.626506       0  \n",
       "2  0.426230       0  \n",
       "3  0.500000       0  \n",
       "4  0.071429       0  "
      ]
     },
     "execution_count": 71,
     "metadata": {},
     "output_type": "execute_result"
    }
   ],
   "source": [
    "trans_regress_att.head()\n"
   ]
  },
  {
   "cell_type": "code",
   "execution_count": null,
   "metadata": {},
   "outputs": [],
   "source": []
  }
 ],
 "metadata": {
  "kernelspec": {
   "display_name": "Python 3",
   "language": "python",
   "name": "python3"
  },
  "language_info": {
   "codemirror_mode": {
    "name": "ipython",
    "version": 3
   },
   "file_extension": ".py",
   "mimetype": "text/x-python",
   "name": "python",
   "nbconvert_exporter": "python",
   "pygments_lexer": "ipython3",
   "version": "3.6.9"
  }
 },
 "nbformat": 4,
 "nbformat_minor": 4
}
