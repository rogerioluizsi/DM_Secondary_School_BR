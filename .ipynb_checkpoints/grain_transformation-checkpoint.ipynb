{
 "cells": [
  {
   "cell_type": "code",
   "execution_count": 1,
   "metadata": {},
   "outputs": [],
   "source": [
    "import pandas as pd\n",
    "import numpy as np\n",
    "import seaborn as sns\n",
    "import sklearn as sklearn\n",
    "import seaborn as sns\n",
    "import matplotlib.pyplot as plt\n",
    "%matplotlib inline\n",
    "from scipy import stats\n",
    "import statistics as es \n",
    "import csv\n",
    "import re \n",
    "import warnings\n",
    "warnings.filterwarnings('ignore')\n",
    "pd.set_option('display.max_columns', None)"
   ]
  },
  {
   "cell_type": "code",
   "execution_count": 803,
   "metadata": {},
   "outputs": [
    {
     "data": {
      "text/plain": [
       "(11751419, 6)"
      ]
     },
     "execution_count": 803,
     "metadata": {},
     "output_type": "execute_result"
    }
   ],
   "source": [
    "censo17.shape"
   ]
  },
  {
   "cell_type": "markdown",
   "metadata": {},
   "source": [
    "## ENEM  DATASET"
   ]
  },
  {
   "cell_type": "code",
   "execution_count": 882,
   "metadata": {},
   "outputs": [],
   "source": [
    "#Choose just useful features for us \n",
    "fenem= ['NU_INSCRICAO','CO_ESCOLA','Q001','Q002', 'NU_NOTA_CN', 'NU_NOTA_CH', 'NU_NOTA_LC', 'NU_NOTA_MT', 'NU_NOTA_REDACAO']\n",
    "enem17=pd.read_csv(\"~/data/Enem/MICRODADOS_ENEM_2017.csv\", sep=';',encoding=\"iso-8859-2\", usecols = fenem)\n",
    "enem18=pd.read_csv(\"~/data/Enem/MICRODADOS_ENEM_2018.csv\", sep=';',encoding=\"iso-8859-2\", usecols = fenem)"
   ]
  },
  {
   "cell_type": "code",
   "execution_count": 694,
   "metadata": {},
   "outputs": [],
   "source": [
    "#category=(['NU_INSCRICAO','CO_ESCOLA','Q001','Q002'])\n",
    "#enem17[category]= enem17[category].astype('category')"
   ]
  },
  {
   "cell_type": "code",
   "execution_count": 883,
   "metadata": {},
   "outputs": [],
   "source": [
    "enem17 = enem17.copy()\n",
    "enem18 = enem18.copy()\n"
   ]
  },
  {
   "cell_type": "code",
   "execution_count": 885,
   "metadata": {},
   "outputs": [
    {
     "name": "stdout",
     "output_type": "stream",
     "text": [
      "There are 6731341 students of 33834 Schools in ENEM 2017\n",
      "There are 5513747 students of 32253 Schools in ENEM 2018\n"
     ]
    }
   ],
   "source": [
    "#How many Students left? How many schools are they in?\n",
    "print (\"There are\", enem17.shape[0], \"students\",  \"of\", enem17.CO_ESCOLA.value_counts().count() ,\"Schools in ENEM 2017\")\n",
    "#enem17.head()\n",
    "\n",
    "print (\"There are\", enem18.shape[0], \"students\",  \"of\", enem18.CO_ESCOLA.value_counts().count() ,\"Schools in ENEM 2018\")\n",
    "#enem18.head()"
   ]
  },
  {
   "cell_type": "markdown",
   "metadata": {},
   "source": [
    "### Set last quartile of average scores as the best students"
   ]
  },
  {
   "cell_type": "code",
   "execution_count": 886,
   "metadata": {},
   "outputs": [],
   "source": [
    "#first, drop out those whithout schools \n",
    "enem17.dropna(inplace = True, axis=0, subset=['CO_ESCOLA'])\n",
    "enem18.dropna(inplace = True, axis=0, subset=['CO_ESCOLA'])"
   ]
  },
  {
   "cell_type": "code",
   "execution_count": 887,
   "metadata": {},
   "outputs": [],
   "source": [
    "#Second, drop out insufficient scores \n",
    "fields = (['NU_NOTA_CN', 'NU_NOTA_CN','NU_NOTA_CN','NU_NOTA_CN', 'NU_NOTA_REDACAO'])\n",
    "# With NaN\n",
    "enem17.dropna(inplace = True, axis=0, subset=fields)\n",
    "enem18.dropna(inplace = True, axis=0, subset=fields)\n",
    "# With 0\n",
    "enem17 = enem17[~(enem17[fields] == 0).any(axis=1)]\n",
    "enem18 = enem18[~(enem18[fields] == 0).any(axis=1)]"
   ]
  },
  {
   "cell_type": "code",
   "execution_count": 888,
   "metadata": {},
   "outputs": [],
   "source": [
    "#Creating average of students in all fields\n",
    "enem17['AVG_SCORE'] = (enem17.NU_NOTA_CN + enem17.NU_NOTA_CH + enem17.NU_NOTA_LC + enem17.NU_NOTA_MT + enem17.NU_NOTA_REDACAO)/5\n",
    "enem18['AVG_SCORE'] = (enem18.NU_NOTA_CN + enem18.NU_NOTA_CH + enem18.NU_NOTA_LC + enem18.NU_NOTA_MT + enem18.NU_NOTA_REDACAO)/5"
   ]
  },
  {
   "cell_type": "code",
   "execution_count": 889,
   "metadata": {},
   "outputs": [],
   "source": [
    "#Creating the average of all schools by each studentes score\n",
    "enem17['AVG_SCORE_SCHOOL'] = enem17.groupby(['CO_ESCOLA'])['AVG_SCORE'].transform('mean') \n",
    "enem18['AVG_SCORE_SCHOOL'] = enem18.groupby(['CO_ESCOLA'])['AVG_SCORE'].transform('mean') "
   ]
  },
  {
   "cell_type": "code",
   "execution_count": 890,
   "metadata": {},
   "outputs": [],
   "source": [
    "#Sorting out the shcool's scores in quartiles. The upper quartile will be the Good Schools.\n",
    "enem17['TARGET'] = pd.qcut (enem17.AVG_SCORE_SCHOOL, 4, labels = [1,2,3,4]).map(lambda x : 0 if x!=4 else 1) \n",
    "enem18['TARGET'] = pd.qcut (enem18.AVG_SCORE_SCHOOL, 4, labels = [1,2,3,4]).map(lambda x : 0 if x!=4 else 1) \n"
   ]
  },
  {
   "cell_type": "code",
   "execution_count": 891,
   "metadata": {},
   "outputs": [
    {
     "name": "stdout",
     "output_type": "stream",
     "text": [
      "75.00009542589339 % lowers quartis in ENEM 2017\n",
      "75.00310581817226 % lowers quartis in ENEM 2018\n"
     ]
    }
   ],
   "source": [
    "#It's right? \n",
    "print((enem17.TARGET==0).sum()/(enem17.TARGET.count())*100, '% lowers quartis in ENEM 2017')\n",
    "print((enem18.TARGET==0).sum()/(enem18.TARGET.count())*100, '% lowers quartis in ENEM 2018')"
   ]
  },
  {
   "cell_type": "markdown",
   "metadata": {},
   "source": [
    "## CENSO 2017 DATASET "
   ]
  },
  {
   "cell_type": "code",
   "execution_count": 801,
   "metadata": {},
   "outputs": [],
   "source": [
    "#Choose just useful features for us\n",
    "fcenso = ['CO_PESSOA_FISICA','NU_ANO_CENSO','IN_ESPECIALIZACAO','IN_MESTRADO','IN_DOUTORADO','CO_ENTIDADE']\n",
    "\n",
    "#Reading data of Teachers in Censo 2017\n",
    "CO=pd.read_csv(\"~/data/censo2017/DOCENTES_CO.CSV\", sep='|', encoding=\"iso-8859-2\", usecols = fcenso)\n",
    "NE=pd.read_csv(\"~/data/censo2017/DOCENTES_NORDESTE.CSV\", sep='|', encoding=\"iso-8859-2\", usecols = fcenso)\n",
    "NT=pd.read_csv(\"~/data/censo2017/DOCENTES_NORTE.CSV\", sep='|', encoding=\"iso-8859-2\", usecols = fcenso)\n",
    "SE=pd.read_csv(\"~/data/censo2017/DOCENTES_SUDESTE.CSV\", sep='|', encoding=\"iso-8859-2\", usecols = fcenso)\n",
    "SU=pd.read_csv(\"~/data/censo2017/DOCENTES_SUL.CSV\", sep='|', encoding=\"iso-8859-2\", usecols = fcenso)"
   ]
  },
  {
   "cell_type": "code",
   "execution_count": 802,
   "metadata": {},
   "outputs": [],
   "source": [
    "#Concatening the subsets and creating a unique dataset, than transform all features and categories, as it are.\n",
    "censo17= pd.concat([CO, NE, NT, SE, SU])\n",
    "censo17=censo17.astype('category')"
   ]
  },
  {
   "cell_type": "markdown",
   "metadata": {},
   "source": [
    "### Now, from grain teacher to school.\n",
    "Get only teachers who work in secondary schools (based on ENEM)"
   ]
  },
  {
   "cell_type": "code",
   "execution_count": 839,
   "metadata": {},
   "outputs": [
    {
     "name": "stdout",
     "output_type": "stream",
     "text": [
      "There are 876962 Teachers at 30900 Schools\n"
     ]
    },
    {
     "data": {
      "text/html": [
       "<div>\n",
       "<style scoped>\n",
       "    .dataframe tbody tr th:only-of-type {\n",
       "        vertical-align: middle;\n",
       "    }\n",
       "\n",
       "    .dataframe tbody tr th {\n",
       "        vertical-align: top;\n",
       "    }\n",
       "\n",
       "    .dataframe thead th {\n",
       "        text-align: right;\n",
       "    }\n",
       "</style>\n",
       "<table border=\"1\" class=\"dataframe\">\n",
       "  <thead>\n",
       "    <tr style=\"text-align: right;\">\n",
       "      <th></th>\n",
       "      <th>CO_ESCOLA</th>\n",
       "      <th>TARGET</th>\n",
       "      <th>NU_ANO_CENSO</th>\n",
       "      <th>CO_PESSOA_FISICA</th>\n",
       "      <th>IN_ESPECIALIZACAO</th>\n",
       "      <th>IN_MESTRADO</th>\n",
       "      <th>IN_DOUTORADO</th>\n",
       "      <th>CO_ENTIDADE</th>\n",
       "      <th>TITULACAO</th>\n",
       "    </tr>\n",
       "  </thead>\n",
       "  <tbody>\n",
       "    <tr>\n",
       "      <td>0</td>\n",
       "      <td>13079220.0</td>\n",
       "      <td>1</td>\n",
       "      <td>2017</td>\n",
       "      <td>122239104758</td>\n",
       "      <td>1.0</td>\n",
       "      <td>0.0</td>\n",
       "      <td>0.0</td>\n",
       "      <td>13079220</td>\n",
       "      <td>1</td>\n",
       "    </tr>\n",
       "    <tr>\n",
       "      <td>1</td>\n",
       "      <td>13079220.0</td>\n",
       "      <td>1</td>\n",
       "      <td>2017</td>\n",
       "      <td>115004097231</td>\n",
       "      <td>0.0</td>\n",
       "      <td>0.0</td>\n",
       "      <td>0.0</td>\n",
       "      <td>13079220</td>\n",
       "      <td>0</td>\n",
       "    </tr>\n",
       "    <tr>\n",
       "      <td>2</td>\n",
       "      <td>13079220.0</td>\n",
       "      <td>1</td>\n",
       "      <td>2017</td>\n",
       "      <td>117767630845</td>\n",
       "      <td>0.0</td>\n",
       "      <td>0.0</td>\n",
       "      <td>0.0</td>\n",
       "      <td>13079220</td>\n",
       "      <td>0</td>\n",
       "    </tr>\n",
       "    <tr>\n",
       "      <td>3</td>\n",
       "      <td>13079220.0</td>\n",
       "      <td>1</td>\n",
       "      <td>2017</td>\n",
       "      <td>121176966943</td>\n",
       "      <td>0.0</td>\n",
       "      <td>0.0</td>\n",
       "      <td>0.0</td>\n",
       "      <td>13079220</td>\n",
       "      <td>0</td>\n",
       "    </tr>\n",
       "    <tr>\n",
       "      <td>4</td>\n",
       "      <td>13079220.0</td>\n",
       "      <td>1</td>\n",
       "      <td>2017</td>\n",
       "      <td>121829895361</td>\n",
       "      <td>0.0</td>\n",
       "      <td>0.0</td>\n",
       "      <td>0.0</td>\n",
       "      <td>13079220</td>\n",
       "      <td>0</td>\n",
       "    </tr>\n",
       "  </tbody>\n",
       "</table>\n",
       "</div>"
      ],
      "text/plain": [
       "    CO_ESCOLA  TARGET  NU_ANO_CENSO  CO_PESSOA_FISICA  IN_ESPECIALIZACAO  \\\n",
       "0  13079220.0       1          2017      122239104758                1.0   \n",
       "1  13079220.0       1          2017      115004097231                0.0   \n",
       "2  13079220.0       1          2017      117767630845                0.0   \n",
       "3  13079220.0       1          2017      121176966943                0.0   \n",
       "4  13079220.0       1          2017      121829895361                0.0   \n",
       "\n",
       "   IN_MESTRADO  IN_DOUTORADO  CO_ENTIDADE  TITULACAO  \n",
       "0          0.0           0.0     13079220          1  \n",
       "1          0.0           0.0     13079220          0  \n",
       "2          0.0           0.0     13079220          0  \n",
       "3          0.0           0.0     13079220          0  \n",
       "4          0.0           0.0     13079220          0  "
      ]
     },
     "execution_count": 839,
     "metadata": {},
     "output_type": "execute_result"
    }
   ],
   "source": [
    "#Some informations\n",
    "print (\"There are\", censo17.drop_duplicates('CO_PESSOA_FISICA').shape[0], \"Teachers\",  \"at\", censo17.CO_ENTIDADE.value_counts().count() ,\"Schools\")\n",
    "censo17.head()"
   ]
  },
  {
   "cell_type": "code",
   "execution_count": 838,
   "metadata": {},
   "outputs": [],
   "source": [
    "#It's necessary drop duplicates whose are teachers in the same school but in different classes. \n",
    "#This way, the teacher appear just one time in each school. Teacher grain.\n",
    "censo17.drop_duplicates(subset=['CO_PESSOA_FISICA', 'CO_ENTIDADE'], inplace=True)\n",
    "censo18.drop_duplicates(subset=['CO_PESSOA_FISICA', 'CO_ENTIDADE'], inplace=True)"
   ]
  },
  {
   "cell_type": "code",
   "execution_count": 807,
   "metadata": {},
   "outputs": [],
   "source": [
    "#getting the schools represented in ENEM\n",
    "schoolsEnem = enem17.drop_duplicates('CO_ESCOLA')\n",
    "schoolsEnem = schoolsEnem[(['CO_ESCOLA','TARGET'])]\n",
    "#schoolsEnem.astype('category', inplace=True)"
   ]
  },
  {
   "cell_type": "code",
   "execution_count": 808,
   "metadata": {},
   "outputs": [],
   "source": [
    "#Merge the two datasets, whereas that only teachers who work in school represented in ENEM 17\n",
    "censo17= pd.merge(schoolsEnem, censo17, left_on='CO_ESCOLA', right_on='CO_ENTIDADE', how='inner')"
   ]
  },
  {
   "cell_type": "code",
   "execution_count": 809,
   "metadata": {},
   "outputs": [
    {
     "data": {
      "text/plain": [
       "CO_ESCOLA                 0\n",
       "TARGET                    0\n",
       "NU_ANO_CENSO              0\n",
       "CO_PESSOA_FISICA          0\n",
       "IN_ESPECIALIZACAO    117764\n",
       "IN_MESTRADO          117764\n",
       "IN_DOUTORADO         117764\n",
       "CO_ENTIDADE               0\n",
       "dtype: int64"
      ]
     },
     "execution_count": 809,
     "metadata": {},
     "output_type": "execute_result"
    }
   ],
   "source": [
    "censo17.isnull().sum()"
   ]
  },
  {
   "cell_type": "code",
   "execution_count": 810,
   "metadata": {},
   "outputs": [
    {
     "data": {
      "text/plain": [
       "CO_ESCOLA            0\n",
       "TARGET               0\n",
       "NU_ANO_CENSO         0\n",
       "CO_PESSOA_FISICA     0\n",
       "IN_ESPECIALIZACAO    0\n",
       "IN_MESTRADO          0\n",
       "IN_DOUTORADO         0\n",
       "CO_ENTIDADE          0\n",
       "dtype: int64"
      ]
     },
     "execution_count": 810,
     "metadata": {},
     "output_type": "execute_result"
    }
   ],
   "source": [
    "#Missing values in these cases are \"0\" \n",
    "censo17['IN_ESPECIALIZACAO'].fillna(0.0, inplace=True)\n",
    "censo17['IN_MESTRADO'].fillna(0.0, inplace=True)\n",
    "censo17['IN_DOUTORADO'].fillna(0.0, inplace=True)\n",
    "censo17.isnull().sum()"
   ]
  },
  {
   "cell_type": "code",
   "execution_count": 812,
   "metadata": {},
   "outputs": [],
   "source": [
    "#In database have different patterns to represent level of education. ex: Master has signed in two different ways, or marked in Master and Especialization or just in Master.\n",
    "def education_level(df):\n",
    "    if (df.IN_ESPECIALIZACAO==0.0) & (df.IN_MESTRADO==0.0) & (df.IN_DOUTORADO ==0.0):\n",
    "        #print(0)\n",
    "        df['TITULACAO']= 0\n",
    "    elif (df.IN_ESPECIALIZACAO==1.0) & (df.IN_MESTRADO==0.0) & (df.IN_DOUTORADO ==0.0):\n",
    "        #print(1)\n",
    "        df['TITULACAO']= 1\n",
    "    elif (df.IN_ESPECIALIZACAO==1.0) & (df.IN_MESTRADO==1.0) & (df.IN_DOUTORADO ==0.0):\n",
    "        #print(2)\n",
    "        df['TITULACAO']= 2\n",
    "    elif (df.IN_ESPECIALIZACAO==0.0) & (df.IN_MESTRADO==1.0) & (df.IN_DOUTORADO ==0.0):\n",
    "        #print(2)\n",
    "        df['TITULACAO']= 2\n",
    "    else:\n",
    "        #print(3)\n",
    "        df['TITULACAO']= 3  \n",
    "    return df\n",
    "\n"
   ]
  },
  {
   "cell_type": "code",
   "execution_count": 813,
   "metadata": {},
   "outputs": [],
   "source": [
    "#censo17.apply(education_level)\n",
    "censo17=censo17.apply(education_level, axis=1)"
   ]
  },
  {
   "cell_type": "code",
   "execution_count": 814,
   "metadata": {},
   "outputs": [
    {
     "data": {
      "text/html": [
       "<div>\n",
       "<style scoped>\n",
       "    .dataframe tbody tr th:only-of-type {\n",
       "        vertical-align: middle;\n",
       "    }\n",
       "\n",
       "    .dataframe tbody tr th {\n",
       "        vertical-align: top;\n",
       "    }\n",
       "\n",
       "    .dataframe thead th {\n",
       "        text-align: right;\n",
       "    }\n",
       "</style>\n",
       "<table border=\"1\" class=\"dataframe\">\n",
       "  <thead>\n",
       "    <tr style=\"text-align: right;\">\n",
       "      <th></th>\n",
       "      <th>CO_ESCOLA</th>\n",
       "      <th>TARGET</th>\n",
       "      <th>NU_ANO_CENSO</th>\n",
       "      <th>CO_PESSOA_FISICA</th>\n",
       "      <th>IN_ESPECIALIZACAO</th>\n",
       "      <th>IN_MESTRADO</th>\n",
       "      <th>IN_DOUTORADO</th>\n",
       "      <th>CO_ENTIDADE</th>\n",
       "      <th>TITULACAO</th>\n",
       "    </tr>\n",
       "  </thead>\n",
       "  <tbody>\n",
       "    <tr>\n",
       "      <td>0</td>\n",
       "      <td>13079220.0</td>\n",
       "      <td>1</td>\n",
       "      <td>2017</td>\n",
       "      <td>122239104758</td>\n",
       "      <td>1.0</td>\n",
       "      <td>0.0</td>\n",
       "      <td>0.0</td>\n",
       "      <td>13079220</td>\n",
       "      <td>1</td>\n",
       "    </tr>\n",
       "    <tr>\n",
       "      <td>1</td>\n",
       "      <td>13079220.0</td>\n",
       "      <td>1</td>\n",
       "      <td>2017</td>\n",
       "      <td>115004097231</td>\n",
       "      <td>0.0</td>\n",
       "      <td>0.0</td>\n",
       "      <td>0.0</td>\n",
       "      <td>13079220</td>\n",
       "      <td>0</td>\n",
       "    </tr>\n",
       "    <tr>\n",
       "      <td>2</td>\n",
       "      <td>13079220.0</td>\n",
       "      <td>1</td>\n",
       "      <td>2017</td>\n",
       "      <td>117767630845</td>\n",
       "      <td>0.0</td>\n",
       "      <td>0.0</td>\n",
       "      <td>0.0</td>\n",
       "      <td>13079220</td>\n",
       "      <td>0</td>\n",
       "    </tr>\n",
       "    <tr>\n",
       "      <td>3</td>\n",
       "      <td>13079220.0</td>\n",
       "      <td>1</td>\n",
       "      <td>2017</td>\n",
       "      <td>121176966943</td>\n",
       "      <td>0.0</td>\n",
       "      <td>0.0</td>\n",
       "      <td>0.0</td>\n",
       "      <td>13079220</td>\n",
       "      <td>0</td>\n",
       "    </tr>\n",
       "    <tr>\n",
       "      <td>4</td>\n",
       "      <td>13079220.0</td>\n",
       "      <td>1</td>\n",
       "      <td>2017</td>\n",
       "      <td>121829895361</td>\n",
       "      <td>0.0</td>\n",
       "      <td>0.0</td>\n",
       "      <td>0.0</td>\n",
       "      <td>13079220</td>\n",
       "      <td>0</td>\n",
       "    </tr>\n",
       "    <tr>\n",
       "      <td>...</td>\n",
       "      <td>...</td>\n",
       "      <td>...</td>\n",
       "      <td>...</td>\n",
       "      <td>...</td>\n",
       "      <td>...</td>\n",
       "      <td>...</td>\n",
       "      <td>...</td>\n",
       "      <td>...</td>\n",
       "      <td>...</td>\n",
       "    </tr>\n",
       "    <tr>\n",
       "      <td>1082363</td>\n",
       "      <td>31331538.0</td>\n",
       "      <td>0</td>\n",
       "      <td>2017</td>\n",
       "      <td>130124441300</td>\n",
       "      <td>0.0</td>\n",
       "      <td>0.0</td>\n",
       "      <td>0.0</td>\n",
       "      <td>31331538</td>\n",
       "      <td>0</td>\n",
       "    </tr>\n",
       "    <tr>\n",
       "      <td>1082364</td>\n",
       "      <td>31331538.0</td>\n",
       "      <td>0</td>\n",
       "      <td>2017</td>\n",
       "      <td>123324739550</td>\n",
       "      <td>0.0</td>\n",
       "      <td>0.0</td>\n",
       "      <td>0.0</td>\n",
       "      <td>31331538</td>\n",
       "      <td>0</td>\n",
       "    </tr>\n",
       "    <tr>\n",
       "      <td>1082365</td>\n",
       "      <td>31331538.0</td>\n",
       "      <td>0</td>\n",
       "      <td>2017</td>\n",
       "      <td>114560797861</td>\n",
       "      <td>0.0</td>\n",
       "      <td>0.0</td>\n",
       "      <td>0.0</td>\n",
       "      <td>31331538</td>\n",
       "      <td>0</td>\n",
       "    </tr>\n",
       "    <tr>\n",
       "      <td>1082366</td>\n",
       "      <td>31331538.0</td>\n",
       "      <td>0</td>\n",
       "      <td>2017</td>\n",
       "      <td>123437395520</td>\n",
       "      <td>0.0</td>\n",
       "      <td>0.0</td>\n",
       "      <td>0.0</td>\n",
       "      <td>31331538</td>\n",
       "      <td>0</td>\n",
       "    </tr>\n",
       "    <tr>\n",
       "      <td>1082367</td>\n",
       "      <td>31331538.0</td>\n",
       "      <td>0</td>\n",
       "      <td>2017</td>\n",
       "      <td>124191408770</td>\n",
       "      <td>0.0</td>\n",
       "      <td>0.0</td>\n",
       "      <td>0.0</td>\n",
       "      <td>31331538</td>\n",
       "      <td>0</td>\n",
       "    </tr>\n",
       "  </tbody>\n",
       "</table>\n",
       "<p>1082368 rows × 9 columns</p>\n",
       "</div>"
      ],
      "text/plain": [
       "          CO_ESCOLA  TARGET  NU_ANO_CENSO  CO_PESSOA_FISICA  \\\n",
       "0        13079220.0       1          2017      122239104758   \n",
       "1        13079220.0       1          2017      115004097231   \n",
       "2        13079220.0       1          2017      117767630845   \n",
       "3        13079220.0       1          2017      121176966943   \n",
       "4        13079220.0       1          2017      121829895361   \n",
       "...             ...     ...           ...               ...   \n",
       "1082363  31331538.0       0          2017      130124441300   \n",
       "1082364  31331538.0       0          2017      123324739550   \n",
       "1082365  31331538.0       0          2017      114560797861   \n",
       "1082366  31331538.0       0          2017      123437395520   \n",
       "1082367  31331538.0       0          2017      124191408770   \n",
       "\n",
       "         IN_ESPECIALIZACAO  IN_MESTRADO  IN_DOUTORADO  CO_ENTIDADE  TITULACAO  \n",
       "0                      1.0          0.0           0.0     13079220          1  \n",
       "1                      0.0          0.0           0.0     13079220          0  \n",
       "2                      0.0          0.0           0.0     13079220          0  \n",
       "3                      0.0          0.0           0.0     13079220          0  \n",
       "4                      0.0          0.0           0.0     13079220          0  \n",
       "...                    ...          ...           ...          ...        ...  \n",
       "1082363                0.0          0.0           0.0     31331538          0  \n",
       "1082364                0.0          0.0           0.0     31331538          0  \n",
       "1082365                0.0          0.0           0.0     31331538          0  \n",
       "1082366                0.0          0.0           0.0     31331538          0  \n",
       "1082367                0.0          0.0           0.0     31331538          0  \n",
       "\n",
       "[1082368 rows x 9 columns]"
      ]
     },
     "execution_count": 814,
     "metadata": {},
     "output_type": "execute_result"
    }
   ],
   "source": [
    "censo17"
   ]
  },
  {
   "cell_type": "markdown",
   "metadata": {},
   "source": [
    "##### We will transform the ENEM and CENSO (Table Teachers) database to decision grain (School). This way ,is necessary transforming the Q001 and Q002 (ENEM) that are in the student grain, and education level (TITULACAO in CENSO) that are in teacher grain. Instead the pratical use of MODE, it will use the regression on the attribute distribution having its histogram relative frequencies as input and the  decision level TARGET as output.  "
   ]
  },
  {
   "cell_type": "code",
   "execution_count": 892,
   "metadata": {},
   "outputs": [],
   "source": [
    "def relative_frequencies(df, colum):\n",
    "    root = (['CO_ESCOLA', 'TARGET'])\n",
    "    df = df [root + [colum]]\n",
    "    df = pd.get_dummies(df, columns=[colum])\n",
    "    filter_col = [col for col in df if col.startswith(colum)]\n",
    "    print (filter_col)\n",
    "    for x in filter_col:            \n",
    "        df[x] = df.groupby(df['CO_ESCOLA'])[x].transform(sum)/ df.groupby(df['CO_ESCOLA'])[x].transform('count')\n",
    "        \n",
    "    return df\n",
    "\n",
    "\n",
    "    "
   ]
  },
  {
   "cell_type": "code",
   "execution_count": 893,
   "metadata": {},
   "outputs": [],
   "source": [
    "def LR_learn_apply_estudent (df1, df2):\n",
    "    colum = (['Q001', 'Q002'])\n",
    "    result = pd.DataFrame()\n",
    "    for x in colum:\n",
    "        #print(df1[x])\n",
    "        temp = relative_frequencies(df1,df1[x].name)\n",
    "        temp.drop_duplicates('CO_ESCOLA', inplace=True)\n",
    "        temp = temp.loc[:, ~temp.columns.isin(['CO_ESCOLA'])]\n",
    "        temp_DATA = temp.loc[:, temp.columns != 'TARGET']\n",
    "        temp_TARGET = temp.loc[:, temp.columns == 'TARGET']\n",
    "        \n",
    "        LR_temp = LogisticRegression()\n",
    "        LR_temp.fit(temp_DATA, temp_TARGET)\n",
    "        print(\"Aprendi\")\n",
    "        \n",
    "        \n",
    "        temp = relative_frequencies(df2,df2[x].name)\n",
    "        temp.drop_duplicates('CO_ESCOLA', inplace=True) # v se funciona o inplace\n",
    "        temp = temp.loc[:, ~temp.columns.isin(['CO_ESCOLA'])]\n",
    "        temp_DATA = temp.loc[:, temp.columns != 'TARGET']\n",
    "        \n",
    "        result[x] =  LR_temp.predict_proba(temp_DATA)[:,1]\n",
    "        print(\"Apliquei\")\n",
    "       \n",
    "        #da um join desse x[] com o df2 e retona um frame com todas as novas colunas e o cod_escola\n",
    "    result = pd.merge(result, df2.CO_ESCOLA, left_index=True, right_index=True)\n",
    "        \n",
    "    return result\n",
    "        \n",
    "        \n",
    "\n",
    "        \n",
    "        \n",
    "        "
   ]
  },
  {
   "cell_type": "code",
   "execution_count": 894,
   "metadata": {},
   "outputs": [
    {
     "name": "stdout",
     "output_type": "stream",
     "text": [
      "['Q001_A', 'Q001_B', 'Q001_C', 'Q001_D', 'Q001_E', 'Q001_F', 'Q001_G', 'Q001_H']\n",
      "Aprendi\n",
      "['Q001_A', 'Q001_B', 'Q001_C', 'Q001_D', 'Q001_E', 'Q001_F', 'Q001_G', 'Q001_H']\n",
      "Apliquei\n",
      "['Q002_A', 'Q002_B', 'Q002_C', 'Q002_D', 'Q002_E', 'Q002_F', 'Q002_G', 'Q002_H']\n",
      "Aprendi\n",
      "['Q002_A', 'Q002_B', 'Q002_C', 'Q002_D', 'Q002_E', 'Q002_F', 'Q002_G', 'Q002_H']\n",
      "Apliquei\n"
     ]
    },
    {
     "data": {
      "text/html": [
       "<div>\n",
       "<style scoped>\n",
       "    .dataframe tbody tr th:only-of-type {\n",
       "        vertical-align: middle;\n",
       "    }\n",
       "\n",
       "    .dataframe tbody tr th {\n",
       "        vertical-align: top;\n",
       "    }\n",
       "\n",
       "    .dataframe thead th {\n",
       "        text-align: right;\n",
       "    }\n",
       "</style>\n",
       "<table border=\"1\" class=\"dataframe\">\n",
       "  <thead>\n",
       "    <tr style=\"text-align: right;\">\n",
       "      <th></th>\n",
       "      <th>Q001</th>\n",
       "      <th>Q002</th>\n",
       "      <th>CO_ESCOLA</th>\n",
       "    </tr>\n",
       "  </thead>\n",
       "  <tbody>\n",
       "    <tr>\n",
       "      <td>8</td>\n",
       "      <td>0.282567</td>\n",
       "      <td>0.407099</td>\n",
       "      <td>23077140.0</td>\n",
       "    </tr>\n",
       "    <tr>\n",
       "      <td>16</td>\n",
       "      <td>0.148958</td>\n",
       "      <td>0.187879</td>\n",
       "      <td>23265795.0</td>\n",
       "    </tr>\n",
       "    <tr>\n",
       "      <td>26</td>\n",
       "      <td>0.049225</td>\n",
       "      <td>0.076931</td>\n",
       "      <td>25077759.0</td>\n",
       "    </tr>\n",
       "    <tr>\n",
       "      <td>29</td>\n",
       "      <td>0.106147</td>\n",
       "      <td>0.085413</td>\n",
       "      <td>22022040.0</td>\n",
       "    </tr>\n",
       "    <tr>\n",
       "      <td>39</td>\n",
       "      <td>0.237827</td>\n",
       "      <td>0.255389</td>\n",
       "      <td>35907224.0</td>\n",
       "    </tr>\n",
       "    <tr>\n",
       "      <td>...</td>\n",
       "      <td>...</td>\n",
       "      <td>...</td>\n",
       "      <td>...</td>\n",
       "    </tr>\n",
       "    <tr>\n",
       "      <td>30792</td>\n",
       "      <td>0.480665</td>\n",
       "      <td>0.347342</td>\n",
       "      <td>26178230.0</td>\n",
       "    </tr>\n",
       "    <tr>\n",
       "      <td>30795</td>\n",
       "      <td>0.985250</td>\n",
       "      <td>0.990007</td>\n",
       "      <td>35046361.0</td>\n",
       "    </tr>\n",
       "    <tr>\n",
       "      <td>30800</td>\n",
       "      <td>0.003315</td>\n",
       "      <td>0.005671</td>\n",
       "      <td>15134580.0</td>\n",
       "    </tr>\n",
       "    <tr>\n",
       "      <td>30808</td>\n",
       "      <td>0.480665</td>\n",
       "      <td>0.347342</td>\n",
       "      <td>26013436.0</td>\n",
       "    </tr>\n",
       "    <tr>\n",
       "      <td>30817</td>\n",
       "      <td>0.004309</td>\n",
       "      <td>0.000580</td>\n",
       "      <td>13026577.0</td>\n",
       "    </tr>\n",
       "  </tbody>\n",
       "</table>\n",
       "<p>4448 rows × 3 columns</p>\n",
       "</div>"
      ],
      "text/plain": [
       "           Q001      Q002   CO_ESCOLA\n",
       "8      0.282567  0.407099  23077140.0\n",
       "16     0.148958  0.187879  23265795.0\n",
       "26     0.049225  0.076931  25077759.0\n",
       "29     0.106147  0.085413  22022040.0\n",
       "39     0.237827  0.255389  35907224.0\n",
       "...         ...       ...         ...\n",
       "30792  0.480665  0.347342  26178230.0\n",
       "30795  0.985250  0.990007  35046361.0\n",
       "30800  0.003315  0.005671  15134580.0\n",
       "30808  0.480665  0.347342  26013436.0\n",
       "30817  0.004309  0.000580  13026577.0\n",
       "\n",
       "[4448 rows x 3 columns]"
      ]
     },
     "execution_count": 894,
     "metadata": {},
     "output_type": "execute_result"
    }
   ],
   "source": [
    "LR_learn_apply_student(enem17, enem18)"
   ]
  },
  {
   "cell_type": "raw",
   "metadata": {},
   "source": [
    "enem18_transform.dtype()"
   ]
  },
  {
   "cell_type": "code",
   "execution_count": 873,
   "metadata": {},
   "outputs": [
    {
     "name": "stdout",
     "output_type": "stream",
     "text": [
      "['Q001_A', 'Q001_B', 'Q001_C', 'Q001_D', 'Q001_E', 'Q001_F', 'Q001_G', 'Q001_H']\n"
     ]
    },
    {
     "data": {
      "text/plain": [
       "LogisticRegression(C=1.0, class_weight=None, dual=False, fit_intercept=True,\n",
       "                   intercept_scaling=1, l1_ratio=None, max_iter=100,\n",
       "                   multi_class='warn', n_jobs=None, penalty='l2',\n",
       "                   random_state=None, solver='warn', tol=0.0001, verbose=0,\n",
       "                   warm_start=False)"
      ]
     },
     "execution_count": 873,
     "metadata": {},
     "output_type": "execute_result"
    }
   ],
   "source": [
    "Q001 = relative_frequencies(enem17, enem17.Q001.name)\n",
    "Q001 = Q001.drop_duplicates_trLR_Q001 = LogisticRegression()\n",
    "LR_Q001.fit(Q001_DATA, Q001_TARGET)\n",
    "\n"
   ]
  },
  {
   "cell_type": "code",
   "execution_count": 772,
   "metadata": {},
   "outputs": [
    {
     "name": "stdout",
     "output_type": "stream",
     "text": [
      "['Q002_A', 'Q002_B', 'Q002_C', 'Q002_D', 'Q002_E', 'Q002_F', 'Q002_G', 'Q002_H']\n"
     ]
    },
    {
     "data": {
      "text/plain": [
       "LogisticRegression(C=1.0, class_weight=None, dual=False, fit_intercept=True,\n",
       "                   intercept_scaling=1, l1_ratio=None, max_iter=100,\n",
       "                   multi_class='warn', n_jobs=None, penalty='l2',\n",
       "                   random_state=None, solver='warn', tol=0.0001, verbose=0,\n",
       "                   warm_start=False)"
      ]
     },
     "execution_count": 772,
     "metadata": {},
     "output_type": "execute_result"
    }
   ],
   "source": [
    "Q002 = relative_frequencies(enem17, enem17.Q002.name)\n",
    "Q002 = Q002.drop_duplicates('CO_ESCOLA')\n",
    "Q002 = Q002.loc[:, ~Q002.columns.isin(['CO_ESCOLA'])]\n",
    "Q002_DATA = Q002.loc[:, Q002.columns != 'TARGET']\n",
    "Q002_TARGET = Q002.loc[:, Q002.columns == 'TARGET']\n",
    "\n",
    "from sklearn.linear_model import LogisticRegression\n",
    "LR_Q002 = LogisticRegression()\n",
    "LR_Q002.fit(Q002_DATA,Q002_TARGET)\n"
   ]
  },
  {
   "cell_type": "code",
   "execution_count": 816,
   "metadata": {},
   "outputs": [
    {
     "name": "stdout",
     "output_type": "stream",
     "text": [
      "['TITULACAO_0', 'TITULACAO_1', 'TITULACAO_2', 'TITULACAO_3']\n"
     ]
    },
    {
     "data": {
      "text/plain": [
       "LogisticRegression(C=1.0, class_weight=None, dual=False, fit_intercept=True,\n",
       "                   intercept_scaling=1, l1_ratio=None, max_iter=100,\n",
       "                   multi_class='warn', n_jobs=None, penalty='l2',\n",
       "                   random_state=None, solver='warn', tol=0.0001, verbose=0,\n",
       "                   warm_start=False)"
      ]
     },
     "execution_count": 816,
     "metadata": {},
     "output_type": "execute_result"
    }
   ],
   "source": [
    "TITULACAO = relative_frequencies(censo17, censo17.TITULACAO.name)\n",
    "TITULACAO = TITULACAO.drop_duplicates('CO_ESCOLA')\n",
    "TITULACAO = TITULACAO.loc[:, ~TITULACAO.columns.isin(['CO_ESCOLA'])]\n",
    "TITULACAO_DATA =TITULACAO.loc[:, TITULACAO.columns != 'TARGET']\n",
    "TITULACAO_TARGET = TITULACAO.loc[:, TITULACAO.columns == 'TARGET']\n",
    "\n",
    "from sklearn.linear_model import LogisticRegression\n",
    "LR_TITULACAO = LogisticRegression()\n",
    "LR_TITULACAO.fit(TITULACAO_DATA, TITULACAO_TARGET)\n"
   ]
  },
  {
   "cell_type": "code",
   "execution_count": 866,
   "metadata": {},
   "outputs": [
    {
     "data": {
      "text/plain": [
       "array([7.89073260e-01, 9.65943578e-02, 1.18646779e-01, ...,\n",
       "       4.81591932e-02, 3.47341874e-01, 5.79680441e-04])"
      ]
     },
     "execution_count": 866,
     "metadata": {},
     "output_type": "execute_result"
    }
   ],
   "source": [
    "LR_Q002.predict_proba(Q002_DATA)[:,1]"
   ]
  },
  {
   "cell_type": "code",
   "execution_count": null,
   "metadata": {},
   "outputs": [],
   "source": []
  },
  {
   "cell_type": "code",
   "execution_count": null,
   "metadata": {},
   "outputs": [],
   "source": []
  },
  {
   "cell_type": "code",
   "execution_count": null,
   "metadata": {},
   "outputs": [],
   "source": []
  }
 ],
 "metadata": {
  "kernelspec": {
   "display_name": "Python 3",
   "language": "python",
   "name": "python3"
  },
  "language_info": {
   "codemirror_mode": {
    "name": "ipython",
    "version": 3
   },
   "file_extension": ".py",
   "mimetype": "text/x-python",
   "name": "python",
   "nbconvert_exporter": "python",
   "pygments_lexer": "ipython3",
   "version": "3.7.4"
  }
 },
 "nbformat": 4,
 "nbformat_minor": 4
}
