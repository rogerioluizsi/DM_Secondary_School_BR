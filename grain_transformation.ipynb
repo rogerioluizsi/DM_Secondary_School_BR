{
 "cells": [
  {
   "cell_type": "code",
   "execution_count": 1,
   "metadata": {},
   "outputs": [],
   "source": [
    "import pandas as pd\n",
    "import numpy as np\n",
    "import seaborn as sns\n",
    "import sklearn as sklearn\n",
    "import seaborn as sns\n",
    "import matplotlib.pyplot as plt\n",
    "%matplotlib inline\n",
    "from scipy import stats\n",
    "import statistics as es \n",
    "import csv\n",
    "import re \n",
    "import warnings\n",
    "from sklearn.linear_model import LogisticRegression\n",
    "warnings.filterwarnings('ignore')\n",
    "pd.set_option('display.max_columns', None)"
   ]
  },
  {
   "cell_type": "markdown",
   "metadata": {},
   "source": [
    "## ENEM  DATASET"
   ]
  },
  {
   "cell_type": "code",
   "execution_count": 37,
   "metadata": {},
   "outputs": [],
   "source": [
    "#Choose just useful features for us \n",
    "fenem= ['NU_INSCRICAO','CO_ESCOLA','Q001','Q002', 'NU_NOTA_CN', 'NU_NOTA_CH', 'NU_NOTA_LC', 'NU_NOTA_MT', 'NU_NOTA_REDACAO']\n",
    "enem17a=pd.read_csv(\"~/data/Enem/MICRODADOS_ENEM_2017.csv\", sep=';',encoding=\"iso-8859-2\", usecols = fenem)\n",
    "enem18a=pd.read_csv(\"~/data/Enem/MICRODADOS_ENEM_2018.csv\", sep=';',encoding=\"iso-8859-2\", usecols = fenem)"
   ]
  },
  {
   "cell_type": "code",
   "execution_count": 38,
   "metadata": {},
   "outputs": [],
   "source": [
    "category=(['NU_INSCRICAO','CO_ESCOLA','Q001','Q002'])\n",
    "#enem17a[category]= enem17a[category].astype(str)"
   ]
  },
  {
   "cell_type": "code",
   "execution_count": 39,
   "metadata": {},
   "outputs": [],
   "source": [
    "enem17 = enem17a.copy()\n",
    "enem18 = enem18a.copy()\n"
   ]
  },
  {
   "cell_type": "code",
   "execution_count": 40,
   "metadata": {},
   "outputs": [
    {
     "name": "stdout",
     "output_type": "stream",
     "text": [
      "There are 6731341 students of 33834 Schools in ENEM 2017\n",
      "There are 5513747 students of 32253 Schools in ENEM 2018\n"
     ]
    }
   ],
   "source": [
    "#How many Students left? How many schools are they in?\n",
    "print (\"There are\", enem17.shape[0], \"students\",  \"of\", enem17.CO_ESCOLA.value_counts().count() ,\"Schools in ENEM 2017\")\n",
    "#enem17.head()\n",
    "\n",
    "print (\"There are\", enem18.shape[0], \"students\",  \"of\", enem18.CO_ESCOLA.value_counts().count() ,\"Schools in ENEM 2018\")\n",
    "#enem18.head()"
   ]
  },
  {
   "cell_type": "markdown",
   "metadata": {},
   "source": [
    "#### Set last quartile of average scores as the best students"
   ]
  },
  {
   "cell_type": "code",
   "execution_count": 41,
   "metadata": {},
   "outputs": [],
   "source": [
    "#first, drop out those whithout schools \n",
    "enem17.dropna(inplace = True, axis=0, subset=['CO_ESCOLA'])\n",
    "enem18.dropna(inplace = True, axis=0, subset=['CO_ESCOLA'])"
   ]
  },
  {
   "cell_type": "code",
   "execution_count": 42,
   "metadata": {},
   "outputs": [],
   "source": [
    "#Second, drop out insufficient scores \n",
    "fields = (['NU_NOTA_CN', 'NU_NOTA_CN','NU_NOTA_CN','NU_NOTA_CN', 'NU_NOTA_REDACAO'])\n",
    "# With NaN\n",
    "enem17.dropna(inplace = True, axis=0, subset=fields)\n",
    "enem18.dropna(inplace = True, axis=0, subset=fields)\n",
    "# With 0\n",
    "enem17 = enem17[~(enem17[fields] == 0).any(axis=1)]\n",
    "enem18 = enem18[~(enem18[fields] == 0).any(axis=1)]"
   ]
  },
  {
   "cell_type": "code",
   "execution_count": 43,
   "metadata": {},
   "outputs": [],
   "source": [
    "#Creating average of students in all fields\n",
    "enem17['AVG_SCORE'] = (enem17.NU_NOTA_CN + enem17.NU_NOTA_CH + enem17.NU_NOTA_LC + enem17.NU_NOTA_MT + enem17.NU_NOTA_REDACAO)/5\n",
    "enem18['AVG_SCORE'] = (enem18.NU_NOTA_CN + enem18.NU_NOTA_CH + enem18.NU_NOTA_LC + enem18.NU_NOTA_MT + enem18.NU_NOTA_REDACAO)/5"
   ]
  },
  {
   "cell_type": "code",
   "execution_count": 44,
   "metadata": {},
   "outputs": [],
   "source": [
    "#Creating the average of all schools by each studentes score\n",
    "enem17['AVG_SCORE_SCHOOL'] = enem17.groupby(['CO_ESCOLA'])['AVG_SCORE'].transform('mean') \n",
    "enem18['AVG_SCORE_SCHOOL'] = enem18.groupby(['CO_ESCOLA'])['AVG_SCORE'].transform('mean') "
   ]
  },
  {
   "cell_type": "code",
   "execution_count": 45,
   "metadata": {},
   "outputs": [],
   "source": [
    "#Sorting out the shcool's scores in quartiles. The upper quartile will be the Good Schools.\n",
    "enem17['TARGET'] = pd.qcut (enem17.AVG_SCORE_SCHOOL, 4, labels = [1,2,3,4]).map(lambda x : 0 if x!=4 else 1) \n",
    "enem18['TARGET'] = pd.qcut (enem18.AVG_SCORE_SCHOOL, 4, labels = [1,2,3,4]).map(lambda x : 0 if x!=4 else 1) \n"
   ]
  },
  {
   "cell_type": "code",
   "execution_count": 46,
   "metadata": {},
   "outputs": [
    {
     "name": "stdout",
     "output_type": "stream",
     "text": [
      "75.00009542589339 % lowers quartis in ENEM 2017\n",
      "75.00310581817226 % lowers quartis in ENEM 2018\n"
     ]
    }
   ],
   "source": [
    "#It's right? \n",
    "print((enem17.TARGET==0).sum()/(enem17.TARGET.count())*100, '% lowers quartis in ENEM 2017')\n",
    "print((enem18.TARGET==0).sum()/(enem18.TARGET.count())*100, '% lowers quartis in ENEM 2018')"
   ]
  },
  {
   "cell_type": "code",
   "execution_count": 213,
   "metadata": {},
   "outputs": [
    {
     "data": {
      "text/html": [
       "<div>\n",
       "<style scoped>\n",
       "    .dataframe tbody tr th:only-of-type {\n",
       "        vertical-align: middle;\n",
       "    }\n",
       "\n",
       "    .dataframe tbody tr th {\n",
       "        vertical-align: top;\n",
       "    }\n",
       "\n",
       "    .dataframe thead th {\n",
       "        text-align: right;\n",
       "    }\n",
       "</style>\n",
       "<table border=\"1\" class=\"dataframe\">\n",
       "  <thead>\n",
       "    <tr style=\"text-align: right;\">\n",
       "      <th></th>\n",
       "      <th>NU_INSCRICAO</th>\n",
       "      <th>CO_ESCOLA</th>\n",
       "      <th>NU_NOTA_CN</th>\n",
       "      <th>NU_NOTA_CH</th>\n",
       "      <th>NU_NOTA_LC</th>\n",
       "      <th>NU_NOTA_MT</th>\n",
       "      <th>NU_NOTA_REDACAO</th>\n",
       "      <th>Q001</th>\n",
       "      <th>Q002</th>\n",
       "      <th>AVG_SCORE</th>\n",
       "      <th>AVG_SCORE_SCHOOL</th>\n",
       "      <th>TARGET</th>\n",
       "    </tr>\n",
       "  </thead>\n",
       "  <tbody>\n",
       "    <tr>\n",
       "      <td>47</td>\n",
       "      <td>170001663652</td>\n",
       "      <td>13079220.0</td>\n",
       "      <td>540.7</td>\n",
       "      <td>583.0</td>\n",
       "      <td>472.9</td>\n",
       "      <td>405.1</td>\n",
       "      <td>580.0</td>\n",
       "      <td>E</td>\n",
       "      <td>G</td>\n",
       "      <td>516.34</td>\n",
       "      <td>593.840800</td>\n",
       "      <td>1</td>\n",
       "    </tr>\n",
       "    <tr>\n",
       "      <td>84</td>\n",
       "      <td>170001664222</td>\n",
       "      <td>29422418.0</td>\n",
       "      <td>396.4</td>\n",
       "      <td>401.6</td>\n",
       "      <td>350.7</td>\n",
       "      <td>494.2</td>\n",
       "      <td>280.0</td>\n",
       "      <td>G</td>\n",
       "      <td>G</td>\n",
       "      <td>384.58</td>\n",
       "      <td>467.525714</td>\n",
       "      <td>0</td>\n",
       "    </tr>\n",
       "  </tbody>\n",
       "</table>\n",
       "</div>"
      ],
      "text/plain": [
       "    NU_INSCRICAO   CO_ESCOLA  NU_NOTA_CN  NU_NOTA_CH  NU_NOTA_LC  NU_NOTA_MT  \\\n",
       "47  170001663652  13079220.0       540.7       583.0       472.9       405.1   \n",
       "84  170001664222  29422418.0       396.4       401.6       350.7       494.2   \n",
       "\n",
       "    NU_NOTA_REDACAO Q001 Q002  AVG_SCORE  AVG_SCORE_SCHOOL  TARGET  \n",
       "47            580.0    E    G     516.34        593.840800       1  \n",
       "84            280.0    G    G     384.58        467.525714       0  "
      ]
     },
     "execution_count": 213,
     "metadata": {},
     "output_type": "execute_result"
    }
   ],
   "source": [
    "enem17.head(2)"
   ]
  },
  {
   "cell_type": "code",
   "execution_count": 214,
   "metadata": {},
   "outputs": [
    {
     "data": {
      "text/html": [
       "<div>\n",
       "<style scoped>\n",
       "    .dataframe tbody tr th:only-of-type {\n",
       "        vertical-align: middle;\n",
       "    }\n",
       "\n",
       "    .dataframe tbody tr th {\n",
       "        vertical-align: top;\n",
       "    }\n",
       "\n",
       "    .dataframe thead th {\n",
       "        text-align: right;\n",
       "    }\n",
       "</style>\n",
       "<table border=\"1\" class=\"dataframe\">\n",
       "  <thead>\n",
       "    <tr style=\"text-align: right;\">\n",
       "      <th></th>\n",
       "      <th>NU_INSCRICAO</th>\n",
       "      <th>CO_ESCOLA</th>\n",
       "      <th>NU_NOTA_CN</th>\n",
       "      <th>NU_NOTA_CH</th>\n",
       "      <th>NU_NOTA_LC</th>\n",
       "      <th>NU_NOTA_MT</th>\n",
       "      <th>NU_NOTA_REDACAO</th>\n",
       "      <th>Q001</th>\n",
       "      <th>Q002</th>\n",
       "      <th>AVG_SCORE</th>\n",
       "      <th>AVG_SCORE_SCHOOL</th>\n",
       "      <th>TARGET</th>\n",
       "    </tr>\n",
       "  </thead>\n",
       "  <tbody>\n",
       "    <tr>\n",
       "      <td>8</td>\n",
       "      <td>180008257068</td>\n",
       "      <td>23077140.0</td>\n",
       "      <td>411.8</td>\n",
       "      <td>429.8</td>\n",
       "      <td>445.2</td>\n",
       "      <td>459.0</td>\n",
       "      <td>340.0</td>\n",
       "      <td>D</td>\n",
       "      <td>D</td>\n",
       "      <td>417.16</td>\n",
       "      <td>483.509028</td>\n",
       "      <td>0</td>\n",
       "    </tr>\n",
       "    <tr>\n",
       "      <td>16</td>\n",
       "      <td>180007766857</td>\n",
       "      <td>23265795.0</td>\n",
       "      <td>478.5</td>\n",
       "      <td>513.3</td>\n",
       "      <td>564.7</td>\n",
       "      <td>514.9</td>\n",
       "      <td>580.0</td>\n",
       "      <td>C</td>\n",
       "      <td>C</td>\n",
       "      <td>530.28</td>\n",
       "      <td>479.086667</td>\n",
       "      <td>0</td>\n",
       "    </tr>\n",
       "  </tbody>\n",
       "</table>\n",
       "</div>"
      ],
      "text/plain": [
       "    NU_INSCRICAO   CO_ESCOLA  NU_NOTA_CN  NU_NOTA_CH  NU_NOTA_LC  NU_NOTA_MT  \\\n",
       "8   180008257068  23077140.0       411.8       429.8       445.2       459.0   \n",
       "16  180007766857  23265795.0       478.5       513.3       564.7       514.9   \n",
       "\n",
       "    NU_NOTA_REDACAO Q001 Q002  AVG_SCORE  AVG_SCORE_SCHOOL  TARGET  \n",
       "8             340.0    D    D     417.16        483.509028       0  \n",
       "16            580.0    C    C     530.28        479.086667       0  "
      ]
     },
     "execution_count": 214,
     "metadata": {},
     "output_type": "execute_result"
    }
   ],
   "source": [
    "enem18.head(2)"
   ]
  },
  {
   "cell_type": "markdown",
   "metadata": {},
   "source": [
    "## TEACHERS CENSUS DATASET "
   ]
  },
  {
   "cell_type": "code",
   "execution_count": 77,
   "metadata": {},
   "outputs": [],
   "source": [
    "#Choose just useful features for us now, improve memory use\n",
    "fcenso = ['CO_PESSOA_FISICA','NU_ANO_CENSO','IN_ESPECIALIZACAO','IN_MESTRADO','IN_DOUTORADO','CO_ENTIDADE']\n",
    "\n",
    "#Reading data of Teachers in Censo 2017\n",
    "CO17=pd.read_csv(\"~/data/censo2017/DOCENTES_CO.CSV\", sep='|', encoding=\"iso-8859-2\", usecols = fcenso)\n",
    "NE17=pd.read_csv(\"~/data/censo2017/DOCENTES_NORDESTE.CSV\", sep='|', encoding=\"iso-8859-2\", usecols = fcenso)\n",
    "NT17=pd.read_csv(\"~/data/censo2017/DOCENTES_NORTE.CSV\", sep='|', encoding=\"iso-8859-2\", usecols = fcenso)\n",
    "SE17=pd.read_csv(\"~/data/censo2017/DOCENTES_SUDESTE.CSV\", sep='|', encoding=\"iso-8859-2\", usecols = fcenso)\n",
    "SU17=pd.read_csv(\"~/data/censo2017/DOCENTES_SUL.CSV\", sep='|', encoding=\"iso-8859-2\", usecols = fcenso)\n",
    "\n",
    "#There are differences in feature names\n",
    "fcenso18 = ['ID_DOCENTE','NU_ANO_CENSO','IN_ESPECIALIZACAO','IN_MESTRADO','IN_DOUTORADO','CO_ENTIDADE']\n",
    "\n",
    "CO18=pd.read_csv(\"~/data/censo2018/DOCENTES_CO.CSV\", sep='|', encoding=\"iso-8859-2\", usecols = fcenso18)\n",
    "NE18=pd.read_csv(\"~/data/censo2018/DOCENTES_NORDESTE.CSV\", sep='|', encoding=\"iso-8859-2\", usecols = fcenso18)\n",
    "NT18=pd.read_csv(\"~/data/censo2018/DOCENTES_NORTE.CSV\", sep='|', encoding=\"iso-8859-2\", usecols = fcenso18)\n",
    "SE18=pd.read_csv(\"~/data/censo2018/DOCENTES_SUDESTE.CSV\", sep='|', encoding=\"iso-8859-2\", usecols = fcenso18)\n",
    "SU18=pd.read_csv(\"~/data/censo2018/DOCENTES_SUL.CSV\", sep='|', encoding=\"iso-8859-2\", usecols = fcenso18)\n"
   ]
  },
  {
   "cell_type": "code",
   "execution_count": 78,
   "metadata": {},
   "outputs": [],
   "source": [
    "#Concatening the subsets and creating a unique dataset, than transform all features and categories, as it are.\n",
    "censo17a= pd.concat([CO17, NE17, NT17, SE17, SU17])\n",
    "censo17 = censo17a.copy()\n",
    "\n",
    "censo18a= pd.concat([CO18, NE18, NT18, SE18, SU18])\n",
    "censo18 = censo18a.copy()\n",
    "#censo17=censo17.astype('category')"
   ]
  },
  {
   "cell_type": "markdown",
   "metadata": {},
   "source": [
    "Get only teachers who work in secondary schools (based on ENEM)"
   ]
  },
  {
   "cell_type": "code",
   "execution_count": 79,
   "metadata": {},
   "outputs": [
    {
     "name": "stdout",
     "output_type": "stream",
     "text": [
      "There are 2603186 Teachers at 185925 Schools in Census 2017\n",
      "There are 2581297 Teachers at 183746 Schools in Census 2018\n"
     ]
    }
   ],
   "source": [
    "#Some informations\n",
    "print (\"There are\", censo17.drop_duplicates('CO_PESSOA_FISICA').shape[0], \"Teachers\",  \"at\", censo17.CO_ENTIDADE.value_counts().count() ,\"Schools in Census 2017\")\n",
    "\n",
    "print (\"There are\", censo18.drop_duplicates('ID_DOCENTE').shape[0], \"Teachers\",  \"at\", censo18.CO_ENTIDADE.value_counts().count() ,\"Schools in Census 2018\")"
   ]
  },
  {
   "cell_type": "code",
   "execution_count": 80,
   "metadata": {},
   "outputs": [],
   "source": [
    "#It's necessary drop duplicates whose are teachers in the same school but in different classes. \n",
    "#This way, the teacher appear just one time in each school. \n",
    "censo17.drop_duplicates(subset=['CO_PESSOA_FISICA', 'CO_ENTIDADE'], inplace=True)\n",
    "censo18.drop_duplicates(subset=['ID_DOCENTE', 'CO_ENTIDADE'], inplace=True)"
   ]
  },
  {
   "cell_type": "code",
   "execution_count": 83,
   "metadata": {},
   "outputs": [],
   "source": [
    "#getting the schools represented in ENEM\n",
    "schoolsEnem17 = enem17.drop_duplicates('CO_ESCOLA')\n",
    "schoolsEnem17 = schoolsEnem17[(['CO_ESCOLA','TARGET'])]\n",
    "#schoolsEnem17 = schoolsEnem17.astype(str)\n",
    "\n",
    "schoolsEnem18 = enem18.drop_duplicates('CO_ESCOLA')\n",
    "schoolsEnem18 = schoolsEnem18[(['CO_ESCOLA','TARGET'])]\n",
    "#schoolsEnem18 = schoolsEnem18.astype(str)\n"
   ]
  },
  {
   "cell_type": "code",
   "execution_count": 84,
   "metadata": {},
   "outputs": [],
   "source": [
    "#schoolsEnem18\n",
    "#censo18"
   ]
  },
  {
   "cell_type": "code",
   "execution_count": 85,
   "metadata": {},
   "outputs": [],
   "source": [
    "#Merge the two datasets, whereas that only teachers who work in school represented in ENEM 17 and 18\n",
    "censo17= pd.merge(schoolsEnem17, censo17, left_on='CO_ESCOLA', right_on='CO_ENTIDADE', how='inner')\n",
    "\n",
    "censo18= pd.merge(schoolsEnem18, censo18, left_on='CO_ESCOLA', right_on='CO_ENTIDADE', how='inner')"
   ]
  },
  {
   "cell_type": "code",
   "execution_count": 86,
   "metadata": {},
   "outputs": [
    {
     "name": "stdout",
     "output_type": "stream",
     "text": [
      "CO_ESCOLA                 0\n",
      "TARGET                    0\n",
      "NU_ANO_CENSO              0\n",
      "CO_PESSOA_FISICA          0\n",
      "IN_ESPECIALIZACAO    117764\n",
      "IN_MESTRADO          117764\n",
      "IN_DOUTORADO         117764\n",
      "CO_ENTIDADE               0\n",
      "dtype: int64\n",
      "CO_ESCOLA                0\n",
      "TARGET                   0\n",
      "NU_ANO_CENSO             0\n",
      "ID_DOCENTE               0\n",
      "IN_ESPECIALIZACAO    97672\n",
      "IN_MESTRADO          97672\n",
      "IN_DOUTORADO         97672\n",
      "CO_ENTIDADE              0\n",
      "dtype: int64\n"
     ]
    }
   ],
   "source": [
    "print(censo17.isnull().sum())\n",
    "print(censo18.isnull().sum())"
   ]
  },
  {
   "cell_type": "code",
   "execution_count": 87,
   "metadata": {},
   "outputs": [],
   "source": [
    "#Missing values in these cases are \"0\" \n",
    "censo17['IN_ESPECIALIZACAO'].fillna(0.0, inplace=True)\n",
    "censo17['IN_MESTRADO'].fillna(0.0, inplace=True)\n",
    "censo17['IN_DOUTORADO'].fillna(0.0, inplace=True)\n",
    "\n",
    "censo18['IN_ESPECIALIZACAO'].fillna(0.0, inplace=True)\n",
    "censo18['IN_MESTRADO'].fillna(0.0, inplace=True)\n",
    "censo18['IN_DOUTORADO'].fillna(0.0, inplace=True)"
   ]
  },
  {
   "cell_type": "code",
   "execution_count": 88,
   "metadata": {},
   "outputs": [],
   "source": [
    "#In database have different patterns to represent level of education. ex: Master has signed in two different ways, or marked in Master and Especialization or just in Master.\n",
    "def education_level(df):\n",
    "    if (df.IN_ESPECIALIZACAO==0.0) & (df.IN_MESTRADO==0.0) & (df.IN_DOUTORADO ==0.0):\n",
    "        #print(0)\n",
    "        df['TITULACAO']= \"0\"\n",
    "    elif (df.IN_ESPECIALIZACAO==1.0) & (df.IN_MESTRADO==0.0) & (df.IN_DOUTORADO ==0.0):\n",
    "        #print(1)\n",
    "        df['TITULACAO']= \"1\"\n",
    "    elif (df.IN_ESPECIALIZACAO==1.0) & (df.IN_MESTRADO==1.0) & (df.IN_DOUTORADO ==0.0):\n",
    "        #print(2)\n",
    "        df['TITULACAO']= \"2\"\n",
    "    elif (df.IN_ESPECIALIZACAO==0.0) & (df.IN_MESTRADO==1.0) & (df.IN_DOUTORADO ==0.0):\n",
    "        #print(2)\n",
    "        df['TITULACAO']= \"2\"\n",
    "    else:\n",
    "        #print(3)\n",
    "        df['TITULACAO']= \"3\"  \n",
    "    return df"
   ]
  },
  {
   "cell_type": "code",
   "execution_count": 89,
   "metadata": {},
   "outputs": [],
   "source": [
    "censo17=censo17.apply(education_level, axis=1)\n",
    "\n",
    "censo18=censo18.apply(education_level, axis=1)"
   ]
  },
  {
   "cell_type": "code",
   "execution_count": 97,
   "metadata": {},
   "outputs": [],
   "source": [
    "censo17['TARGET'] = censo17['TARGET'].astype('int64')"
   ]
  },
  {
   "cell_type": "code",
   "execution_count": 98,
   "metadata": {},
   "outputs": [
    {
     "data": {
      "text/html": [
       "<div>\n",
       "<style scoped>\n",
       "    .dataframe tbody tr th:only-of-type {\n",
       "        vertical-align: middle;\n",
       "    }\n",
       "\n",
       "    .dataframe tbody tr th {\n",
       "        vertical-align: top;\n",
       "    }\n",
       "\n",
       "    .dataframe thead th {\n",
       "        text-align: right;\n",
       "    }\n",
       "</style>\n",
       "<table border=\"1\" class=\"dataframe\">\n",
       "  <thead>\n",
       "    <tr style=\"text-align: right;\">\n",
       "      <th></th>\n",
       "      <th>CO_ESCOLA</th>\n",
       "      <th>TARGET</th>\n",
       "      <th>NU_ANO_CENSO</th>\n",
       "      <th>CO_PESSOA_FISICA</th>\n",
       "      <th>IN_ESPECIALIZACAO</th>\n",
       "      <th>IN_MESTRADO</th>\n",
       "      <th>IN_DOUTORADO</th>\n",
       "      <th>CO_ENTIDADE</th>\n",
       "      <th>TITULACAO</th>\n",
       "    </tr>\n",
       "  </thead>\n",
       "  <tbody>\n",
       "    <tr>\n",
       "      <td>0</td>\n",
       "      <td>13079220.0</td>\n",
       "      <td>1</td>\n",
       "      <td>2017.0</td>\n",
       "      <td>1.222391e+11</td>\n",
       "      <td>1.0</td>\n",
       "      <td>0.0</td>\n",
       "      <td>0.0</td>\n",
       "      <td>13079220.0</td>\n",
       "      <td>1</td>\n",
       "    </tr>\n",
       "    <tr>\n",
       "      <td>1</td>\n",
       "      <td>13079220.0</td>\n",
       "      <td>1</td>\n",
       "      <td>2017.0</td>\n",
       "      <td>1.150041e+11</td>\n",
       "      <td>0.0</td>\n",
       "      <td>0.0</td>\n",
       "      <td>0.0</td>\n",
       "      <td>13079220.0</td>\n",
       "      <td>0</td>\n",
       "    </tr>\n",
       "  </tbody>\n",
       "</table>\n",
       "</div>"
      ],
      "text/plain": [
       "    CO_ESCOLA  TARGET  NU_ANO_CENSO  CO_PESSOA_FISICA  IN_ESPECIALIZACAO  \\\n",
       "0  13079220.0       1        2017.0      1.222391e+11                1.0   \n",
       "1  13079220.0       1        2017.0      1.150041e+11                0.0   \n",
       "\n",
       "   IN_MESTRADO  IN_DOUTORADO  CO_ENTIDADE TITULACAO  \n",
       "0          0.0           0.0   13079220.0         1  \n",
       "1          0.0           0.0   13079220.0         0  "
      ]
     },
     "execution_count": 98,
     "metadata": {},
     "output_type": "execute_result"
    }
   ],
   "source": [
    "censo17.head(2)"
   ]
  },
  {
   "cell_type": "code",
   "execution_count": 91,
   "metadata": {},
   "outputs": [
    {
     "data": {
      "text/html": [
       "<div>\n",
       "<style scoped>\n",
       "    .dataframe tbody tr th:only-of-type {\n",
       "        vertical-align: middle;\n",
       "    }\n",
       "\n",
       "    .dataframe tbody tr th {\n",
       "        vertical-align: top;\n",
       "    }\n",
       "\n",
       "    .dataframe thead th {\n",
       "        text-align: right;\n",
       "    }\n",
       "</style>\n",
       "<table border=\"1\" class=\"dataframe\">\n",
       "  <thead>\n",
       "    <tr style=\"text-align: right;\">\n",
       "      <th></th>\n",
       "      <th>CO_ESCOLA</th>\n",
       "      <th>TARGET</th>\n",
       "      <th>NU_ANO_CENSO</th>\n",
       "      <th>ID_DOCENTE</th>\n",
       "      <th>IN_ESPECIALIZACAO</th>\n",
       "      <th>IN_MESTRADO</th>\n",
       "      <th>IN_DOUTORADO</th>\n",
       "      <th>CO_ENTIDADE</th>\n",
       "      <th>TITULACAO</th>\n",
       "    </tr>\n",
       "  </thead>\n",
       "  <tbody>\n",
       "    <tr>\n",
       "      <td>0</td>\n",
       "      <td>23077140.0</td>\n",
       "      <td>0</td>\n",
       "      <td>2018</td>\n",
       "      <td>00E3AA8026744AEEC6D35E11B082B9D9</td>\n",
       "      <td>0.0</td>\n",
       "      <td>0.0</td>\n",
       "      <td>0.0</td>\n",
       "      <td>23077140</td>\n",
       "      <td>0</td>\n",
       "    </tr>\n",
       "    <tr>\n",
       "      <td>1</td>\n",
       "      <td>23077140.0</td>\n",
       "      <td>0</td>\n",
       "      <td>2018</td>\n",
       "      <td>0FA5A09CB34A5FEC043158EE31F812F6</td>\n",
       "      <td>0.0</td>\n",
       "      <td>0.0</td>\n",
       "      <td>0.0</td>\n",
       "      <td>23077140</td>\n",
       "      <td>0</td>\n",
       "    </tr>\n",
       "  </tbody>\n",
       "</table>\n",
       "</div>"
      ],
      "text/plain": [
       "    CO_ESCOLA  TARGET  NU_ANO_CENSO                        ID_DOCENTE  \\\n",
       "0  23077140.0       0          2018  00E3AA8026744AEEC6D35E11B082B9D9   \n",
       "1  23077140.0       0          2018  0FA5A09CB34A5FEC043158EE31F812F6   \n",
       "\n",
       "   IN_ESPECIALIZACAO  IN_MESTRADO  IN_DOUTORADO  CO_ENTIDADE TITULACAO  \n",
       "0                0.0          0.0           0.0     23077140         0  \n",
       "1                0.0          0.0           0.0     23077140         0  "
      ]
     },
     "execution_count": 91,
     "metadata": {},
     "output_type": "execute_result"
    }
   ],
   "source": [
    "censo18.head(2)"
   ]
  },
  {
   "cell_type": "markdown",
   "metadata": {},
   "source": [
    "##### We will transform the Categorical ENEM database features from student grain to school grain (Decision Grain).  Instead the pratical use of MODE, it will use the regression on the attribute distribution, having its histogram relative frequencies as input and the  decision level TARGET as output.  "
   ]
  },
  {
   "cell_type": "code",
   "execution_count": 199,
   "metadata": {},
   "outputs": [],
   "source": [
    "#Creating the dataframe with the relative frequencies and target. Ready to applying regeression\n",
    "def relative_frequencies(df, colum):\n",
    "    root = (['CO_ESCOLA', 'TARGET'])\n",
    "    df = df [root + [colum]]\n",
    "    df = pd.get_dummies(df, columns=[colum])\n",
    "    filter_col = [col for col in df if col.startswith(colum)]\n",
    "    print (filter_col)\n",
    "    for x in filter_col:            \n",
    "        df[x] = df.groupby(df['CO_ESCOLA'])[x].transform(sum)/ df.groupby(df['CO_ESCOLA'])[x].transform('count')\n",
    "        \n",
    "    return df"
   ]
  },
  {
   "cell_type": "code",
   "execution_count": 369,
   "metadata": {},
   "outputs": [],
   "source": [
    "def LR_student_to_school (df1, df2, columns):\n",
    "    result = pd.DataFrame()\n",
    "    for x in columns:\n",
    "        temp = relative_frequencies(df1,df1[x].name)\n",
    "        temp.drop_duplicates('CO_ESCOLA', inplace=True)\n",
    "        temp = temp.loc[:, ~temp.columns.isin(['CO_ESCOLA'])]\n",
    "        temp_DATA = temp.loc[:, temp.columns != 'TARGET']\n",
    "        temp_TARGET = temp.loc[:, temp.columns == 'TARGET']\n",
    "\n",
    "        \n",
    "        LR_temp = LogisticRegression()\n",
    "        LR_temp.fit(temp_DATA, temp_TARGET)\n",
    "      \n",
    "        \n",
    "        temp = relative_frequencies(df2,df2[x].name)\n",
    "        temp.drop_duplicates('CO_ESCOLA', inplace=True) \n",
    "        temp = temp.reset_index(drop=True)\n",
    "        temp2 = temp.loc[:, ~temp.columns.isin(['CO_ESCOLA'])]\n",
    "        temp_DATA = temp2.loc[:, temp2.columns != 'TARGET']\n",
    "        \n",
    "        result[x] = LR_temp.predict_proba(temp_DATA)[:,1]\n",
    "        \n",
    "       \n",
    "    result = pd.merge(result, temp.CO_ESCOLA, left_index=True, right_index=True)\n",
    "    \n",
    "    return result, LR_temp"
   ]
  },
  {
   "cell_type": "code",
   "execution_count": 375,
   "metadata": {},
   "outputs": [
    {
     "name": "stdout",
     "output_type": "stream",
     "text": [
      "['Q001_A', 'Q001_B', 'Q001_C', 'Q001_D', 'Q001_E', 'Q001_F', 'Q001_G', 'Q001_H']\n",
      "['Q001_A', 'Q001_B', 'Q001_C', 'Q001_D', 'Q001_E', 'Q001_F', 'Q001_G', 'Q001_H']\n",
      "['Q002_A', 'Q002_B', 'Q002_C', 'Q002_D', 'Q002_E', 'Q002_F', 'Q002_G', 'Q002_H']\n",
      "['Q002_A', 'Q002_B', 'Q002_C', 'Q002_D', 'Q002_E', 'Q002_F', 'Q002_G', 'Q002_H']\n"
     ]
    }
   ],
   "source": [
    "category_enem = (['Q001', 'Q002'])\n",
    "trans_enem_att, model_enem =LR_student_to_school(enem17, enem18, category_enem)"
   ]
  },
  {
   "cell_type": "code",
   "execution_count": 389,
   "metadata": {},
   "outputs": [
    {
     "data": {
      "text/html": [
       "<div>\n",
       "<style scoped>\n",
       "    .dataframe tbody tr th:only-of-type {\n",
       "        vertical-align: middle;\n",
       "    }\n",
       "\n",
       "    .dataframe tbody tr th {\n",
       "        vertical-align: top;\n",
       "    }\n",
       "\n",
       "    .dataframe thead th {\n",
       "        text-align: right;\n",
       "    }\n",
       "</style>\n",
       "<table border=\"1\" class=\"dataframe\">\n",
       "  <thead>\n",
       "    <tr style=\"text-align: right;\">\n",
       "      <th></th>\n",
       "      <th>Q001</th>\n",
       "      <th>Q002</th>\n",
       "      <th>CO_ESCOLA</th>\n",
       "    </tr>\n",
       "  </thead>\n",
       "  <tbody>\n",
       "    <tr>\n",
       "      <td>0</td>\n",
       "      <td>0.101042</td>\n",
       "      <td>0.026863</td>\n",
       "      <td>23077140.0</td>\n",
       "    </tr>\n",
       "    <tr>\n",
       "      <td>1</td>\n",
       "      <td>0.011041</td>\n",
       "      <td>0.008507</td>\n",
       "      <td>23265795.0</td>\n",
       "    </tr>\n",
       "    <tr>\n",
       "      <td>2</td>\n",
       "      <td>0.013038</td>\n",
       "      <td>0.007904</td>\n",
       "      <td>25077759.0</td>\n",
       "    </tr>\n",
       "    <tr>\n",
       "      <td>3</td>\n",
       "      <td>0.045325</td>\n",
       "      <td>0.042808</td>\n",
       "      <td>22022040.0</td>\n",
       "    </tr>\n",
       "    <tr>\n",
       "      <td>4</td>\n",
       "      <td>0.166826</td>\n",
       "      <td>0.095757</td>\n",
       "      <td>35907224.0</td>\n",
       "    </tr>\n",
       "  </tbody>\n",
       "</table>\n",
       "</div>"
      ],
      "text/plain": [
       "       Q001      Q002   CO_ESCOLA\n",
       "0  0.101042  0.026863  23077140.0\n",
       "1  0.011041  0.008507  23265795.0\n",
       "2  0.013038  0.007904  25077759.0\n",
       "3  0.045325  0.042808  22022040.0\n",
       "4  0.166826  0.095757  35907224.0"
      ]
     },
     "execution_count": 389,
     "metadata": {},
     "output_type": "execute_result"
    }
   ],
   "source": [
    "trans_enem_att.head()"
   ]
  },
  {
   "cell_type": "code",
   "execution_count": 424,
   "metadata": {},
   "outputs": [],
   "source": [
    "dat = dat.loc[:, dat.columns != 'TARGET']\n"
   ]
  },
  {
   "cell_type": "code",
   "execution_count": 409,
   "metadata": {},
   "outputs": [
    {
     "name": "stdout",
     "output_type": "stream",
     "text": [
      "['Q002_B', 'Q002_C', 'Q002_D', 'Q002_E']\n"
     ]
    },
    {
     "data": {
      "text/html": [
       "<div>\n",
       "<style scoped>\n",
       "    .dataframe tbody tr th:only-of-type {\n",
       "        vertical-align: middle;\n",
       "    }\n",
       "\n",
       "    .dataframe tbody tr th {\n",
       "        vertical-align: top;\n",
       "    }\n",
       "\n",
       "    .dataframe thead th {\n",
       "        text-align: right;\n",
       "    }\n",
       "</style>\n",
       "<table border=\"1\" class=\"dataframe\">\n",
       "  <thead>\n",
       "    <tr style=\"text-align: right;\">\n",
       "      <th></th>\n",
       "      <th>Q002_B</th>\n",
       "      <th>Q002_C</th>\n",
       "      <th>Q002_D</th>\n",
       "      <th>Q002_E</th>\n",
       "    </tr>\n",
       "  </thead>\n",
       "  <tbody>\n",
       "    <tr>\n",
       "      <td>8</td>\n",
       "      <td>0.006944</td>\n",
       "      <td>0.277778</td>\n",
       "      <td>0.708333</td>\n",
       "      <td>0.006944</td>\n",
       "    </tr>\n",
       "  </tbody>\n",
       "</table>\n",
       "</div>"
      ],
      "text/plain": [
       "     Q002_B    Q002_C    Q002_D    Q002_E\n",
       "8  0.006944  0.277778  0.708333  0.006944"
      ]
     },
     "execution_count": 409,
     "metadata": {},
     "output_type": "execute_result"
    }
   ],
   "source": [
    "#dat2 = relative_frequencies(dat, dat.Q002.name)\n",
    "dat = dat.loc[enem18.CO_ESCOLA ==23077140.0]\n",
    "dat = dat.loc[:, ~dat.columns.isin(['CO_ESCOLA'])]\n",
    "dat2 = dat2.loc[:, dat2.columns != 'TARGET']\n",
    "dat2"
   ]
  },
  {
   "cell_type": "code",
   "execution_count": 425,
   "metadata": {},
   "outputs": [
    {
     "data": {
      "text/html": [
       "<div>\n",
       "<style scoped>\n",
       "    .dataframe tbody tr th:only-of-type {\n",
       "        vertical-align: middle;\n",
       "    }\n",
       "\n",
       "    .dataframe tbody tr th {\n",
       "        vertical-align: top;\n",
       "    }\n",
       "\n",
       "    .dataframe thead th {\n",
       "        text-align: right;\n",
       "    }\n",
       "</style>\n",
       "<table border=\"1\" class=\"dataframe\">\n",
       "  <thead>\n",
       "    <tr style=\"text-align: right;\">\n",
       "      <th></th>\n",
       "      <th>Q002_A</th>\n",
       "      <th>Q002_B</th>\n",
       "      <th>Q002_C</th>\n",
       "      <th>Q002_D</th>\n",
       "      <th>Q002_E</th>\n",
       "      <th>Q002_F</th>\n",
       "      <th>Q002_G</th>\n",
       "      <th>Q002_H</th>\n",
       "    </tr>\n",
       "  </thead>\n",
       "  <tbody>\n",
       "    <tr>\n",
       "      <td>8</td>\n",
       "      <td>0.0</td>\n",
       "      <td>0.006944</td>\n",
       "      <td>0.277778</td>\n",
       "      <td>0.708333</td>\n",
       "      <td>0.006944</td>\n",
       "      <td>0.0</td>\n",
       "      <td>0.0</td>\n",
       "      <td>0.0</td>\n",
       "    </tr>\n",
       "  </tbody>\n",
       "</table>\n",
       "</div>"
      ],
      "text/plain": [
       "   Q002_A    Q002_B    Q002_C    Q002_D    Q002_E  Q002_F  Q002_G  Q002_H\n",
       "8     0.0  0.006944  0.277778  0.708333  0.006944     0.0     0.0     0.0"
      ]
     },
     "execution_count": 425,
     "metadata": {},
     "output_type": "execute_result"
    }
   ],
   "source": [
    "dat"
   ]
  },
  {
   "cell_type": "code",
   "execution_count": 429,
   "metadata": {},
   "outputs": [
    {
     "data": {
      "text/plain": [
       "array([[0.97313662, 0.02686338]])"
      ]
     },
     "execution_count": 429,
     "metadata": {},
     "output_type": "execute_result"
    }
   ],
   "source": [
    "model_enem.predict_proba(dat)"
   ]
  },
  {
   "cell_type": "code",
   "execution_count": 373,
   "metadata": {},
   "outputs": [
    {
     "name": "stdout",
     "output_type": "stream",
     "text": [
      "['TITULACAO_0', 'TITULACAO_1', 'TITULACAO_2', 'TITULACAO_3']\n",
      "['TITULACAO_0', 'TITULACAO_1', 'TITULACAO_2', 'TITULACAO_3']\n"
     ]
    }
   ],
   "source": [
    "category_censo = (['TITULACAO'])\n",
    "trans_censo_att, model_censo=LR_student_to_school(censo17, censo18, category_censo)"
   ]
  },
  {
   "cell_type": "code",
   "execution_count": 387,
   "metadata": {},
   "outputs": [
    {
     "data": {
      "text/html": [
       "<div>\n",
       "<style scoped>\n",
       "    .dataframe tbody tr th:only-of-type {\n",
       "        vertical-align: middle;\n",
       "    }\n",
       "\n",
       "    .dataframe tbody tr th {\n",
       "        vertical-align: top;\n",
       "    }\n",
       "\n",
       "    .dataframe thead th {\n",
       "        text-align: right;\n",
       "    }\n",
       "</style>\n",
       "<table border=\"1\" class=\"dataframe\">\n",
       "  <thead>\n",
       "    <tr style=\"text-align: right;\">\n",
       "      <th></th>\n",
       "      <th>TITULACAO</th>\n",
       "      <th>CO_ESCOLA</th>\n",
       "    </tr>\n",
       "  </thead>\n",
       "  <tbody>\n",
       "    <tr>\n",
       "      <td>0</td>\n",
       "      <td>0.262913</td>\n",
       "      <td>23077140.0</td>\n",
       "    </tr>\n",
       "    <tr>\n",
       "      <td>1</td>\n",
       "      <td>0.225096</td>\n",
       "      <td>23265795.0</td>\n",
       "    </tr>\n",
       "    <tr>\n",
       "      <td>2</td>\n",
       "      <td>0.348830</td>\n",
       "      <td>25077759.0</td>\n",
       "    </tr>\n",
       "    <tr>\n",
       "      <td>3</td>\n",
       "      <td>0.239566</td>\n",
       "      <td>22022040.0</td>\n",
       "    </tr>\n",
       "    <tr>\n",
       "      <td>4</td>\n",
       "      <td>0.250300</td>\n",
       "      <td>35907224.0</td>\n",
       "    </tr>\n",
       "  </tbody>\n",
       "</table>\n",
       "</div>"
      ],
      "text/plain": [
       "   TITULACAO   CO_ESCOLA\n",
       "0   0.262913  23077140.0\n",
       "1   0.225096  23265795.0\n",
       "2   0.348830  25077759.0\n",
       "3   0.239566  22022040.0\n",
       "4   0.250300  35907224.0"
      ]
     },
     "execution_count": 387,
     "metadata": {},
     "output_type": "execute_result"
    }
   ],
   "source": [
    "trans_censo_att.head()"
   ]
  },
  {
   "cell_type": "code",
   "execution_count": 383,
   "metadata": {},
   "outputs": [
    {
     "data": {
      "text/plain": [
       "array([[-1.71874298, -4.0725389 ,  6.13096251,  0.65454639]])"
      ]
     },
     "execution_count": 383,
     "metadata": {},
     "output_type": "execute_result"
    }
   ],
   "source": [
    "model_censo.coef_"
   ]
  },
  {
   "cell_type": "code",
   "execution_count": 384,
   "metadata": {},
   "outputs": [
    {
     "data": {
      "text/plain": [
       "array([0.99422702])"
      ]
     },
     "execution_count": 384,
     "metadata": {},
     "output_type": "execute_result"
    }
   ],
   "source": [
    "model_censo.intercept_"
   ]
  },
  {
   "cell_type": "code",
   "execution_count": null,
   "metadata": {},
   "outputs": [],
   "source": []
  }
 ],
 "metadata": {
  "kernelspec": {
   "display_name": "Python 3",
   "language": "python",
   "name": "python3"
  },
  "language_info": {
   "codemirror_mode": {
    "name": "ipython",
    "version": 3
   },
   "file_extension": ".py",
   "mimetype": "text/x-python",
   "name": "python",
   "nbconvert_exporter": "python",
   "pygments_lexer": "ipython3",
   "version": "3.7.4"
  }
 },
 "nbformat": 4,
 "nbformat_minor": 4
}
