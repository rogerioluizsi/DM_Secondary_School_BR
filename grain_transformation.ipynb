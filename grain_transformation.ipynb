{
 "cells": [
  {
   "cell_type": "code",
   "execution_count": 1,
   "metadata": {},
   "outputs": [],
   "source": [
    "import pandas as pd\n",
    "import numpy as np\n",
    "import seaborn as sns\n",
    "import sklearn as sklearn\n",
    "import seaborn as sns\n",
    "import matplotlib.pyplot as plt\n",
    "%matplotlib inline\n",
    "from scipy import stats\n",
    "import statistics as es \n",
    "import csv\n",
    "import re \n",
    "import warnings\n",
    "from sklearn.linear_model import LogisticRegression\n",
    "warnings.filterwarnings('ignore')\n",
    "pd.set_option('display.max_columns', None)"
   ]
  },
  {
   "cell_type": "markdown",
   "metadata": {},
   "source": [
    "## ENEM  DATASET"
   ]
  },
  {
   "cell_type": "code",
   "execution_count": 2,
   "metadata": {},
   "outputs": [],
   "source": [
    "#Choose just useful features for us \n",
    "fenem= ['NU_INSCRICAO','CO_ESCOLA','Q001','Q002','Q003','Q004','Q006', 'Q007', 'Q008', 'Q009', 'Q010', 'Q011','Q012','Q013','Q014','Q015','Q016','Q017','Q019','Q022','Q024','Q027', 'TP_COR_RACA',\n",
    "        'NU_NOTA_CN', 'NU_NOTA_CH', 'NU_NOTA_LC', 'NU_NOTA_MT', 'NU_NOTA_REDACAO',\n",
    "       'IN_TREINEIRO', 'TP_ST_CONCLUSAO', 'TP_ESCOLA', 'TP_ENSINO']\n",
    "enem17a=pd.read_csv(\"~/data/Enem/MICRODADOS_ENEM_2017.csv\", sep=';',encoding=\"iso-8859-2\", usecols = fenem)\n",
    "enem18a=pd.read_csv(\"~/data/Enem/MICRODADOS_ENEM_2018.csv\", sep=';',encoding=\"iso-8859-2\", usecols = fenem)"
   ]
  },
  {
   "cell_type": "code",
   "execution_count": 3,
   "metadata": {},
   "outputs": [],
   "source": [
    "category=(['TP_COR_RACA'])\n",
    "enem17a[category]= enem17a[category].astype(str)\n",
    "enem18a[category]= enem17a[category].astype(str)"
   ]
  },
  {
   "cell_type": "code",
   "execution_count": 4,
   "metadata": {},
   "outputs": [],
   "source": [
    "enem17 = enem17a.copy()\n",
    "enem18 = enem18a.copy()\n"
   ]
  },
  {
   "cell_type": "code",
   "execution_count": 5,
   "metadata": {},
   "outputs": [
    {
     "name": "stdout",
     "output_type": "stream",
     "text": [
      "There are 6731341 students of 33834 Schools in ENEM 2017\n",
      "There are 5513747 students of 32253 Schools in ENEM 2018\n"
     ]
    }
   ],
   "source": [
    "#How many Students left? How many schools are they in?\n",
    "print (\"There are\", enem17.shape[0], \"students\",  \"of\", enem17.CO_ESCOLA.value_counts().count() ,\"Schools in ENEM 2017\")\n",
    "#enem17.head()\n",
    "\n",
    "print (\"There are\", enem18.shape[0], \"students\",  \"of\", enem18.CO_ESCOLA.value_counts().count() ,\"Schools in ENEM 2018\")\n",
    "#enem18.head()"
   ]
  },
  {
   "cell_type": "code",
   "execution_count": 6,
   "metadata": {},
   "outputs": [],
   "source": [
    "#enem18.dropna(inplace = True, axis=0, subset=['CO_ESCOLA'])"
   ]
  },
  {
   "cell_type": "markdown",
   "metadata": {},
   "source": [
    "### FILTER DOMAIN "
   ]
  },
  {
   "cell_type": "code",
   "execution_count": 7,
   "metadata": {},
   "outputs": [
    {
     "name": "stdout",
     "output_type": "stream",
     "text": [
      "Will be dropped 4064926 who does have school enrollment\n",
      "Will be dropped 527709 who are just trainning\n",
      "Will be dropped 3873648 who aren´t on last secoNdary school year\n",
      "Will be dropped 4376256 who does not study in public school\n",
      "Will be dropped 2384237 who does not have regular curriculum\n"
     ]
    }
   ],
   "source": [
    "#ps: May have intersections\n",
    "print(\"Will be dropped\" , (enem18.CO_ESCOLA.isnull()).sum(), 'who does have school enrollment')\n",
    "print(\"Will be dropped\" , (enem18.IN_TREINEIRO == 1).sum(), 'who are just trainning')\n",
    "print(\"Will be dropped\" , (enem18.TP_ST_CONCLUSAO!= 2).sum(), 'who aren´t on last secoNdary school year')\n",
    "print(\"Will be dropped\" , (enem18.TP_ESCOLA!=2).sum(), 'who does not study in public school')\n",
    "print(\"Will be dropped\" , (enem18.TP_ENSINO !=1).sum(), 'who does not have regular curriculum')"
   ]
  },
  {
   "cell_type": "code",
   "execution_count": 8,
   "metadata": {},
   "outputs": [],
   "source": [
    "#Drop out those whithout schools ,\n",
    "enem17.dropna(inplace = True, axis=0, subset=['CO_ESCOLA'])\n",
    "enem18.dropna(inplace = True, axis=0, subset=['CO_ESCOLA'])\n",
    "#more filters\n",
    "enem17 = enem17[(enem17.IN_TREINEIRO !=1) & (enem17.TP_ST_CONCLUSAO==2) & (enem17.TP_ESCOLA==2) & (enem17.TP_ENSINO ==1)]\n",
    "enem18 = enem18[(enem18.IN_TREINEIRO !=1) & (enem18.TP_ST_CONCLUSAO==2) & (enem18.TP_ESCOLA==2) & (enem18.TP_ENSINO ==1)]"
   ]
  },
  {
   "cell_type": "code",
   "execution_count": 9,
   "metadata": {},
   "outputs": [
    {
     "data": {
      "text/plain": [
       "count    1009156.0\n",
       "mean           1.0\n",
       "std            0.0\n",
       "min            1.0\n",
       "25%            1.0\n",
       "50%            1.0\n",
       "75%            1.0\n",
       "max            1.0\n",
       "Name: TP_ENSINO, dtype: float64"
      ]
     },
     "execution_count": 9,
     "metadata": {},
     "output_type": "execute_result"
    }
   ],
   "source": [
    "enem18.TP_ENSINO.describe()"
   ]
  },
  {
   "cell_type": "code",
   "execution_count": 10,
   "metadata": {},
   "outputs": [],
   "source": [
    "#Second, drop out insufficient scores \n",
    "fields = (['NU_NOTA_CN', 'NU_NOTA_CH','NU_NOTA_LC','NU_NOTA_MT', 'NU_NOTA_REDACAO'])\n",
    "# With NaN\n",
    "enem17.dropna(inplace = True, axis=0, subset=fields)\n",
    "enem18.dropna(inplace = True, axis=0, subset=fields)\n",
    "# With 0\n",
    "enem17 = enem17[~(enem17[fields] == 0).any(axis=1)]\n",
    "enem18 = enem18[~(enem18[fields] == 0).any(axis=1)]"
   ]
  },
  {
   "cell_type": "code",
   "execution_count": 11,
   "metadata": {},
   "outputs": [],
   "source": [
    "#Only schools that have more than ten students in ENEM 1\n",
    "enem17['STUDENT_COUNT'] = enem17.groupby(['CO_ESCOLA'])['CO_ESCOLA'].transform('count') \n",
    "enem17 = enem17[(enem17['STUDENT_COUNT']>= 10)]\n",
    "enem17.drop(['STUDENT_COUNT'], axis=1,inplace=True)\n",
    "\n",
    "enem18['STUDENT_COUNT'] = enem18.groupby(['CO_ESCOLA'])['CO_ESCOLA'].transform('count') \n",
    "enem18 = enem18[(enem18['STUDENT_COUNT']>= 10)]\n",
    "enem18.drop(['STUDENT_COUNT'], axis=1,inplace=True)"
   ]
  },
  {
   "cell_type": "code",
   "execution_count": 12,
   "metadata": {},
   "outputs": [
    {
     "name": "stdout",
     "output_type": "stream",
     "text": [
      "(934645, 31)\n",
      "(733248, 31)\n"
     ]
    }
   ],
   "source": [
    "print(enem17.shape)\n",
    "print(enem18.shape)"
   ]
  },
  {
   "cell_type": "markdown",
   "metadata": {},
   "source": [
    "#### Set last quartile of average scores as the best students for the 2017 dataset"
   ]
  },
  {
   "cell_type": "code",
   "execution_count": 13,
   "metadata": {},
   "outputs": [],
   "source": [
    "#Creating average of students in all fields\n",
    "enem17['AVG_SCORE'] = (enem17.NU_NOTA_CN + enem17.NU_NOTA_CH + enem17.NU_NOTA_LC + enem17.NU_NOTA_MT + enem17.NU_NOTA_REDACAO)/5\n",
    "enem18['AVG_SCORE'] = (enem18.NU_NOTA_CN + enem18.NU_NOTA_CH + enem18.NU_NOTA_LC + enem18.NU_NOTA_MT + enem18.NU_NOTA_REDACAO)/5"
   ]
  },
  {
   "cell_type": "code",
   "execution_count": 14,
   "metadata": {},
   "outputs": [],
   "source": [
    "#Creating the average of all schools by each studentes score\n",
    "enem17['AVG_SCORE_SCHOOL'] = enem17.groupby(['CO_ESCOLA'])['AVG_SCORE'].transform('mean') \n",
    "enem18['AVG_SCORE_SCHOOL'] = enem18.groupby(['CO_ESCOLA'])['AVG_SCORE'].transform('mean') "
   ]
  },
  {
   "cell_type": "code",
   "execution_count": 15,
   "metadata": {},
   "outputs": [],
   "source": [
    "#Transform in School grain before to separate the scores in quartiles\n",
    "temp17 = enem17.drop_duplicates(['CO_ESCOLA'])\n",
    "temp17['TARGET'] = pd.qcut (temp17.AVG_SCORE_SCHOOL, 4, labels = [1,2,3,4]).map(lambda x : 0 if x!=4 else 1) \n",
    "\n",
    "temp18 = enem18.drop_duplicates(['CO_ESCOLA'])\n",
    "temp18['TARGET'] = pd.qcut (temp18.AVG_SCORE_SCHOOL, 4, labels = [1,2,3,4]).map(lambda x : 0 if x!=4 else 1) "
   ]
  },
  {
   "cell_type": "code",
   "execution_count": 16,
   "metadata": {},
   "outputs": [
    {
     "name": "stdout",
     "output_type": "stream",
     "text": [
      "74.99845018907693 % lowers quartis in ENEM 2017\n",
      "75.00170056458745 % lowers quartis in ENEM 2018\n"
     ]
    }
   ],
   "source": [
    "#It's right? \n",
    "print((temp17.TARGET==0).sum()/(temp17.TARGET.count())*100, '% lowers quartis in ENEM 2017')\n",
    "print((temp18.TARGET==0).sum()/(temp18.TARGET.count())*100, '% lowers quartis in ENEM 2018')"
   ]
  },
  {
   "cell_type": "code",
   "execution_count": 17,
   "metadata": {},
   "outputs": [
    {
     "name": "stdout",
     "output_type": "stream",
     "text": [
      "(16131, 34)\n",
      "(14701, 34)\n"
     ]
    }
   ],
   "source": [
    "print(temp17.shape)\n",
    "print(temp18.shape)"
   ]
  },
  {
   "cell_type": "code",
   "execution_count": 18,
   "metadata": {},
   "outputs": [],
   "source": [
    "#turn back in Student grain\n",
    "enem17= pd.merge(temp17[['CO_ESCOLA', 'TARGET']], enem17, left_on='CO_ESCOLA', right_on='CO_ESCOLA', how='right')\n",
    "enem18= pd.merge(temp18[['CO_ESCOLA', 'TARGET']], enem18, left_on='CO_ESCOLA', right_on='CO_ESCOLA', how='right')"
   ]
  },
  {
   "cell_type": "code",
   "execution_count": 19,
   "metadata": {},
   "outputs": [
    {
     "name": "stdout",
     "output_type": "stream",
     "text": [
      "(934645, 34)\n",
      "(733248, 34)\n"
     ]
    }
   ],
   "source": [
    "#check if the same length as before\n",
    "print(enem17.shape)\n",
    "print(enem18.shape)"
   ]
  },
  {
   "cell_type": "code",
   "execution_count": 20,
   "metadata": {},
   "outputs": [
    {
     "data": {
      "text/html": [
       "<div>\n",
       "<style scoped>\n",
       "    .dataframe tbody tr th:only-of-type {\n",
       "        vertical-align: middle;\n",
       "    }\n",
       "\n",
       "    .dataframe tbody tr th {\n",
       "        vertical-align: top;\n",
       "    }\n",
       "\n",
       "    .dataframe thead th {\n",
       "        text-align: right;\n",
       "    }\n",
       "</style>\n",
       "<table border=\"1\" class=\"dataframe\">\n",
       "  <thead>\n",
       "    <tr style=\"text-align: right;\">\n",
       "      <th></th>\n",
       "      <th>CO_ESCOLA</th>\n",
       "      <th>TARGET</th>\n",
       "      <th>NU_INSCRICAO</th>\n",
       "      <th>TP_COR_RACA</th>\n",
       "      <th>TP_ST_CONCLUSAO</th>\n",
       "      <th>TP_ESCOLA</th>\n",
       "      <th>TP_ENSINO</th>\n",
       "      <th>IN_TREINEIRO</th>\n",
       "      <th>NU_NOTA_CN</th>\n",
       "      <th>NU_NOTA_CH</th>\n",
       "      <th>NU_NOTA_LC</th>\n",
       "      <th>NU_NOTA_MT</th>\n",
       "      <th>NU_NOTA_REDACAO</th>\n",
       "      <th>Q001</th>\n",
       "      <th>Q002</th>\n",
       "      <th>Q003</th>\n",
       "      <th>Q004</th>\n",
       "      <th>Q006</th>\n",
       "      <th>Q007</th>\n",
       "      <th>Q008</th>\n",
       "      <th>Q009</th>\n",
       "      <th>Q010</th>\n",
       "      <th>Q011</th>\n",
       "      <th>Q012</th>\n",
       "      <th>Q013</th>\n",
       "      <th>Q014</th>\n",
       "      <th>Q015</th>\n",
       "      <th>Q016</th>\n",
       "      <th>Q017</th>\n",
       "      <th>Q019</th>\n",
       "      <th>Q022</th>\n",
       "      <th>Q024</th>\n",
       "      <th>AVG_SCORE</th>\n",
       "      <th>AVG_SCORE_SCHOOL</th>\n",
       "    </tr>\n",
       "  </thead>\n",
       "  <tbody>\n",
       "    <tr>\n",
       "      <td>0</td>\n",
       "      <td>35001259.0</td>\n",
       "      <td>0</td>\n",
       "      <td>170001665543</td>\n",
       "      <td>3</td>\n",
       "      <td>2</td>\n",
       "      <td>2</td>\n",
       "      <td>1.0</td>\n",
       "      <td>0</td>\n",
       "      <td>452.8</td>\n",
       "      <td>451.3</td>\n",
       "      <td>529.1</td>\n",
       "      <td>439.1</td>\n",
       "      <td>520.0</td>\n",
       "      <td>E</td>\n",
       "      <td>E</td>\n",
       "      <td>B</td>\n",
       "      <td>B</td>\n",
       "      <td>F</td>\n",
       "      <td>A</td>\n",
       "      <td>B</td>\n",
       "      <td>C</td>\n",
       "      <td>A</td>\n",
       "      <td>A</td>\n",
       "      <td>B</td>\n",
       "      <td>B</td>\n",
       "      <td>B</td>\n",
       "      <td>A</td>\n",
       "      <td>B</td>\n",
       "      <td>A</td>\n",
       "      <td>C</td>\n",
       "      <td>D</td>\n",
       "      <td>B</td>\n",
       "      <td>478.46</td>\n",
       "      <td>493.553043</td>\n",
       "    </tr>\n",
       "    <tr>\n",
       "      <td>1</td>\n",
       "      <td>35001259.0</td>\n",
       "      <td>0</td>\n",
       "      <td>170003346964</td>\n",
       "      <td>1</td>\n",
       "      <td>2</td>\n",
       "      <td>2</td>\n",
       "      <td>1.0</td>\n",
       "      <td>0</td>\n",
       "      <td>491.9</td>\n",
       "      <td>418.9</td>\n",
       "      <td>513.4</td>\n",
       "      <td>553.3</td>\n",
       "      <td>500.0</td>\n",
       "      <td>E</td>\n",
       "      <td>E</td>\n",
       "      <td>E</td>\n",
       "      <td>B</td>\n",
       "      <td>H</td>\n",
       "      <td>A</td>\n",
       "      <td>B</td>\n",
       "      <td>B</td>\n",
       "      <td>A</td>\n",
       "      <td>A</td>\n",
       "      <td>B</td>\n",
       "      <td>A</td>\n",
       "      <td>B</td>\n",
       "      <td>A</td>\n",
       "      <td>B</td>\n",
       "      <td>A</td>\n",
       "      <td>B</td>\n",
       "      <td>C</td>\n",
       "      <td>B</td>\n",
       "      <td>495.50</td>\n",
       "      <td>493.553043</td>\n",
       "    </tr>\n",
       "  </tbody>\n",
       "</table>\n",
       "</div>"
      ],
      "text/plain": [
       "    CO_ESCOLA  TARGET  NU_INSCRICAO TP_COR_RACA  TP_ST_CONCLUSAO  TP_ESCOLA  \\\n",
       "0  35001259.0       0  170001665543           3                2          2   \n",
       "1  35001259.0       0  170003346964           1                2          2   \n",
       "\n",
       "   TP_ENSINO  IN_TREINEIRO  NU_NOTA_CN  NU_NOTA_CH  NU_NOTA_LC  NU_NOTA_MT  \\\n",
       "0        1.0             0       452.8       451.3       529.1       439.1   \n",
       "1        1.0             0       491.9       418.9       513.4       553.3   \n",
       "\n",
       "   NU_NOTA_REDACAO Q001 Q002 Q003 Q004 Q006 Q007 Q008 Q009 Q010 Q011 Q012  \\\n",
       "0            520.0    E    E    B    B    F    A    B    C    A    A    B   \n",
       "1            500.0    E    E    E    B    H    A    B    B    A    A    B   \n",
       "\n",
       "  Q013 Q014 Q015 Q016 Q017 Q019 Q022 Q024  AVG_SCORE  AVG_SCORE_SCHOOL  \n",
       "0    B    B    A    B    A    C    D    B     478.46        493.553043  \n",
       "1    A    B    A    B    A    B    C    B     495.50        493.553043  "
      ]
     },
     "execution_count": 20,
     "metadata": {},
     "output_type": "execute_result"
    }
   ],
   "source": [
    "enem17.head(2)"
   ]
  },
  {
   "cell_type": "code",
   "execution_count": 21,
   "metadata": {},
   "outputs": [
    {
     "data": {
      "text/html": [
       "<div>\n",
       "<style scoped>\n",
       "    .dataframe tbody tr th:only-of-type {\n",
       "        vertical-align: middle;\n",
       "    }\n",
       "\n",
       "    .dataframe tbody tr th {\n",
       "        vertical-align: top;\n",
       "    }\n",
       "\n",
       "    .dataframe thead th {\n",
       "        text-align: right;\n",
       "    }\n",
       "</style>\n",
       "<table border=\"1\" class=\"dataframe\">\n",
       "  <thead>\n",
       "    <tr style=\"text-align: right;\">\n",
       "      <th></th>\n",
       "      <th>CO_ESCOLA</th>\n",
       "      <th>TARGET</th>\n",
       "      <th>NU_INSCRICAO</th>\n",
       "      <th>TP_COR_RACA</th>\n",
       "      <th>TP_ST_CONCLUSAO</th>\n",
       "      <th>TP_ESCOLA</th>\n",
       "      <th>TP_ENSINO</th>\n",
       "      <th>IN_TREINEIRO</th>\n",
       "      <th>NU_NOTA_CN</th>\n",
       "      <th>NU_NOTA_CH</th>\n",
       "      <th>NU_NOTA_LC</th>\n",
       "      <th>NU_NOTA_MT</th>\n",
       "      <th>NU_NOTA_REDACAO</th>\n",
       "      <th>Q001</th>\n",
       "      <th>Q002</th>\n",
       "      <th>Q003</th>\n",
       "      <th>Q004</th>\n",
       "      <th>Q006</th>\n",
       "      <th>Q007</th>\n",
       "      <th>Q008</th>\n",
       "      <th>Q009</th>\n",
       "      <th>Q010</th>\n",
       "      <th>Q011</th>\n",
       "      <th>Q012</th>\n",
       "      <th>Q013</th>\n",
       "      <th>Q014</th>\n",
       "      <th>Q015</th>\n",
       "      <th>Q016</th>\n",
       "      <th>Q017</th>\n",
       "      <th>Q019</th>\n",
       "      <th>Q022</th>\n",
       "      <th>Q024</th>\n",
       "      <th>AVG_SCORE</th>\n",
       "      <th>AVG_SCORE_SCHOOL</th>\n",
       "    </tr>\n",
       "  </thead>\n",
       "  <tbody>\n",
       "    <tr>\n",
       "      <td>0</td>\n",
       "      <td>23077140.0</td>\n",
       "      <td>0</td>\n",
       "      <td>180008257068</td>\n",
       "      <td>1</td>\n",
       "      <td>2</td>\n",
       "      <td>2</td>\n",
       "      <td>1.0</td>\n",
       "      <td>0</td>\n",
       "      <td>411.8</td>\n",
       "      <td>429.8</td>\n",
       "      <td>445.2</td>\n",
       "      <td>459.0</td>\n",
       "      <td>340.0</td>\n",
       "      <td>D</td>\n",
       "      <td>D</td>\n",
       "      <td>C</td>\n",
       "      <td>B</td>\n",
       "      <td>C</td>\n",
       "      <td>A</td>\n",
       "      <td>B</td>\n",
       "      <td>C</td>\n",
       "      <td>A</td>\n",
       "      <td>A</td>\n",
       "      <td>B</td>\n",
       "      <td>A</td>\n",
       "      <td>B</td>\n",
       "      <td>A</td>\n",
       "      <td>A</td>\n",
       "      <td>A</td>\n",
       "      <td>B</td>\n",
       "      <td>B</td>\n",
       "      <td>A</td>\n",
       "      <td>417.16</td>\n",
       "      <td>486.252444</td>\n",
       "    </tr>\n",
       "    <tr>\n",
       "      <td>1</td>\n",
       "      <td>23077140.0</td>\n",
       "      <td>0</td>\n",
       "      <td>180008309669</td>\n",
       "      <td>3</td>\n",
       "      <td>2</td>\n",
       "      <td>2</td>\n",
       "      <td>1.0</td>\n",
       "      <td>0</td>\n",
       "      <td>457.3</td>\n",
       "      <td>564.2</td>\n",
       "      <td>474.6</td>\n",
       "      <td>462.9</td>\n",
       "      <td>300.0</td>\n",
       "      <td>D</td>\n",
       "      <td>D</td>\n",
       "      <td>C</td>\n",
       "      <td>B</td>\n",
       "      <td>C</td>\n",
       "      <td>A</td>\n",
       "      <td>B</td>\n",
       "      <td>C</td>\n",
       "      <td>A</td>\n",
       "      <td>A</td>\n",
       "      <td>B</td>\n",
       "      <td>A</td>\n",
       "      <td>B</td>\n",
       "      <td>A</td>\n",
       "      <td>A</td>\n",
       "      <td>A</td>\n",
       "      <td>B</td>\n",
       "      <td>B</td>\n",
       "      <td>A</td>\n",
       "      <td>451.80</td>\n",
       "      <td>486.252444</td>\n",
       "    </tr>\n",
       "  </tbody>\n",
       "</table>\n",
       "</div>"
      ],
      "text/plain": [
       "    CO_ESCOLA  TARGET  NU_INSCRICAO TP_COR_RACA  TP_ST_CONCLUSAO  TP_ESCOLA  \\\n",
       "0  23077140.0       0  180008257068           1                2          2   \n",
       "1  23077140.0       0  180008309669           3                2          2   \n",
       "\n",
       "   TP_ENSINO  IN_TREINEIRO  NU_NOTA_CN  NU_NOTA_CH  NU_NOTA_LC  NU_NOTA_MT  \\\n",
       "0        1.0             0       411.8       429.8       445.2       459.0   \n",
       "1        1.0             0       457.3       564.2       474.6       462.9   \n",
       "\n",
       "   NU_NOTA_REDACAO Q001 Q002 Q003 Q004 Q006 Q007 Q008 Q009 Q010 Q011 Q012  \\\n",
       "0            340.0    D    D    C    B    C    A    B    C    A    A    B   \n",
       "1            300.0    D    D    C    B    C    A    B    C    A    A    B   \n",
       "\n",
       "  Q013 Q014 Q015 Q016 Q017 Q019 Q022 Q024  AVG_SCORE  AVG_SCORE_SCHOOL  \n",
       "0    A    B    A    A    A    B    B    A     417.16        486.252444  \n",
       "1    A    B    A    A    A    B    B    A     451.80        486.252444  "
      ]
     },
     "execution_count": 21,
     "metadata": {},
     "output_type": "execute_result"
    }
   ],
   "source": [
    "enem18.head(2)"
   ]
  },
  {
   "cell_type": "markdown",
   "metadata": {},
   "source": [
    "## TEACHERS CENSUS DATASET "
   ]
  },
  {
   "cell_type": "code",
   "execution_count": 22,
   "metadata": {},
   "outputs": [],
   "source": [
    "#Choose just useful features for us now, improve memory use\n",
    "fcenso = ['CO_PESSOA_FISICA','NU_ANO_CENSO','IN_ESPECIALIZACAO','IN_MESTRADO','IN_DOUTORADO','CO_ENTIDADE']\n",
    "\n",
    "#Reading data of Teachers in Censo 2017\n",
    "CO17=pd.read_csv(\"~/data/censo2017/DOCENTES_CO.CSV\", sep='|', encoding=\"iso-8859-2\", usecols = fcenso)\n",
    "NE17=pd.read_csv(\"~/data/censo2017/DOCENTES_NORDESTE.CSV\", sep='|', encoding=\"iso-8859-2\", usecols = fcenso)\n",
    "NT17=pd.read_csv(\"~/data/censo2017/DOCENTES_NORTE.CSV\", sep='|', encoding=\"iso-8859-2\", usecols = fcenso)\n",
    "SE17=pd.read_csv(\"~/data/censo2017/DOCENTES_SUDESTE.CSV\", sep='|', encoding=\"iso-8859-2\", usecols = fcenso)\n",
    "SU17=pd.read_csv(\"~/data/censo2017/DOCENTES_SUL.CSV\", sep='|', encoding=\"iso-8859-2\", usecols = fcenso)\n",
    "\n",
    "#There are differences in feature names\n",
    "fcenso18 = ['ID_DOCENTE','NU_ANO_CENSO','IN_ESPECIALIZACAO','IN_MESTRADO','IN_DOUTORADO','CO_ENTIDADE']\n",
    "\n",
    "CO18=pd.read_csv(\"~/data/censo2018/DOCENTES_CO.CSV\", sep='|', encoding=\"iso-8859-2\", usecols = fcenso18)\n",
    "NE18=pd.read_csv(\"~/data/censo2018/DOCENTES_NORDESTE.CSV\", sep='|', encoding=\"iso-8859-2\", usecols = fcenso18)\n",
    "NT18=pd.read_csv(\"~/data/censo2018/DOCENTES_NORTE.CSV\", sep='|', encoding=\"iso-8859-2\", usecols = fcenso18)\n",
    "SE18=pd.read_csv(\"~/data/censo2018/DOCENTES_SUDESTE.CSV\", sep='|', encoding=\"iso-8859-2\", usecols = fcenso18)\n",
    "SU18=pd.read_csv(\"~/data/censo2018/DOCENTES_SUL.CSV\", sep='|', encoding=\"iso-8859-2\", usecols = fcenso18)\n"
   ]
  },
  {
   "cell_type": "code",
   "execution_count": 23,
   "metadata": {},
   "outputs": [],
   "source": [
    "#Concatening the subsets and creating a unique dataset, than transform all features and categories, as it are.\n",
    "censo17a= pd.concat([CO17, NE17, NT17, SE17, SU17])\n",
    "censo17 = censo17a.copy()\n",
    "\n",
    "censo18a= pd.concat([CO18, NE18, NT18, SE18, SU18])\n",
    "censo18 = censo18a.copy()\n",
    "#censo17=censo17.astype('category')"
   ]
  },
  {
   "cell_type": "markdown",
   "metadata": {},
   "source": [
    "Get only teachers who work in secondary schools (based on ENEM)"
   ]
  },
  {
   "cell_type": "code",
   "execution_count": 24,
   "metadata": {},
   "outputs": [
    {
     "name": "stdout",
     "output_type": "stream",
     "text": [
      "There are 2603186 Teachers at 185925 Schools in Census 2017\n",
      "There are 2581297 Teachers at 183746 Schools in Census 2018\n"
     ]
    }
   ],
   "source": [
    "#Some informations\n",
    "print (\"There are\", censo17.drop_duplicates('CO_PESSOA_FISICA').shape[0], \"Teachers\",  \"at\", censo17.CO_ENTIDADE.value_counts().count() ,\"Schools in Census 2017\")\n",
    "\n",
    "print (\"There are\", censo18.drop_duplicates('ID_DOCENTE').shape[0], \"Teachers\",  \"at\", censo18.CO_ENTIDADE.value_counts().count() ,\"Schools in Census 2018\")"
   ]
  },
  {
   "cell_type": "code",
   "execution_count": 25,
   "metadata": {},
   "outputs": [],
   "source": [
    "#It's necessary drop duplicates whose are teachers in the same school but in different classes. \n",
    "#This way, the teacher appear just one time in each school. \n",
    "censo17.drop_duplicates(subset=['CO_PESSOA_FISICA', 'CO_ENTIDADE'], inplace=True)\n",
    "censo18.drop_duplicates(subset=['ID_DOCENTE', 'CO_ENTIDADE'], inplace=True)"
   ]
  },
  {
   "cell_type": "code",
   "execution_count": 26,
   "metadata": {},
   "outputs": [],
   "source": [
    "#getting the schools represented in ENEM\n",
    "schoolsEnem17 = enem17.drop_duplicates('CO_ESCOLA')\n",
    "schoolsEnem17 = schoolsEnem17[(['CO_ESCOLA','TARGET'])]\n",
    "#schoolsEnem17 = schoolsEnem17.astype(str)\n",
    "\n",
    "schoolsEnem18 = enem18.drop_duplicates('CO_ESCOLA')\n",
    "schoolsEnem18 = schoolsEnem18[(['CO_ESCOLA','TARGET'])]\n",
    "#schoolsEnem18 = schoolsEnem18.astype(str)\n"
   ]
  },
  {
   "cell_type": "code",
   "execution_count": 51,
   "metadata": {},
   "outputs": [
    {
     "data": {
      "text/plain": [
       "CO_ESCOLA    14701\n",
       "TARGET       14701\n",
       "dtype: int64"
      ]
     },
     "execution_count": 51,
     "metadata": {},
     "output_type": "execute_result"
    }
   ],
   "source": [
    "schoolsEnem18.count()"
   ]
  },
  {
   "cell_type": "code",
   "execution_count": 27,
   "metadata": {},
   "outputs": [
    {
     "data": {
      "text/plain": [
       "14687"
      ]
     },
     "execution_count": 27,
     "metadata": {},
     "output_type": "execute_result"
    }
   ],
   "source": [
    "schoolsEnem18.CO_ESCOLA.isin(censo18.CO_ENTIDADE).sum()"
   ]
  },
  {
   "cell_type": "code",
   "execution_count": 28,
   "metadata": {},
   "outputs": [],
   "source": [
    "#Merge the two datasets, whereas that only teachers who work in school represented in ENEM 17 and 18\n",
    "censo17= pd.merge(schoolsEnem17, censo17, left_on='CO_ESCOLA', right_on='CO_ENTIDADE', how='inner')\n",
    "\n",
    "censo18= pd.merge(schoolsEnem18, censo18, left_on='CO_ESCOLA', right_on='CO_ENTIDADE', how='inner')"
   ]
  },
  {
   "cell_type": "code",
   "execution_count": 29,
   "metadata": {},
   "outputs": [
    {
     "name": "stdout",
     "output_type": "stream",
     "text": [
      "(619249, 8)\n",
      "(559941, 8)\n"
     ]
    }
   ],
   "source": [
    "print(censo17.shape)\n",
    "print(censo18.shape)"
   ]
  },
  {
   "cell_type": "code",
   "execution_count": 30,
   "metadata": {},
   "outputs": [
    {
     "data": {
      "text/plain": [
       "CO_ESCOLA            14687\n",
       "TARGET               14687\n",
       "NU_ANO_CENSO         14687\n",
       "ID_DOCENTE           14687\n",
       "IN_ESPECIALIZACAO    13865\n",
       "IN_MESTRADO          13865\n",
       "IN_DOUTORADO         13865\n",
       "CO_ENTIDADE          14687\n",
       "dtype: int64"
      ]
     },
     "execution_count": 30,
     "metadata": {},
     "output_type": "execute_result"
    }
   ],
   "source": [
    "censo18.drop_duplicates('CO_ENTIDADE').count()"
   ]
  },
  {
   "cell_type": "code",
   "execution_count": 31,
   "metadata": {},
   "outputs": [
    {
     "name": "stdout",
     "output_type": "stream",
     "text": [
      "CO_ESCOLA                0\n",
      "TARGET                   0\n",
      "NU_ANO_CENSO             0\n",
      "CO_PESSOA_FISICA         0\n",
      "IN_ESPECIALIZACAO    39012\n",
      "IN_MESTRADO          39012\n",
      "IN_DOUTORADO         39012\n",
      "CO_ENTIDADE              0\n",
      "dtype: int64\n",
      "CO_ESCOLA                0\n",
      "TARGET                   0\n",
      "NU_ANO_CENSO             0\n",
      "ID_DOCENTE               0\n",
      "IN_ESPECIALIZACAO    28967\n",
      "IN_MESTRADO          28967\n",
      "IN_DOUTORADO         28967\n",
      "CO_ENTIDADE              0\n",
      "dtype: int64\n"
     ]
    }
   ],
   "source": [
    "print(censo17.isnull().sum())\n",
    "print(censo18.isnull().sum())"
   ]
  },
  {
   "cell_type": "code",
   "execution_count": 32,
   "metadata": {},
   "outputs": [],
   "source": [
    "#Missing values in these cases are \"0\" \n",
    "censo17['IN_ESPECIALIZACAO'].fillna(0.0, inplace=True)\n",
    "censo17['IN_MESTRADO'].fillna(0.0, inplace=True)\n",
    "censo17['IN_DOUTORADO'].fillna(0.0, inplace=True)\n",
    "\n",
    "censo18['IN_ESPECIALIZACAO'].fillna(0.0, inplace=True)\n",
    "censo18['IN_MESTRADO'].fillna(0.0, inplace=True)\n",
    "censo18['IN_DOUTORADO'].fillna(0.0, inplace=True)"
   ]
  },
  {
   "cell_type": "code",
   "execution_count": 33,
   "metadata": {},
   "outputs": [],
   "source": [
    "#In database have different patterns to represent level of education. ex: Master has signed in two different ways, or marked in Master and Especialization or just in Master.\n",
    "def education_level(df):\n",
    "    if (df.IN_ESPECIALIZACAO==0.0) & (df.IN_MESTRADO==0.0) & (df.IN_DOUTORADO ==0.0):\n",
    "        #print(0)\n",
    "        df['TITULACAO']= \"0\"\n",
    "    elif (df.IN_ESPECIALIZACAO==1.0) & (df.IN_MESTRADO==0.0) & (df.IN_DOUTORADO ==0.0):\n",
    "        #print(1)\n",
    "        df['TITULACAO']= \"1\"\n",
    "    elif (df.IN_ESPECIALIZACAO==1.0) & (df.IN_MESTRADO==1.0) & (df.IN_DOUTORADO ==0.0):\n",
    "        #print(2)\n",
    "        df['TITULACAO']= \"2\"\n",
    "    elif (df.IN_ESPECIALIZACAO==0.0) & (df.IN_MESTRADO==1.0) & (df.IN_DOUTORADO ==0.0):\n",
    "        #print(2)\n",
    "        df['TITULACAO']= \"2\"\n",
    "    else:\n",
    "        #print(3)\n",
    "        df['TITULACAO']= \"3\"  \n",
    "    return df"
   ]
  },
  {
   "cell_type": "code",
   "execution_count": 34,
   "metadata": {},
   "outputs": [],
   "source": [
    "censo17=censo17.apply(education_level, axis=1)\n",
    "\n",
    "censo18=censo18.apply(education_level, axis=1)"
   ]
  },
  {
   "cell_type": "code",
   "execution_count": 35,
   "metadata": {},
   "outputs": [],
   "source": [
    "censo17['TARGET'] = censo17['TARGET'].astype('int64')"
   ]
  },
  {
   "cell_type": "code",
   "execution_count": 36,
   "metadata": {},
   "outputs": [
    {
     "data": {
      "text/html": [
       "<div>\n",
       "<style scoped>\n",
       "    .dataframe tbody tr th:only-of-type {\n",
       "        vertical-align: middle;\n",
       "    }\n",
       "\n",
       "    .dataframe tbody tr th {\n",
       "        vertical-align: top;\n",
       "    }\n",
       "\n",
       "    .dataframe thead th {\n",
       "        text-align: right;\n",
       "    }\n",
       "</style>\n",
       "<table border=\"1\" class=\"dataframe\">\n",
       "  <thead>\n",
       "    <tr style=\"text-align: right;\">\n",
       "      <th></th>\n",
       "      <th>CO_ESCOLA</th>\n",
       "      <th>TARGET</th>\n",
       "      <th>NU_ANO_CENSO</th>\n",
       "      <th>CO_PESSOA_FISICA</th>\n",
       "      <th>IN_ESPECIALIZACAO</th>\n",
       "      <th>IN_MESTRADO</th>\n",
       "      <th>IN_DOUTORADO</th>\n",
       "      <th>CO_ENTIDADE</th>\n",
       "      <th>TITULACAO</th>\n",
       "    </tr>\n",
       "  </thead>\n",
       "  <tbody>\n",
       "    <tr>\n",
       "      <td>0</td>\n",
       "      <td>35001259.0</td>\n",
       "      <td>0</td>\n",
       "      <td>2017.0</td>\n",
       "      <td>1.151817e+11</td>\n",
       "      <td>1.0</td>\n",
       "      <td>0.0</td>\n",
       "      <td>0.0</td>\n",
       "      <td>35001259.0</td>\n",
       "      <td>1</td>\n",
       "    </tr>\n",
       "    <tr>\n",
       "      <td>1</td>\n",
       "      <td>35001259.0</td>\n",
       "      <td>0</td>\n",
       "      <td>2017.0</td>\n",
       "      <td>1.222428e+11</td>\n",
       "      <td>1.0</td>\n",
       "      <td>0.0</td>\n",
       "      <td>0.0</td>\n",
       "      <td>35001259.0</td>\n",
       "      <td>1</td>\n",
       "    </tr>\n",
       "  </tbody>\n",
       "</table>\n",
       "</div>"
      ],
      "text/plain": [
       "    CO_ESCOLA  TARGET  NU_ANO_CENSO  CO_PESSOA_FISICA  IN_ESPECIALIZACAO  \\\n",
       "0  35001259.0       0        2017.0      1.151817e+11                1.0   \n",
       "1  35001259.0       0        2017.0      1.222428e+11                1.0   \n",
       "\n",
       "   IN_MESTRADO  IN_DOUTORADO  CO_ENTIDADE TITULACAO  \n",
       "0          0.0           0.0   35001259.0         1  \n",
       "1          0.0           0.0   35001259.0         1  "
      ]
     },
     "execution_count": 36,
     "metadata": {},
     "output_type": "execute_result"
    }
   ],
   "source": [
    "censo17.head(2)"
   ]
  },
  {
   "cell_type": "code",
   "execution_count": 37,
   "metadata": {},
   "outputs": [
    {
     "data": {
      "text/html": [
       "<div>\n",
       "<style scoped>\n",
       "    .dataframe tbody tr th:only-of-type {\n",
       "        vertical-align: middle;\n",
       "    }\n",
       "\n",
       "    .dataframe tbody tr th {\n",
       "        vertical-align: top;\n",
       "    }\n",
       "\n",
       "    .dataframe thead th {\n",
       "        text-align: right;\n",
       "    }\n",
       "</style>\n",
       "<table border=\"1\" class=\"dataframe\">\n",
       "  <thead>\n",
       "    <tr style=\"text-align: right;\">\n",
       "      <th></th>\n",
       "      <th>CO_ESCOLA</th>\n",
       "      <th>TARGET</th>\n",
       "      <th>NU_ANO_CENSO</th>\n",
       "      <th>ID_DOCENTE</th>\n",
       "      <th>IN_ESPECIALIZACAO</th>\n",
       "      <th>IN_MESTRADO</th>\n",
       "      <th>IN_DOUTORADO</th>\n",
       "      <th>CO_ENTIDADE</th>\n",
       "      <th>TITULACAO</th>\n",
       "    </tr>\n",
       "  </thead>\n",
       "  <tbody>\n",
       "    <tr>\n",
       "      <td>0</td>\n",
       "      <td>23077140.0</td>\n",
       "      <td>0</td>\n",
       "      <td>2018</td>\n",
       "      <td>00E3AA8026744AEEC6D35E11B082B9D9</td>\n",
       "      <td>0.0</td>\n",
       "      <td>0.0</td>\n",
       "      <td>0.0</td>\n",
       "      <td>23077140</td>\n",
       "      <td>0</td>\n",
       "    </tr>\n",
       "    <tr>\n",
       "      <td>1</td>\n",
       "      <td>23077140.0</td>\n",
       "      <td>0</td>\n",
       "      <td>2018</td>\n",
       "      <td>0FA5A09CB34A5FEC043158EE31F812F6</td>\n",
       "      <td>0.0</td>\n",
       "      <td>0.0</td>\n",
       "      <td>0.0</td>\n",
       "      <td>23077140</td>\n",
       "      <td>0</td>\n",
       "    </tr>\n",
       "  </tbody>\n",
       "</table>\n",
       "</div>"
      ],
      "text/plain": [
       "    CO_ESCOLA  TARGET  NU_ANO_CENSO                        ID_DOCENTE  \\\n",
       "0  23077140.0       0          2018  00E3AA8026744AEEC6D35E11B082B9D9   \n",
       "1  23077140.0       0          2018  0FA5A09CB34A5FEC043158EE31F812F6   \n",
       "\n",
       "   IN_ESPECIALIZACAO  IN_MESTRADO  IN_DOUTORADO  CO_ENTIDADE TITULACAO  \n",
       "0                0.0          0.0           0.0     23077140         0  \n",
       "1                0.0          0.0           0.0     23077140         0  "
      ]
     },
     "execution_count": 37,
     "metadata": {},
     "output_type": "execute_result"
    }
   ],
   "source": [
    "censo18.head(2)"
   ]
  },
  {
   "cell_type": "markdown",
   "metadata": {},
   "source": [
    "##### We will transform the Categorical ENEM database features from student grain to school grain (Decision Grain).  Instead the pratical use of MODE, it will use the regression on the attribute distribution, having its histogram relative frequencies as input and the  decision level TARGET as output.  "
   ]
  },
  {
   "cell_type": "code",
   "execution_count": 38,
   "metadata": {},
   "outputs": [],
   "source": [
    "#Creating the dataframe with the relative frequencies and target. Ready to applying regeression\n",
    "def relative_frequencies(df, colum):\n",
    "    root = (['CO_ESCOLA', 'TARGET'])\n",
    "    df = df [root + [colum]]\n",
    "    df = pd.get_dummies(df, columns=[colum])\n",
    "    filter_col = [col for col in df if col.startswith(colum)]\n",
    "    print (filter_col)\n",
    "    for x in filter_col:            \n",
    "        df[x] = df.groupby(df['CO_ESCOLA'])[x].transform(sum)/ df.groupby(df['CO_ESCOLA'])[x].transform('count')\n",
    "        \n",
    "    return df"
   ]
  },
  {
   "cell_type": "code",
   "execution_count": 39,
   "metadata": {},
   "outputs": [],
   "source": [
    "def LR_student_to_school (df1, df2, columns):\n",
    "    result = pd.DataFrame()\n",
    "    for x in columns:\n",
    "        temp = relative_frequencies(df1,df1[x].name)\n",
    "        temp.drop_duplicates('CO_ESCOLA', inplace=True)\n",
    "        temp = temp.loc[:, ~temp.columns.isin(['CO_ESCOLA'])]\n",
    "        temp_DATA = temp.loc[:, temp.columns != 'TARGET']\n",
    "        temp_TARGET = temp.loc[:, temp.columns == 'TARGET']\n",
    "\n",
    "        \n",
    "        LR_temp = LogisticRegression()\n",
    "        LR_temp.fit(temp_DATA, temp_TARGET)\n",
    "      \n",
    "        \n",
    "        temp = relative_frequencies(df2,df2[x].name)\n",
    "        temp.drop_duplicates('CO_ESCOLA', inplace=True) \n",
    "        temp = temp.reset_index(drop=True)\n",
    "        temp2 = temp.loc[:, ~temp.columns.isin(['CO_ESCOLA'])]\n",
    "        temp_DATA = temp2.loc[:, temp2.columns != 'TARGET']\n",
    "        \n",
    "        result[x] = LR_temp.predict_proba(temp_DATA)[:,1]\n",
    "        \n",
    "       \n",
    "    result = pd.merge(result, temp.CO_ESCOLA, left_index=True, right_index=True)\n",
    "    \n",
    "    return result, LR_temp"
   ]
  },
  {
   "cell_type": "code",
   "execution_count": 40,
   "metadata": {},
   "outputs": [
    {
     "name": "stdout",
     "output_type": "stream",
     "text": [
      "['Q001_A', 'Q001_B', 'Q001_C', 'Q001_D', 'Q001_E', 'Q001_F', 'Q001_G', 'Q001_H']\n",
      "['Q001_A', 'Q001_B', 'Q001_C', 'Q001_D', 'Q001_E', 'Q001_F', 'Q001_G', 'Q001_H']\n",
      "['Q002_A', 'Q002_B', 'Q002_C', 'Q002_D', 'Q002_E', 'Q002_F', 'Q002_G', 'Q002_H']\n",
      "['Q002_A', 'Q002_B', 'Q002_C', 'Q002_D', 'Q002_E', 'Q002_F', 'Q002_G', 'Q002_H']\n",
      "['Q003_A', 'Q003_B', 'Q003_C', 'Q003_D', 'Q003_E', 'Q003_F']\n",
      "['Q003_A', 'Q003_B', 'Q003_C', 'Q003_D', 'Q003_E', 'Q003_F']\n",
      "['Q004_A', 'Q004_B', 'Q004_C', 'Q004_D', 'Q004_E', 'Q004_F']\n",
      "['Q004_A', 'Q004_B', 'Q004_C', 'Q004_D', 'Q004_E', 'Q004_F']\n",
      "['Q006_A', 'Q006_B', 'Q006_C', 'Q006_D', 'Q006_E', 'Q006_F', 'Q006_G', 'Q006_H', 'Q006_I', 'Q006_J', 'Q006_K', 'Q006_L', 'Q006_M', 'Q006_N', 'Q006_O', 'Q006_P', 'Q006_Q']\n",
      "['Q006_A', 'Q006_B', 'Q006_C', 'Q006_D', 'Q006_E', 'Q006_F', 'Q006_G', 'Q006_H', 'Q006_I', 'Q006_J', 'Q006_K', 'Q006_L', 'Q006_M', 'Q006_N', 'Q006_O', 'Q006_P', 'Q006_Q']\n",
      "['Q007_A', 'Q007_B', 'Q007_C', 'Q007_D']\n",
      "['Q007_A', 'Q007_B', 'Q007_C', 'Q007_D']\n",
      "['Q008_A', 'Q008_B', 'Q008_C', 'Q008_D', 'Q008_E']\n",
      "['Q008_A', 'Q008_B', 'Q008_C', 'Q008_D', 'Q008_E']\n",
      "['Q009_A', 'Q009_B', 'Q009_C', 'Q009_D', 'Q009_E']\n",
      "['Q009_A', 'Q009_B', 'Q009_C', 'Q009_D', 'Q009_E']\n",
      "['Q010_A', 'Q010_B', 'Q010_C', 'Q010_D', 'Q010_E']\n",
      "['Q010_A', 'Q010_B', 'Q010_C', 'Q010_D', 'Q010_E']\n",
      "['Q011_A', 'Q011_B', 'Q011_C', 'Q011_D', 'Q011_E']\n",
      "['Q011_A', 'Q011_B', 'Q011_C', 'Q011_D', 'Q011_E']\n",
      "['Q012_A', 'Q012_B', 'Q012_C', 'Q012_D', 'Q012_E']\n",
      "['Q012_A', 'Q012_B', 'Q012_C', 'Q012_D', 'Q012_E']\n",
      "['Q013_A', 'Q013_B', 'Q013_C', 'Q013_D', 'Q013_E']\n",
      "['Q013_A', 'Q013_B', 'Q013_C', 'Q013_D', 'Q013_E']\n",
      "['Q014_A', 'Q014_B', 'Q014_C', 'Q014_D', 'Q014_E']\n",
      "['Q014_A', 'Q014_B', 'Q014_C', 'Q014_D', 'Q014_E']\n",
      "['Q015_A', 'Q015_B', 'Q015_C', 'Q015_D', 'Q015_E']\n",
      "['Q015_A', 'Q015_B', 'Q015_C', 'Q015_D', 'Q015_E']\n",
      "['Q016_A', 'Q016_B', 'Q016_C', 'Q016_D', 'Q016_E']\n",
      "['Q016_A', 'Q016_B', 'Q016_C', 'Q016_D', 'Q016_E']\n",
      "['Q017_A', 'Q017_B', 'Q017_C', 'Q017_D', 'Q017_E']\n",
      "['Q017_A', 'Q017_B', 'Q017_C', 'Q017_D', 'Q017_E']\n",
      "['Q019_A', 'Q019_B', 'Q019_C', 'Q019_D', 'Q019_E']\n",
      "['Q019_A', 'Q019_B', 'Q019_C', 'Q019_D', 'Q019_E']\n",
      "['Q022_A', 'Q022_B', 'Q022_C', 'Q022_D', 'Q022_E']\n",
      "['Q022_A', 'Q022_B', 'Q022_C', 'Q022_D', 'Q022_E']\n",
      "['Q024_A', 'Q024_B', 'Q024_C', 'Q024_D', 'Q024_E']\n",
      "['Q024_A', 'Q024_B', 'Q024_C', 'Q024_D', 'Q024_E']\n",
      "['TP_COR_RACA_0', 'TP_COR_RACA_1', 'TP_COR_RACA_2', 'TP_COR_RACA_3', 'TP_COR_RACA_4', 'TP_COR_RACA_5']\n",
      "['TP_COR_RACA_0', 'TP_COR_RACA_1', 'TP_COR_RACA_2', 'TP_COR_RACA_3', 'TP_COR_RACA_4', 'TP_COR_RACA_5']\n"
     ]
    }
   ],
   "source": [
    "category_enem = (['Q001','Q002','Q003','Q004', 'Q006', 'Q007', 'Q008', 'Q009', 'Q010', 'Q011',\n",
    "                  'Q012','Q013','Q014','Q015','Q016','Q017','Q019','Q022','Q024','Q027', 'TP_COR_RACA'])\n",
    "trans_enem_att, model_enem =LR_student_to_school(enem17, enem18, category_enem)"
   ]
  },
  {
   "cell_type": "code",
   "execution_count": 41,
   "metadata": {},
   "outputs": [
    {
     "data": {
      "text/html": [
       "<div>\n",
       "<style scoped>\n",
       "    .dataframe tbody tr th:only-of-type {\n",
       "        vertical-align: middle;\n",
       "    }\n",
       "\n",
       "    .dataframe tbody tr th {\n",
       "        vertical-align: top;\n",
       "    }\n",
       "\n",
       "    .dataframe thead th {\n",
       "        text-align: right;\n",
       "    }\n",
       "</style>\n",
       "<table border=\"1\" class=\"dataframe\">\n",
       "  <thead>\n",
       "    <tr style=\"text-align: right;\">\n",
       "      <th></th>\n",
       "      <th>Q001</th>\n",
       "      <th>Q002</th>\n",
       "      <th>Q003</th>\n",
       "      <th>Q004</th>\n",
       "      <th>Q006</th>\n",
       "      <th>Q007</th>\n",
       "      <th>Q008</th>\n",
       "      <th>Q009</th>\n",
       "      <th>Q010</th>\n",
       "      <th>Q011</th>\n",
       "      <th>Q012</th>\n",
       "      <th>Q013</th>\n",
       "      <th>Q014</th>\n",
       "      <th>Q015</th>\n",
       "      <th>Q016</th>\n",
       "      <th>Q017</th>\n",
       "      <th>Q019</th>\n",
       "      <th>Q022</th>\n",
       "      <th>Q024</th>\n",
       "      <th>TP_COR_RACA</th>\n",
       "      <th>CO_ESCOLA</th>\n",
       "    </tr>\n",
       "  </thead>\n",
       "  <tbody>\n",
       "    <tr>\n",
       "      <td>0</td>\n",
       "      <td>0.283931</td>\n",
       "      <td>0.157451</td>\n",
       "      <td>0.156909</td>\n",
       "      <td>0.351506</td>\n",
       "      <td>0.116585</td>\n",
       "      <td>0.206097</td>\n",
       "      <td>0.069676</td>\n",
       "      <td>0.130245</td>\n",
       "      <td>0.045315</td>\n",
       "      <td>0.267349</td>\n",
       "      <td>0.232611</td>\n",
       "      <td>0.092682</td>\n",
       "      <td>0.246421</td>\n",
       "      <td>0.184577</td>\n",
       "      <td>0.059075</td>\n",
       "      <td>0.225524</td>\n",
       "      <td>0.108885</td>\n",
       "      <td>0.145857</td>\n",
       "      <td>0.008273</td>\n",
       "      <td>0.250447</td>\n",
       "      <td>23077140.0</td>\n",
       "    </tr>\n",
       "    <tr>\n",
       "      <td>1</td>\n",
       "      <td>0.020776</td>\n",
       "      <td>0.033769</td>\n",
       "      <td>0.066963</td>\n",
       "      <td>0.061874</td>\n",
       "      <td>0.073213</td>\n",
       "      <td>0.206097</td>\n",
       "      <td>0.174587</td>\n",
       "      <td>0.119861</td>\n",
       "      <td>0.064260</td>\n",
       "      <td>0.254763</td>\n",
       "      <td>0.271122</td>\n",
       "      <td>0.097124</td>\n",
       "      <td>0.083448</td>\n",
       "      <td>0.189583</td>\n",
       "      <td>0.090719</td>\n",
       "      <td>0.225524</td>\n",
       "      <td>0.263952</td>\n",
       "      <td>0.171994</td>\n",
       "      <td>0.022215</td>\n",
       "      <td>0.176708</td>\n",
       "      <td>23265795.0</td>\n",
       "    </tr>\n",
       "    <tr>\n",
       "      <td>2</td>\n",
       "      <td>0.071532</td>\n",
       "      <td>0.061691</td>\n",
       "      <td>0.089349</td>\n",
       "      <td>0.042417</td>\n",
       "      <td>0.052493</td>\n",
       "      <td>0.218031</td>\n",
       "      <td>0.070148</td>\n",
       "      <td>0.176983</td>\n",
       "      <td>0.074495</td>\n",
       "      <td>0.247557</td>\n",
       "      <td>0.232611</td>\n",
       "      <td>0.109271</td>\n",
       "      <td>0.057278</td>\n",
       "      <td>0.190988</td>\n",
       "      <td>0.106929</td>\n",
       "      <td>0.225524</td>\n",
       "      <td>0.082639</td>\n",
       "      <td>0.067151</td>\n",
       "      <td>0.017159</td>\n",
       "      <td>0.222590</td>\n",
       "      <td>25077759.0</td>\n",
       "    </tr>\n",
       "    <tr>\n",
       "      <td>3</td>\n",
       "      <td>0.070324</td>\n",
       "      <td>0.108594</td>\n",
       "      <td>0.083509</td>\n",
       "      <td>0.059945</td>\n",
       "      <td>0.082846</td>\n",
       "      <td>0.217162</td>\n",
       "      <td>0.133414</td>\n",
       "      <td>0.200174</td>\n",
       "      <td>0.089842</td>\n",
       "      <td>0.249688</td>\n",
       "      <td>0.206573</td>\n",
       "      <td>0.149960</td>\n",
       "      <td>0.115857</td>\n",
       "      <td>0.222453</td>\n",
       "      <td>0.119952</td>\n",
       "      <td>0.225524</td>\n",
       "      <td>0.189647</td>\n",
       "      <td>0.149398</td>\n",
       "      <td>0.044728</td>\n",
       "      <td>0.220640</td>\n",
       "      <td>22022040.0</td>\n",
       "    </tr>\n",
       "    <tr>\n",
       "      <td>4</td>\n",
       "      <td>0.396745</td>\n",
       "      <td>0.388033</td>\n",
       "      <td>0.301175</td>\n",
       "      <td>0.181556</td>\n",
       "      <td>0.303349</td>\n",
       "      <td>0.280790</td>\n",
       "      <td>0.426694</td>\n",
       "      <td>0.202109</td>\n",
       "      <td>0.382995</td>\n",
       "      <td>0.237708</td>\n",
       "      <td>0.236431</td>\n",
       "      <td>0.445859</td>\n",
       "      <td>0.400365</td>\n",
       "      <td>0.274222</td>\n",
       "      <td>0.341398</td>\n",
       "      <td>0.225524</td>\n",
       "      <td>0.289761</td>\n",
       "      <td>0.438642</td>\n",
       "      <td>0.320059</td>\n",
       "      <td>0.185516</td>\n",
       "      <td>35907224.0</td>\n",
       "    </tr>\n",
       "    <tr>\n",
       "      <td>...</td>\n",
       "      <td>...</td>\n",
       "      <td>...</td>\n",
       "      <td>...</td>\n",
       "      <td>...</td>\n",
       "      <td>...</td>\n",
       "      <td>...</td>\n",
       "      <td>...</td>\n",
       "      <td>...</td>\n",
       "      <td>...</td>\n",
       "      <td>...</td>\n",
       "      <td>...</td>\n",
       "      <td>...</td>\n",
       "      <td>...</td>\n",
       "      <td>...</td>\n",
       "      <td>...</td>\n",
       "      <td>...</td>\n",
       "      <td>...</td>\n",
       "      <td>...</td>\n",
       "      <td>...</td>\n",
       "      <td>...</td>\n",
       "      <td>...</td>\n",
       "    </tr>\n",
       "    <tr>\n",
       "      <td>14696</td>\n",
       "      <td>0.019126</td>\n",
       "      <td>0.016940</td>\n",
       "      <td>0.062016</td>\n",
       "      <td>0.026372</td>\n",
       "      <td>0.003976</td>\n",
       "      <td>0.206097</td>\n",
       "      <td>0.049958</td>\n",
       "      <td>0.025095</td>\n",
       "      <td>0.045315</td>\n",
       "      <td>0.267349</td>\n",
       "      <td>0.134824</td>\n",
       "      <td>0.119115</td>\n",
       "      <td>0.077182</td>\n",
       "      <td>0.184577</td>\n",
       "      <td>0.057810</td>\n",
       "      <td>0.225524</td>\n",
       "      <td>0.108885</td>\n",
       "      <td>0.005116</td>\n",
       "      <td>0.010633</td>\n",
       "      <td>0.206509</td>\n",
       "      <td>15048500.0</td>\n",
       "    </tr>\n",
       "    <tr>\n",
       "      <td>14697</td>\n",
       "      <td>0.083311</td>\n",
       "      <td>0.043642</td>\n",
       "      <td>0.083750</td>\n",
       "      <td>0.029935</td>\n",
       "      <td>0.029083</td>\n",
       "      <td>0.206097</td>\n",
       "      <td>0.045461</td>\n",
       "      <td>0.406405</td>\n",
       "      <td>0.045315</td>\n",
       "      <td>0.267349</td>\n",
       "      <td>0.232611</td>\n",
       "      <td>0.085245</td>\n",
       "      <td>0.046390</td>\n",
       "      <td>0.184577</td>\n",
       "      <td>0.057810</td>\n",
       "      <td>0.225524</td>\n",
       "      <td>0.108885</td>\n",
       "      <td>0.005167</td>\n",
       "      <td>0.007652</td>\n",
       "      <td>0.206029</td>\n",
       "      <td>21272778.0</td>\n",
       "    </tr>\n",
       "    <tr>\n",
       "      <td>14698</td>\n",
       "      <td>0.000205</td>\n",
       "      <td>0.000008</td>\n",
       "      <td>0.083750</td>\n",
       "      <td>0.029935</td>\n",
       "      <td>0.001242</td>\n",
       "      <td>0.206097</td>\n",
       "      <td>0.058402</td>\n",
       "      <td>0.008607</td>\n",
       "      <td>0.045315</td>\n",
       "      <td>0.267349</td>\n",
       "      <td>0.034800</td>\n",
       "      <td>0.085245</td>\n",
       "      <td>0.046390</td>\n",
       "      <td>0.184577</td>\n",
       "      <td>0.057810</td>\n",
       "      <td>0.225524</td>\n",
       "      <td>0.026671</td>\n",
       "      <td>0.006399</td>\n",
       "      <td>0.007652</td>\n",
       "      <td>0.152864</td>\n",
       "      <td>21418209.0</td>\n",
       "    </tr>\n",
       "    <tr>\n",
       "      <td>14699</td>\n",
       "      <td>0.000561</td>\n",
       "      <td>0.000122</td>\n",
       "      <td>0.083750</td>\n",
       "      <td>0.029935</td>\n",
       "      <td>0.062230</td>\n",
       "      <td>0.206097</td>\n",
       "      <td>0.035280</td>\n",
       "      <td>0.100899</td>\n",
       "      <td>0.045315</td>\n",
       "      <td>0.258168</td>\n",
       "      <td>0.001477</td>\n",
       "      <td>0.085245</td>\n",
       "      <td>0.046390</td>\n",
       "      <td>0.184577</td>\n",
       "      <td>0.057810</td>\n",
       "      <td>0.225524</td>\n",
       "      <td>0.012810</td>\n",
       "      <td>0.005751</td>\n",
       "      <td>0.007652</td>\n",
       "      <td>0.199847</td>\n",
       "      <td>12023710.0</td>\n",
       "    </tr>\n",
       "    <tr>\n",
       "      <td>14700</td>\n",
       "      <td>0.120958</td>\n",
       "      <td>0.127230</td>\n",
       "      <td>0.377412</td>\n",
       "      <td>0.415497</td>\n",
       "      <td>0.131942</td>\n",
       "      <td>0.206097</td>\n",
       "      <td>0.058402</td>\n",
       "      <td>0.314513</td>\n",
       "      <td>0.062711</td>\n",
       "      <td>0.267349</td>\n",
       "      <td>0.094647</td>\n",
       "      <td>0.357524</td>\n",
       "      <td>0.396036</td>\n",
       "      <td>0.184577</td>\n",
       "      <td>0.057810</td>\n",
       "      <td>0.225524</td>\n",
       "      <td>0.108885</td>\n",
       "      <td>0.005031</td>\n",
       "      <td>0.007652</td>\n",
       "      <td>0.349649</td>\n",
       "      <td>16007360.0</td>\n",
       "    </tr>\n",
       "  </tbody>\n",
       "</table>\n",
       "<p>14701 rows × 21 columns</p>\n",
       "</div>"
      ],
      "text/plain": [
       "           Q001      Q002      Q003      Q004      Q006      Q007      Q008  \\\n",
       "0      0.283931  0.157451  0.156909  0.351506  0.116585  0.206097  0.069676   \n",
       "1      0.020776  0.033769  0.066963  0.061874  0.073213  0.206097  0.174587   \n",
       "2      0.071532  0.061691  0.089349  0.042417  0.052493  0.218031  0.070148   \n",
       "3      0.070324  0.108594  0.083509  0.059945  0.082846  0.217162  0.133414   \n",
       "4      0.396745  0.388033  0.301175  0.181556  0.303349  0.280790  0.426694   \n",
       "...         ...       ...       ...       ...       ...       ...       ...   \n",
       "14696  0.019126  0.016940  0.062016  0.026372  0.003976  0.206097  0.049958   \n",
       "14697  0.083311  0.043642  0.083750  0.029935  0.029083  0.206097  0.045461   \n",
       "14698  0.000205  0.000008  0.083750  0.029935  0.001242  0.206097  0.058402   \n",
       "14699  0.000561  0.000122  0.083750  0.029935  0.062230  0.206097  0.035280   \n",
       "14700  0.120958  0.127230  0.377412  0.415497  0.131942  0.206097  0.058402   \n",
       "\n",
       "           Q009      Q010      Q011      Q012      Q013      Q014      Q015  \\\n",
       "0      0.130245  0.045315  0.267349  0.232611  0.092682  0.246421  0.184577   \n",
       "1      0.119861  0.064260  0.254763  0.271122  0.097124  0.083448  0.189583   \n",
       "2      0.176983  0.074495  0.247557  0.232611  0.109271  0.057278  0.190988   \n",
       "3      0.200174  0.089842  0.249688  0.206573  0.149960  0.115857  0.222453   \n",
       "4      0.202109  0.382995  0.237708  0.236431  0.445859  0.400365  0.274222   \n",
       "...         ...       ...       ...       ...       ...       ...       ...   \n",
       "14696  0.025095  0.045315  0.267349  0.134824  0.119115  0.077182  0.184577   \n",
       "14697  0.406405  0.045315  0.267349  0.232611  0.085245  0.046390  0.184577   \n",
       "14698  0.008607  0.045315  0.267349  0.034800  0.085245  0.046390  0.184577   \n",
       "14699  0.100899  0.045315  0.258168  0.001477  0.085245  0.046390  0.184577   \n",
       "14700  0.314513  0.062711  0.267349  0.094647  0.357524  0.396036  0.184577   \n",
       "\n",
       "           Q016      Q017      Q019      Q022      Q024  TP_COR_RACA  \\\n",
       "0      0.059075  0.225524  0.108885  0.145857  0.008273     0.250447   \n",
       "1      0.090719  0.225524  0.263952  0.171994  0.022215     0.176708   \n",
       "2      0.106929  0.225524  0.082639  0.067151  0.017159     0.222590   \n",
       "3      0.119952  0.225524  0.189647  0.149398  0.044728     0.220640   \n",
       "4      0.341398  0.225524  0.289761  0.438642  0.320059     0.185516   \n",
       "...         ...       ...       ...       ...       ...          ...   \n",
       "14696  0.057810  0.225524  0.108885  0.005116  0.010633     0.206509   \n",
       "14697  0.057810  0.225524  0.108885  0.005167  0.007652     0.206029   \n",
       "14698  0.057810  0.225524  0.026671  0.006399  0.007652     0.152864   \n",
       "14699  0.057810  0.225524  0.012810  0.005751  0.007652     0.199847   \n",
       "14700  0.057810  0.225524  0.108885  0.005031  0.007652     0.349649   \n",
       "\n",
       "        CO_ESCOLA  \n",
       "0      23077140.0  \n",
       "1      23265795.0  \n",
       "2      25077759.0  \n",
       "3      22022040.0  \n",
       "4      35907224.0  \n",
       "...           ...  \n",
       "14696  15048500.0  \n",
       "14697  21272778.0  \n",
       "14698  21418209.0  \n",
       "14699  12023710.0  \n",
       "14700  16007360.0  \n",
       "\n",
       "[14701 rows x 21 columns]"
      ]
     },
     "execution_count": 41,
     "metadata": {},
     "output_type": "execute_result"
    }
   ],
   "source": [
    "trans_enem_att"
   ]
  },
  {
   "cell_type": "code",
   "execution_count": 42,
   "metadata": {},
   "outputs": [
    {
     "name": "stdout",
     "output_type": "stream",
     "text": [
      "['TITULACAO_0', 'TITULACAO_1', 'TITULACAO_2', 'TITULACAO_3']\n",
      "['TITULACAO_0', 'TITULACAO_1', 'TITULACAO_2', 'TITULACAO_3']\n"
     ]
    }
   ],
   "source": [
    "category_censo = (['TITULACAO'])\n",
    "trans_censo_att, model_censo=LR_student_to_school(censo17, censo18, category_censo)"
   ]
  },
  {
   "cell_type": "code",
   "execution_count": 43,
   "metadata": {},
   "outputs": [
    {
     "data": {
      "text/html": [
       "<div>\n",
       "<style scoped>\n",
       "    .dataframe tbody tr th:only-of-type {\n",
       "        vertical-align: middle;\n",
       "    }\n",
       "\n",
       "    .dataframe tbody tr th {\n",
       "        vertical-align: top;\n",
       "    }\n",
       "\n",
       "    .dataframe thead th {\n",
       "        text-align: right;\n",
       "    }\n",
       "</style>\n",
       "<table border=\"1\" class=\"dataframe\">\n",
       "  <thead>\n",
       "    <tr style=\"text-align: right;\">\n",
       "      <th></th>\n",
       "      <th>TITULACAO</th>\n",
       "      <th>CO_ESCOLA</th>\n",
       "    </tr>\n",
       "  </thead>\n",
       "  <tbody>\n",
       "    <tr>\n",
       "      <td>0</td>\n",
       "      <td>0.225611</td>\n",
       "      <td>23077140.0</td>\n",
       "    </tr>\n",
       "    <tr>\n",
       "      <td>1</td>\n",
       "      <td>0.189290</td>\n",
       "      <td>23265795.0</td>\n",
       "    </tr>\n",
       "    <tr>\n",
       "      <td>2</td>\n",
       "      <td>0.367590</td>\n",
       "      <td>25077759.0</td>\n",
       "    </tr>\n",
       "    <tr>\n",
       "      <td>3</td>\n",
       "      <td>0.259014</td>\n",
       "      <td>22022040.0</td>\n",
       "    </tr>\n",
       "    <tr>\n",
       "      <td>4</td>\n",
       "      <td>0.251320</td>\n",
       "      <td>35907224.0</td>\n",
       "    </tr>\n",
       "    <tr>\n",
       "      <td>...</td>\n",
       "      <td>...</td>\n",
       "      <td>...</td>\n",
       "    </tr>\n",
       "    <tr>\n",
       "      <td>14682</td>\n",
       "      <td>0.362122</td>\n",
       "      <td>15048500.0</td>\n",
       "    </tr>\n",
       "    <tr>\n",
       "      <td>14683</td>\n",
       "      <td>0.198454</td>\n",
       "      <td>21272778.0</td>\n",
       "    </tr>\n",
       "    <tr>\n",
       "      <td>14684</td>\n",
       "      <td>0.190689</td>\n",
       "      <td>21418209.0</td>\n",
       "    </tr>\n",
       "    <tr>\n",
       "      <td>14685</td>\n",
       "      <td>0.185643</td>\n",
       "      <td>12023710.0</td>\n",
       "    </tr>\n",
       "    <tr>\n",
       "      <td>14686</td>\n",
       "      <td>0.194111</td>\n",
       "      <td>16007360.0</td>\n",
       "    </tr>\n",
       "  </tbody>\n",
       "</table>\n",
       "<p>14687 rows × 2 columns</p>\n",
       "</div>"
      ],
      "text/plain": [
       "       TITULACAO   CO_ESCOLA\n",
       "0       0.225611  23077140.0\n",
       "1       0.189290  23265795.0\n",
       "2       0.367590  25077759.0\n",
       "3       0.259014  22022040.0\n",
       "4       0.251320  35907224.0\n",
       "...          ...         ...\n",
       "14682   0.362122  15048500.0\n",
       "14683   0.198454  21272778.0\n",
       "14684   0.190689  21418209.0\n",
       "14685   0.185643  12023710.0\n",
       "14686   0.194111  16007360.0\n",
       "\n",
       "[14687 rows x 2 columns]"
      ]
     },
     "execution_count": 43,
     "metadata": {},
     "output_type": "execute_result"
    }
   ],
   "source": [
    "trans_censo_att"
   ]
  },
  {
   "cell_type": "code",
   "execution_count": 44,
   "metadata": {},
   "outputs": [],
   "source": [
    "#trans_enem_att.to_csv(\"trans_enem_att.csv\")\n",
    "#trans_censo_att.to_csv(\"trans_censo_att.csv\")"
   ]
  },
  {
   "cell_type": "code",
   "execution_count": 52,
   "metadata": {},
   "outputs": [],
   "source": [
    "trans_regress_att = pd.merge(trans_enem_att, trans_censo_att , left_on='CO_ESCOLA', right_on='CO_ESCOLA', how='right')"
   ]
  },
  {
   "cell_type": "code",
   "execution_count": 56,
   "metadata": {},
   "outputs": [],
   "source": [
    "trans_regress_att.to_csv(\"trans_regress_att.csv\")"
   ]
  },
  {
   "cell_type": "code",
   "execution_count": null,
   "metadata": {},
   "outputs": [],
   "source": []
  }
 ],
 "metadata": {
  "kernelspec": {
   "display_name": "Python 3",
   "language": "python",
   "name": "python3"
  },
  "language_info": {
   "codemirror_mode": {
    "name": "ipython",
    "version": 3
   },
   "file_extension": ".py",
   "mimetype": "text/x-python",
   "name": "python",
   "nbconvert_exporter": "python",
   "pygments_lexer": "ipython3",
   "version": "3.7.4"
  }
 },
 "nbformat": 4,
 "nbformat_minor": 4
}
